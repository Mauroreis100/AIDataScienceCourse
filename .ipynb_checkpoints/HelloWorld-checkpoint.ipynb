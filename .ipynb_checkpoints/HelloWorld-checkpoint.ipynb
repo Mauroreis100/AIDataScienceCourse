{
 "cells": [
  {
   "cell_type": "code",
   "execution_count": 1,
   "id": "ee17d006-f4f0-475c-9487-41805bda73ca",
   "metadata": {},
   "outputs": [
    {
     "name": "stdout",
     "output_type": "stream",
     "text": [
      "Hello World\n"
     ]
    }
   ],
   "source": [
    "print(\"Hello World\")"
   ]
  },
  {
   "cell_type": "markdown",
   "id": "4c7390ac-605d-4efe-a9ff-bd62c419dd95",
   "metadata": {},
   "source": [
    "# Testando, esta é a primeira vez que uso Jupyter"
   ]
  },
  {
   "cell_type": "code",
   "execution_count": null,
   "id": "91fbf174-b888-4b47-bdd6-db6fd9d4a3fd",
   "metadata": {},
   "outputs": [],
   "source": []
  }
 ],
 "metadata": {
  "kernelspec": {
   "display_name": "Python 3 (ipykernel)",
   "language": "python",
   "name": "python3"
  },
  "language_info": {
   "codemirror_mode": {
    "name": "ipython",
    "version": 3
   },
   "file_extension": ".py",
   "mimetype": "text/x-python",
   "name": "python",
   "nbconvert_exporter": "python",
   "pygments_lexer": "ipython3",
   "version": "3.10.12"
  }
 },
 "nbformat": 4,
 "nbformat_minor": 5
}
