{
 "cells": [
  {
   "cell_type": "markdown",
   "metadata": {
    "id": "HHH04vZ0CIY0"
   },
   "source": [
    "# Linear Regression\n",
    "1.About this Sprint\n",
    "* The purpose of this Sprint\n",
    "* Understanding linear regression through scratch\n",
    "* Get used to object-oriented implementation\n",
    "Allow formulas to be incorporated into code\n",
    "\n",
    "## How to learn\n",
    "After implementing linear regression with scratch, we will train and verify."
   ]
  },
  {
   "cell_type": "markdown",
   "metadata": {},
   "source": [
    "## Scratch Linear Regression\n",
    "We will create a class of linear regression from scratch. We will implement the algorithm using only the minimum library such as NumPy.\n",
    "\n",
    "The template is prepared below. Add some code to this ScratchLinearRegression class.\n",
    "\n"
   ]
  },
  {
   "cell_type": "code",
   "execution_count": null,
   "metadata": {},
   "outputs": [],
   "source": []
  },
  {
   "cell_type": "code",
   "execution_count": 27,
   "metadata": {
    "id": "k-lbOrdkQQP7"
   },
   "outputs": [],
   "source": [
    "import numpy as np\n",
    "import pandas as pd\n",
    "class ScratchLinearRegression():\n",
    "    \"\"\"\n",
    "    Scratch implementation of linear regression\n",
    "    \n",
    "    Parameters\n",
    "    ----------\n",
    "    num_iter : int\n",
    "      Number of iterations\n",
    "    lr : float\n",
    "      Learning rate\n",
    "    no_bias : bool\n",
    "      True if no bias term is included\n",
    "    verbose : bool\n",
    "      True to output the learning process\n",
    "    \n",
    "    Attributes\n",
    "    ----------\n",
    "    self.coef_ : ndarray, shape (n_features,)\n",
    "      Parameters\n",
    "    self.loss : ndarray, shape (self.iter,)\n",
    "      Record losses on training data\n",
    "    self.val_loss : ndarray, shape (self.iter,)\n",
    "      Record loss on validation data\n",
    "    \"\"\"\n",
    "    def _linear_hypothesis(self, X):\n",
    "        \"\"\"\n",
    "        Compute a linear hypothetical function\n",
    "        Parameters\n",
    "        ----------\n",
    "        X : The following forms of ndarray, shape (n_samples, n_features)\n",
    "          Training data\n",
    "        Returns\n",
    "        -------\n",
    "          ndarray, shape (n_samples, 1)\n",
    "          Estimated result by linear hypothetical function\n",
    "        \"\"\"\n",
    "        y_hyp = np.dot(X, self.theta.T)\n",
    "        return y_hyp\n",
    "    def _gradient_descent(self, X, y, y_hyp):\n",
    "        \"\"\"\n",
    "        Update new theta j in the steepest decent method\n",
    "        Parameters\n",
    "        ----------\n",
    "        X: ndarray, shape (n_samples, n_features)\n",
    "            Training data\n",
    "        y: ndarray, shape (n_samples,)\n",
    "            Correct answer value of training data\n",
    "        y_hyp: ndarray, shape (n_samples, 1)\n",
    "        Returns\n",
    "        -------\n",
    "        update_theta: ndarray, shape (n_features, 1)\n",
    "          New theta value\n",
    "        \"\"\"\n",
    "        n_samples = X.shape[0]\n",
    "        update_theta = self.theta - (self.lr * np.dot((y_hyp - y), X) / n_samples)\n",
    "        return update_theta\n",
    "\n",
    "    def __init__(self, num_iter=1000, lr=0.01, no_bias=False, verbose=False):\n",
    "        self.iter = num_iter\n",
    "        self.lr = lr\n",
    "        self.no_bias = no_bias\n",
    "        self.verbose = verbose\n",
    "        self.loss = np.zeros(self.iter)\n",
    "        self.val_loss = np.zeros(self.iter)\n",
    "        \n",
    "    def fit(self, X, y, X_val=None, y_val=None):\n",
    "        \"\"\"\n",
    "        Learn linear regression. If validation data is entered, \n",
    "        the loss and accuracy for it are also calculated for each iteration.\n",
    "        Parameters\n",
    "        ----------\n",
    "        X : ndarray, shape (n_samples, n_features)\n",
    "            Features of training data\n",
    "        y : ndarray, shape (n_samples,)\n",
    "            Correct answer value of training data\n",
    "        X_val : ndarray, shape (n_samples, n_features)\n",
    "            Features of verification data\n",
    "        y_val : ndarray, shape (n_samples,)\n",
    "            Correct value of verification data\n",
    "        \"\"\"\n",
    "        n_samples = X.shape[0]\n",
    "        n_features = X.shape[1]\n",
    "        \n",
    "        if not self.no_bias:\n",
    "            X = np.hstack([np.ones([n_samples, 1]), X])\n",
    "        \n",
    "       \n",
    "        self.theta = np.random.rand(n_features + (1 - self.no_bias))\n",
    "        \n",
    "        for i in range(self.iter):\n",
    "            y_hyp = self._linear_hypothesis(X)\n",
    "            self.theta = self._gradient_descent(X, y, y_hyp)\n",
    "            self.loss[i] = self._loss_function(y_hyp, y)\n",
    "            \n",
    "            if X_val is not None and y_val is not None:\n",
    "                y_predict = self.predict(X_val)\n",
    "                self.val_loss[i] = self._loss_function(y_predict, y_val)\n",
    "                \n",
    "        if self.verbose:\n",
    "            print(\"Loss: {}\".format(self.loss))\n",
    "            print(\"Val_loss: {}\".format(self.val_loss))\n",
    "        pass\n",
    "        \n",
    "    def predict(self, X):\n",
    "        \"\"\"\n",
    "        Estimate using linear regression.\n",
    "        Parameters\n",
    "        ----------\n",
    "        X : The following forms of ndarray, shape (n_samples, n_features)\n",
    "            sample\n",
    "        Returns\n",
    "        -------\n",
    "            ndarray, shape (n_samples, 1)\n",
    "            Estimated result by linear regression\n",
    "        \"\"\"\n",
    "        if not self.no_bias:\n",
    "            n_samples = X.shape[0]\n",
    "            X = np.hstack([np.ones([n_samples, 1]), X])\n",
    "        return np.dot(X, self.theta.T)\n",
    "    def _loss_function(self, y_pred, y):\n",
    "        \"\"\"\n",
    "        Calculation of objective function.\n",
    "        Parameters\n",
    "        ----------\n",
    "        y_pred : The following forms of ndarray, shape (n_samples,)\n",
    "          Estimated value\n",
    "        y : The following forms of ndarray, shape (n_samples,)\n",
    "          Correct answer value\n",
    "        Returns\n",
    "        ----------\n",
    "        loss: numpy.float\n",
    "          Result of the loss function\n",
    "        \"\"\"\n",
    "        loss = np.mean((y_pred - y) ** 2)\n",
    "        return loss\n",
    "    def MSE(y_pred, y):\n",
    "        \"\"\"\n",
    "        Calculation of mean square error\n",
    "        Parameters\n",
    "        ----------\n",
    "        y_pred : The following forms of ndarray, shape (n_samples,)\n",
    "          Estimated value\n",
    "        y : The following forms of ndarray, shape (n_samples,)\n",
    "          Correct answer value\n",
    "        Returns\n",
    "        ----------\n",
    "        mse : numpy.float\n",
    "          Mean squared error\n",
    "        \"\"\"\n",
    "        n_samples = y.shape[0]\n",
    "        mse = np.mean((y_pred - y)[1:] ** 2)\n",
    "        return mse\n"
   ]
  },
  {
   "cell_type": "markdown",
   "metadata": {
    "id": "uUDNLF81WPLQ"
   },
   "source": [
    "# 【problem1】Hypothetical function\n",
    "\n"
   ]
  },
  {
   "cell_type": "markdown",
   "metadata": {},
   "source": [
    "Implement the linear regression hypothetical function represented by the following formula. I have prepared a method template _linear_hypothesis\n",
    "$\n",
    "h_\\theta(x) = \\theta_0 x_0 + \\theta_1 x_1 + \\dots + \\theta_j x_j + \\dots + \\theta_n x_n \\quad (x_0 = 1)\n",
    "$\n",
    "\n"
   ]
  },
  {
   "cell_type": "code",
   "execution_count": null,
   "metadata": {},
   "outputs": [],
   "source": [
    "  \n"
   ]
  },
  {
   "cell_type": "markdown",
   "metadata": {
    "id": "TfLXECiOWfHj"
   },
   "source": [
    "# 【problem2】Steepest descent\n",
    "Implement the steepest descent method for training. Add a method _gradient_descent that updates the parameters as in the following equation, and\n",
    "Please it call from the fit method.\n",
    "def _gradient_descent\n",
    "\n",
    "$\\theta_j := \\theta_j - \\alpha \\cdot \\frac{1}{m} \\sum_{i=1}^{m} \\left[ \\left( h_\\theta(x^{(i)}) - y^{(i)} \\right) \\cdot x_j^{(i)} \\right]\n",
    "$"
   ]
  },
  {
   "cell_type": "code",
   "execution_count": null,
   "metadata": {},
   "outputs": [],
   "source": []
  },
  {
   "cell_type": "markdown",
   "metadata": {
    "id": "rKUb_UoQWsWl"
   },
   "source": [
    "# 【problem 3】Estimated\n",
    "Please implement the estimation mechanism. Add it to the predict method included in the template of the ScratchLinearRegression class.\n",
    "def fit(self, X, y, X_val=None, y_val=None), def predict(self, X)\n",
    "\n",
    "$h_\\theta(x) = \\theta^T \\cdot x\n",
    "$"
   ]
  },
  {
   "cell_type": "markdown",
   "metadata": {
    "id": "5KsKROTHZAMB"
   },
   "source": [
    "# 【problem 4】Mean squared error\n",
    "\n",
    "Create a function of mean square error (MSE) used as an index value for linear regression.\n",
    "\n",
    "Since the mean square error function is a function that can be used for regression problems in general, create it as a separate function instead of the method of the ScratchLinearRegression class. We have a template.\n",
    "\n",
    "def MSE(y_pred, y)\n",
    "\n",
    "$L(\\theta) = \\frac{1}{m} \\sum_{i=1}^{m} \\left( h_\\theta(x^{(i)}) - y^{(i)} \\right)^2\n",
    "$"
   ]
  },
  {
   "cell_type": "code",
   "execution_count": null,
   "metadata": {},
   "outputs": [],
   "source": []
  },
  {
   "cell_type": "code",
   "execution_count": null,
   "metadata": {},
   "outputs": [],
   "source": []
  },
  {
   "cell_type": "markdown",
   "metadata": {
    "id": "xpFexIieZrWu"
   },
   "source": [
    "# 【problem 5】Objective function\n",
    "Implement the objective function (loss function) of linear regression represented by the following formula and be sure to record this inself.loss,self.val_loss.\n",
    "def _loss_function(self, y_pred, y)\n",
    "\n",
    "$\n",
    "J(\\theta) = \\frac{1}{2m} \\sum_{i=1}^{m} \\left( h_\\theta(x^{(i)}) - y^{(i)} \\right)^2\n",
    "$"
   ]
  },
  {
   "cell_type": "code",
   "execution_count": null,
   "metadata": {},
   "outputs": [],
   "source": []
  },
  {
   "cell_type": "code",
   "execution_count": 33,
   "metadata": {
    "colab": {
     "base_uri": "https://localhost:8080/"
    },
    "id": "O5iwpjdvc4sI",
    "outputId": "d8409804-53f1-46b5-8be6-e6b9673308d8"
   },
   "outputs": [
    {
     "data": {
      "text/plain": [
       "(5, 2)"
      ]
     },
     "execution_count": 33,
     "metadata": {},
     "output_type": "execute_result"
    }
   ],
   "source": [
    "X = np.array([\n",
    "    [1, 2],\n",
    "    [3, 4],\n",
    "    [5, 6],\n",
    "    [7, 8],\n",
    "    [9, 10]\n",
    "])\n",
    "X.shape\n"
   ]
  },
  {
   "cell_type": "code",
   "execution_count": 34,
   "metadata": {
    "colab": {
     "base_uri": "https://localhost:8080/"
    },
    "id": "sYuBZXh5dE-N",
    "outputId": "791991d7-6118-4d45-b6d9-54cd98b90c98"
   },
   "outputs": [
    {
     "data": {
      "text/plain": [
       "(5,)"
      ]
     },
     "execution_count": 34,
     "metadata": {},
     "output_type": "execute_result"
    }
   ],
   "source": [
    "# Let y = 2x1 + 1x2\n",
    "y = np.array([4, 10, 16, 22, 28])\n",
    "y.shape"
   ]
  },
  {
   "cell_type": "code",
   "execution_count": 35,
   "metadata": {
    "id": "VmDSL2FvdLSR"
   },
   "outputs": [],
   "source": [
    "slr = ScratchLinearRegression(100, 0.01, False, True)"
   ]
  },
  {
   "cell_type": "code",
   "execution_count": 36,
   "metadata": {
    "colab": {
     "base_uri": "https://localhost:8080/"
    },
    "id": "iTX0awoedTYl",
    "outputId": "a61951b8-1a45-46be-a12a-23bf9d6b7b3a"
   },
   "outputs": [
    {
     "name": "stdout",
     "output_type": "stream",
     "text": [
      "Loss: [86.27035599  4.83663187  0.78042538  0.5752236   0.56170214  0.55774078\n",
      "  0.5542755   0.55085507  0.54745691  0.54407977  0.54072346  0.53738786\n",
      "  0.53407284  0.53077827  0.52750402  0.52424997  0.52101599  0.51780196\n",
      "  0.51460776  0.51143326  0.50827834  0.50514289  0.50202678  0.49892989\n",
      "  0.4958521   0.49279331  0.48975338  0.4867322   0.48372966  0.48074564\n",
      "  0.47778003  0.47483271  0.47190358  0.46899251  0.46609941  0.46322414\n",
      "  0.46036662  0.45752672  0.45470434  0.45189938  0.44911171  0.44634125\n",
      "  0.44358787  0.44085148  0.43813196  0.43542923  0.43274316  0.43007367\n",
      "  0.42742064  0.42478398  0.42216359  0.41955936  0.41697119  0.41439899\n",
      "  0.41184266  0.40930209  0.4067772   0.40426789  0.40177405  0.3992956\n",
      "  0.39683243  0.39438446  0.3919516   0.38953374  0.38713079  0.38474267\n",
      "  0.38236928  0.38001053  0.37766633  0.37533659  0.37302123  0.37072015\n",
      "  0.36843326  0.36616048  0.36390172  0.36165689  0.35942591  0.35720869\n",
      "  0.35500515  0.35281521  0.35063877  0.34847576  0.34632609  0.34418969\n",
      "  0.34206646  0.33995633  0.33785922  0.33577504  0.33370372  0.33164518\n",
      "  0.32959933  0.32756611  0.32554543  0.32353721  0.32154139  0.31955787\n",
      "  0.31758659  0.31562747  0.31368044  0.31174541]\n",
      "Val_loss: [0. 0. 0. 0. 0. 0. 0. 0. 0. 0. 0. 0. 0. 0. 0. 0. 0. 0. 0. 0. 0. 0. 0. 0.\n",
      " 0. 0. 0. 0. 0. 0. 0. 0. 0. 0. 0. 0. 0. 0. 0. 0. 0. 0. 0. 0. 0. 0. 0. 0.\n",
      " 0. 0. 0. 0. 0. 0. 0. 0. 0. 0. 0. 0. 0. 0. 0. 0. 0. 0. 0. 0. 0. 0. 0. 0.\n",
      " 0. 0. 0. 0. 0. 0. 0. 0. 0. 0. 0. 0. 0. 0. 0. 0. 0. 0. 0. 0. 0. 0. 0. 0.\n",
      " 0. 0. 0. 0.]\n"
     ]
    }
   ],
   "source": [
    "theta = slr.fit(X, y)"
   ]
  },
  {
   "cell_type": "code",
   "execution_count": 37,
   "metadata": {
    "colab": {
     "base_uri": "https://localhost:8080/"
    },
    "id": "eleYU90FdbbS",
    "outputId": "c4fddef9-2b6e-464e-dcbc-f2c4299866c1"
   },
   "outputs": [
    {
     "data": {
      "text/plain": [
       "array([ 4.95349605, 10.60207149, 16.25064693, 21.89922237, 27.5477978 ])"
      ]
     },
     "execution_count": 37,
     "metadata": {},
     "output_type": "execute_result"
    }
   ],
   "source": [
    "slr_predict = slr.predict(X)\n",
    "slr_predict"
   ]
  },
  {
   "cell_type": "code",
   "execution_count": 38,
   "metadata": {
    "colab": {
     "base_uri": "https://localhost:8080/"
    },
    "id": "6RWs1DFzddDR",
    "outputId": "d9036d7e-0b2f-4443-c604-897f67a4231a"
   },
   "outputs": [
    {
     "data": {
      "text/plain": [
       "0.15998922993502118"
      ]
     },
     "execution_count": 38,
     "metadata": {},
     "output_type": "execute_result"
    }
   ],
   "source": [
    "MSE(y,slr_predict)"
   ]
  },
  {
   "cell_type": "markdown",
   "metadata": {
    "id": "9lTjj-gLdgyL"
   },
   "source": [
    "# Problem 6 Learning and Estimation\n",
    "Learn and estimate scratch implementations from the House Prices competition data provided in Sprint, an introduction to machine learning scratch.\n",
    "\n",
    "Compare this with the scikit-learn implementation and see if it works correctly."
   ]
  },
  {
   "cell_type": "code",
   "execution_count": 9,
   "metadata": {
    "colab": {
     "base_uri": "https://localhost:8080/",
     "height": 300
    },
    "id": "e_HsCHCyd9m0",
    "outputId": "5a146429-49e4-48b2-d3dd-ebb7634920ea"
   },
   "outputs": [
    {
     "data": {
      "text/html": [
       "<div>\n",
       "<style scoped>\n",
       "    .dataframe tbody tr th:only-of-type {\n",
       "        vertical-align: middle;\n",
       "    }\n",
       "\n",
       "    .dataframe tbody tr th {\n",
       "        vertical-align: top;\n",
       "    }\n",
       "\n",
       "    .dataframe thead th {\n",
       "        text-align: right;\n",
       "    }\n",
       "</style>\n",
       "<table border=\"1\" class=\"dataframe\">\n",
       "  <thead>\n",
       "    <tr style=\"text-align: right;\">\n",
       "      <th></th>\n",
       "      <th>Id</th>\n",
       "      <th>MSSubClass</th>\n",
       "      <th>MSZoning</th>\n",
       "      <th>LotFrontage</th>\n",
       "      <th>LotArea</th>\n",
       "      <th>Street</th>\n",
       "      <th>Alley</th>\n",
       "      <th>LotShape</th>\n",
       "      <th>LandContour</th>\n",
       "      <th>Utilities</th>\n",
       "      <th>...</th>\n",
       "      <th>PoolArea</th>\n",
       "      <th>PoolQC</th>\n",
       "      <th>Fence</th>\n",
       "      <th>MiscFeature</th>\n",
       "      <th>MiscVal</th>\n",
       "      <th>MoSold</th>\n",
       "      <th>YrSold</th>\n",
       "      <th>SaleType</th>\n",
       "      <th>SaleCondition</th>\n",
       "      <th>SalePrice</th>\n",
       "    </tr>\n",
       "  </thead>\n",
       "  <tbody>\n",
       "    <tr>\n",
       "      <th>0</th>\n",
       "      <td>1</td>\n",
       "      <td>60</td>\n",
       "      <td>RL</td>\n",
       "      <td>65.0</td>\n",
       "      <td>8450</td>\n",
       "      <td>Pave</td>\n",
       "      <td>NaN</td>\n",
       "      <td>Reg</td>\n",
       "      <td>Lvl</td>\n",
       "      <td>AllPub</td>\n",
       "      <td>...</td>\n",
       "      <td>0</td>\n",
       "      <td>NaN</td>\n",
       "      <td>NaN</td>\n",
       "      <td>NaN</td>\n",
       "      <td>0</td>\n",
       "      <td>2</td>\n",
       "      <td>2008</td>\n",
       "      <td>WD</td>\n",
       "      <td>Normal</td>\n",
       "      <td>208500</td>\n",
       "    </tr>\n",
       "    <tr>\n",
       "      <th>1</th>\n",
       "      <td>2</td>\n",
       "      <td>20</td>\n",
       "      <td>RL</td>\n",
       "      <td>80.0</td>\n",
       "      <td>9600</td>\n",
       "      <td>Pave</td>\n",
       "      <td>NaN</td>\n",
       "      <td>Reg</td>\n",
       "      <td>Lvl</td>\n",
       "      <td>AllPub</td>\n",
       "      <td>...</td>\n",
       "      <td>0</td>\n",
       "      <td>NaN</td>\n",
       "      <td>NaN</td>\n",
       "      <td>NaN</td>\n",
       "      <td>0</td>\n",
       "      <td>5</td>\n",
       "      <td>2007</td>\n",
       "      <td>WD</td>\n",
       "      <td>Normal</td>\n",
       "      <td>181500</td>\n",
       "    </tr>\n",
       "    <tr>\n",
       "      <th>2</th>\n",
       "      <td>3</td>\n",
       "      <td>60</td>\n",
       "      <td>RL</td>\n",
       "      <td>68.0</td>\n",
       "      <td>11250</td>\n",
       "      <td>Pave</td>\n",
       "      <td>NaN</td>\n",
       "      <td>IR1</td>\n",
       "      <td>Lvl</td>\n",
       "      <td>AllPub</td>\n",
       "      <td>...</td>\n",
       "      <td>0</td>\n",
       "      <td>NaN</td>\n",
       "      <td>NaN</td>\n",
       "      <td>NaN</td>\n",
       "      <td>0</td>\n",
       "      <td>9</td>\n",
       "      <td>2008</td>\n",
       "      <td>WD</td>\n",
       "      <td>Normal</td>\n",
       "      <td>223500</td>\n",
       "    </tr>\n",
       "    <tr>\n",
       "      <th>3</th>\n",
       "      <td>4</td>\n",
       "      <td>70</td>\n",
       "      <td>RL</td>\n",
       "      <td>60.0</td>\n",
       "      <td>9550</td>\n",
       "      <td>Pave</td>\n",
       "      <td>NaN</td>\n",
       "      <td>IR1</td>\n",
       "      <td>Lvl</td>\n",
       "      <td>AllPub</td>\n",
       "      <td>...</td>\n",
       "      <td>0</td>\n",
       "      <td>NaN</td>\n",
       "      <td>NaN</td>\n",
       "      <td>NaN</td>\n",
       "      <td>0</td>\n",
       "      <td>2</td>\n",
       "      <td>2006</td>\n",
       "      <td>WD</td>\n",
       "      <td>Abnorml</td>\n",
       "      <td>140000</td>\n",
       "    </tr>\n",
       "    <tr>\n",
       "      <th>4</th>\n",
       "      <td>5</td>\n",
       "      <td>60</td>\n",
       "      <td>RL</td>\n",
       "      <td>84.0</td>\n",
       "      <td>14260</td>\n",
       "      <td>Pave</td>\n",
       "      <td>NaN</td>\n",
       "      <td>IR1</td>\n",
       "      <td>Lvl</td>\n",
       "      <td>AllPub</td>\n",
       "      <td>...</td>\n",
       "      <td>0</td>\n",
       "      <td>NaN</td>\n",
       "      <td>NaN</td>\n",
       "      <td>NaN</td>\n",
       "      <td>0</td>\n",
       "      <td>12</td>\n",
       "      <td>2008</td>\n",
       "      <td>WD</td>\n",
       "      <td>Normal</td>\n",
       "      <td>250000</td>\n",
       "    </tr>\n",
       "  </tbody>\n",
       "</table>\n",
       "<p>5 rows × 81 columns</p>\n",
       "</div>"
      ],
      "text/plain": [
       "   Id  MSSubClass MSZoning  LotFrontage  LotArea Street Alley LotShape  \\\n",
       "0   1          60       RL         65.0     8450   Pave   NaN      Reg   \n",
       "1   2          20       RL         80.0     9600   Pave   NaN      Reg   \n",
       "2   3          60       RL         68.0    11250   Pave   NaN      IR1   \n",
       "3   4          70       RL         60.0     9550   Pave   NaN      IR1   \n",
       "4   5          60       RL         84.0    14260   Pave   NaN      IR1   \n",
       "\n",
       "  LandContour Utilities  ... PoolArea PoolQC Fence MiscFeature MiscVal MoSold  \\\n",
       "0         Lvl    AllPub  ...        0    NaN   NaN         NaN       0      2   \n",
       "1         Lvl    AllPub  ...        0    NaN   NaN         NaN       0      5   \n",
       "2         Lvl    AllPub  ...        0    NaN   NaN         NaN       0      9   \n",
       "3         Lvl    AllPub  ...        0    NaN   NaN         NaN       0      2   \n",
       "4         Lvl    AllPub  ...        0    NaN   NaN         NaN       0     12   \n",
       "\n",
       "  YrSold  SaleType  SaleCondition  SalePrice  \n",
       "0   2008        WD         Normal     208500  \n",
       "1   2007        WD         Normal     181500  \n",
       "2   2008        WD         Normal     223500  \n",
       "3   2006        WD        Abnorml     140000  \n",
       "4   2008        WD         Normal     250000  \n",
       "\n",
       "[5 rows x 81 columns]"
      ]
     },
     "execution_count": 9,
     "metadata": {},
     "output_type": "execute_result"
    }
   ],
   "source": [
    "df = pd.read_csv('train.csv')\n",
    "df.head()"
   ]
  },
  {
   "cell_type": "code",
   "execution_count": 10,
   "metadata": {
    "id": "rUyfafWEZ09s"
   },
   "outputs": [],
   "source": [
    "X = df[['GrLivArea']].values\n",
    "y = df['SalePrice'].values"
   ]
  },
  {
   "cell_type": "code",
   "execution_count": 11,
   "metadata": {
    "colab": {
     "base_uri": "https://localhost:8080/"
    },
    "id": "K64jKEbwaKpM",
    "outputId": "b90ab33a-054b-4817-e4f2-cb86c6ea2d75"
   },
   "outputs": [
    {
     "name": "stdout",
     "output_type": "stream",
     "text": [
      "(1095, 1) (365, 1) (1095,) (365,)\n"
     ]
    }
   ],
   "source": [
    "from sklearn.model_selection import train_test_split\n",
    "X_train, X_test, y_train, y_test = train_test_split(X, y)\n",
    "print(X_train.shape, X_test.shape, y_train.shape, y_test.shape)"
   ]
  },
  {
   "cell_type": "code",
   "execution_count": 12,
   "metadata": {
    "colab": {
     "base_uri": "https://localhost:8080/"
    },
    "id": "H-PTV39XaXiV",
    "outputId": "e5012501-f784-426d-dae0-23f953e28e54"
   },
   "outputs": [
    {
     "data": {
      "text/plain": [
       "array([[1710],\n",
       "       [1262],\n",
       "       [1786],\n",
       "       [1717],\n",
       "       [2198]])"
      ]
     },
     "execution_count": 12,
     "metadata": {},
     "output_type": "execute_result"
    }
   ],
   "source": [
    "X[:5]"
   ]
  },
  {
   "cell_type": "code",
   "execution_count": 13,
   "metadata": {
    "colab": {
     "base_uri": "https://localhost:8080/"
    },
    "id": "7iS7CCLlami0",
    "outputId": "5f2c8d27-58be-491b-c605-630bcbaa1348"
   },
   "outputs": [
    {
     "data": {
      "text/plain": [
       "array([208500, 181500, 223500, 140000, 250000])"
      ]
     },
     "execution_count": 13,
     "metadata": {},
     "output_type": "execute_result"
    }
   ],
   "source": [
    "y[:5]"
   ]
  },
  {
   "cell_type": "code",
   "execution_count": 14,
   "metadata": {
    "id": "su0wJs0QaoJ-"
   },
   "outputs": [],
   "source": [
    "from sklearn.preprocessing import StandardScaler\n",
    "\n",
    "scaler = StandardScaler()\n",
    "scaler.fit(X_train)\n",
    "\n",
    "X_train_scaled = scaler.transform(X_train)\n",
    "X_test_scaled = scaler.transform(X_test)"
   ]
  },
  {
   "cell_type": "code",
   "execution_count": 15,
   "metadata": {
    "colab": {
     "base_uri": "https://localhost:8080/",
     "height": 205
    },
    "id": "PcyMISviavf5",
    "outputId": "540497f9-77a0-4ccf-c5e0-3f658594cf97"
   },
   "outputs": [
    {
     "data": {
      "text/html": [
       "<div>\n",
       "<style scoped>\n",
       "    .dataframe tbody tr th:only-of-type {\n",
       "        vertical-align: middle;\n",
       "    }\n",
       "\n",
       "    .dataframe tbody tr th {\n",
       "        vertical-align: top;\n",
       "    }\n",
       "\n",
       "    .dataframe thead th {\n",
       "        text-align: right;\n",
       "    }\n",
       "</style>\n",
       "<table border=\"1\" class=\"dataframe\">\n",
       "  <thead>\n",
       "    <tr style=\"text-align: right;\">\n",
       "      <th></th>\n",
       "      <th>0</th>\n",
       "      <th>1</th>\n",
       "      <th>2</th>\n",
       "      <th>3</th>\n",
       "      <th>4</th>\n",
       "      <th>5</th>\n",
       "      <th>6</th>\n",
       "      <th>7</th>\n",
       "      <th>8</th>\n",
       "      <th>9</th>\n",
       "      <th>...</th>\n",
       "      <th>355</th>\n",
       "      <th>356</th>\n",
       "      <th>357</th>\n",
       "      <th>358</th>\n",
       "      <th>359</th>\n",
       "      <th>360</th>\n",
       "      <th>361</th>\n",
       "      <th>362</th>\n",
       "      <th>363</th>\n",
       "      <th>364</th>\n",
       "    </tr>\n",
       "  </thead>\n",
       "  <tbody>\n",
       "    <tr>\n",
       "      <th>0</th>\n",
       "      <td>271913.562252</td>\n",
       "      <td>173092.007093</td>\n",
       "      <td>235959.985144</td>\n",
       "      <td>253835.209921</td>\n",
       "      <td>159380.897179</td>\n",
       "      <td>200311.099367</td>\n",
       "      <td>176443.611739</td>\n",
       "      <td>174615.46375</td>\n",
       "      <td>189342.211436</td>\n",
       "      <td>250889.860384</td>\n",
       "      <td>...</td>\n",
       "      <td>157552.74919</td>\n",
       "      <td>182639.002144</td>\n",
       "      <td>200209.53559</td>\n",
       "      <td>224686.405881</td>\n",
       "      <td>189748.466544</td>\n",
       "      <td>155623.037425</td>\n",
       "      <td>243678.832207</td>\n",
       "      <td>104739.585077</td>\n",
       "      <td>216459.739933</td>\n",
       "      <td>128200.817596</td>\n",
       "    </tr>\n",
       "    <tr>\n",
       "      <th>1</th>\n",
       "      <td>160000.000000</td>\n",
       "      <td>174000.000000</td>\n",
       "      <td>211000.000000</td>\n",
       "      <td>222000.000000</td>\n",
       "      <td>153000.000000</td>\n",
       "      <td>130000.000000</td>\n",
       "      <td>168500.000000</td>\n",
       "      <td>215000.00000</td>\n",
       "      <td>140000.000000</td>\n",
       "      <td>180000.000000</td>\n",
       "      <td>...</td>\n",
       "      <td>245500.00000</td>\n",
       "      <td>118858.000000</td>\n",
       "      <td>130000.00000</td>\n",
       "      <td>236000.000000</td>\n",
       "      <td>107400.000000</td>\n",
       "      <td>155000.000000</td>\n",
       "      <td>137900.000000</td>\n",
       "      <td>129500.000000</td>\n",
       "      <td>197500.000000</td>\n",
       "      <td>178400.000000</td>\n",
       "    </tr>\n",
       "  </tbody>\n",
       "</table>\n",
       "<p>2 rows × 365 columns</p>\n",
       "</div>"
      ],
      "text/plain": [
       "             0              1              2              3              4    \\\n",
       "0  271913.562252  173092.007093  235959.985144  253835.209921  159380.897179   \n",
       "1  160000.000000  174000.000000  211000.000000  222000.000000  153000.000000   \n",
       "\n",
       "             5              6             7              8              9    \\\n",
       "0  200311.099367  176443.611739  174615.46375  189342.211436  250889.860384   \n",
       "1  130000.000000  168500.000000  215000.00000  140000.000000  180000.000000   \n",
       "\n",
       "   ...           355            356           357            358  \\\n",
       "0  ...  157552.74919  182639.002144  200209.53559  224686.405881   \n",
       "1  ...  245500.00000  118858.000000  130000.00000  236000.000000   \n",
       "\n",
       "             359            360            361            362            363  \\\n",
       "0  189748.466544  155623.037425  243678.832207  104739.585077  216459.739933   \n",
       "1  107400.000000  155000.000000  137900.000000  129500.000000  197500.000000   \n",
       "\n",
       "             364  \n",
       "0  128200.817596  \n",
       "1  178400.000000  \n",
       "\n",
       "[2 rows x 365 columns]"
      ]
     },
     "execution_count": 15,
     "metadata": {},
     "output_type": "execute_result"
    }
   ],
   "source": [
    "slr_house = ScratchLinearRegression()\n",
    "slr_house.fit(X_train_scaled, y_train, X_test_scaled, y_test)\n",
    "y_house_predict = slr_house.predict(X_test_scaled)\n",
    "\n",
    "pd.DataFrame([y_house_predict, y_test])"
   ]
  },
  {
   "cell_type": "code",
   "execution_count": 31,
   "metadata": {
    "colab": {
     "base_uri": "https://localhost:8080/"
    },
    "id": "LuHfn1xsbG_d",
    "outputId": "d7b5b450-d1f1-4556-bf64-cb38f0ff815b"
   },
   "outputs": [
    {
     "data": {
      "text/plain": [
       "2038777071.7189274"
      ]
     },
     "execution_count": 31,
     "metadata": {},
     "output_type": "execute_result"
    }
   ],
   "source": [
    "MSE(y_house_predict, y_test)"
   ]
  },
  {
   "cell_type": "code",
   "execution_count": 17,
   "metadata": {
    "colab": {
     "base_uri": "https://localhost:8080/",
     "height": 295
    },
    "id": "H2eJ9KZ6btCR",
    "outputId": "6dd22152-8dec-4a53-b4de-f8baccf278d8"
   },
   "outputs": [
    {
     "data": {
      "image/png": "[encoded data removed]",
      "text/plain": [
       "<Figure size 640x480 with 1 Axes>"
      ]
     },
     "metadata": {},
     "output_type": "display_data"
    }
   ],
   "source": [
    "import matplotlib.pyplot as plt\n",
    "%matplotlib inline\n",
    "\n",
    "plt.title('Predict with Scratch Linear Regression')\n",
    "plt.xlabel('GrLivArea')\n",
    "plt.ylabel('SalePrice')\n",
    "plt.scatter(X_test, y_test, label='Truth value')\n",
    "plt.scatter(X_test, y_house_predict, label='Predicted value')\n",
    "plt.legend()\n",
    "plt.show()"
   ]
  },
  {
   "cell_type": "code",
   "execution_count": 18,
   "metadata": {
    "colab": {
     "base_uri": "https://localhost:8080/",
     "height": 240
    },
    "id": "OZV6GeITc0rN",
    "outputId": "612057ee-7a48-470b-f29c-b7c6dc375925"
   },
   "outputs": [
    {
     "data": {
      "text/html": [
       "<div>\n",
       "<style scoped>\n",
       "    .dataframe tbody tr th:only-of-type {\n",
       "        vertical-align: middle;\n",
       "    }\n",
       "\n",
       "    .dataframe tbody tr th {\n",
       "        vertical-align: top;\n",
       "    }\n",
       "\n",
       "    .dataframe thead th {\n",
       "        text-align: right;\n",
       "    }\n",
       "</style>\n",
       "<table border=\"1\" class=\"dataframe\">\n",
       "  <thead>\n",
       "    <tr style=\"text-align: right;\">\n",
       "      <th></th>\n",
       "      <th>0</th>\n",
       "      <th>1</th>\n",
       "      <th>2</th>\n",
       "      <th>3</th>\n",
       "      <th>4</th>\n",
       "      <th>5</th>\n",
       "      <th>6</th>\n",
       "      <th>7</th>\n",
       "      <th>8</th>\n",
       "      <th>9</th>\n",
       "      <th>...</th>\n",
       "      <th>355</th>\n",
       "      <th>356</th>\n",
       "      <th>357</th>\n",
       "      <th>358</th>\n",
       "      <th>359</th>\n",
       "      <th>360</th>\n",
       "      <th>361</th>\n",
       "      <th>362</th>\n",
       "      <th>363</th>\n",
       "      <th>364</th>\n",
       "    </tr>\n",
       "  </thead>\n",
       "  <tbody>\n",
       "    <tr>\n",
       "      <th>Predicted value</th>\n",
       "      <td>271925.301552</td>\n",
       "      <td>173099.479981</td>\n",
       "      <td>235970.172224</td>\n",
       "      <td>253846.168726</td>\n",
       "      <td>159387.778119</td>\n",
       "      <td>200319.747382</td>\n",
       "      <td>176451.229325</td>\n",
       "      <td>174623.00241</td>\n",
       "      <td>189350.385892</td>\n",
       "      <td>250900.69203</td>\n",
       "      <td>...</td>\n",
       "      <td>157559.551204</td>\n",
       "      <td>182646.887204</td>\n",
       "      <td>200218.17922</td>\n",
       "      <td>224696.106248</td>\n",
       "      <td>189756.65854</td>\n",
       "      <td>155629.756127</td>\n",
       "      <td>243689.352532</td>\n",
       "      <td>104744.106993</td>\n",
       "      <td>216469.085131</td>\n",
       "      <td>128206.352402</td>\n",
       "    </tr>\n",
       "    <tr>\n",
       "      <th>Truth value</th>\n",
       "      <td>160000.000000</td>\n",
       "      <td>174000.000000</td>\n",
       "      <td>211000.000000</td>\n",
       "      <td>222000.000000</td>\n",
       "      <td>153000.000000</td>\n",
       "      <td>130000.000000</td>\n",
       "      <td>168500.000000</td>\n",
       "      <td>215000.00000</td>\n",
       "      <td>140000.000000</td>\n",
       "      <td>180000.00000</td>\n",
       "      <td>...</td>\n",
       "      <td>245500.000000</td>\n",
       "      <td>118858.000000</td>\n",
       "      <td>130000.00000</td>\n",
       "      <td>236000.000000</td>\n",
       "      <td>107400.00000</td>\n",
       "      <td>155000.000000</td>\n",
       "      <td>137900.000000</td>\n",
       "      <td>129500.000000</td>\n",
       "      <td>197500.000000</td>\n",
       "      <td>178400.000000</td>\n",
       "    </tr>\n",
       "  </tbody>\n",
       "</table>\n",
       "<p>2 rows × 365 columns</p>\n",
       "</div>"
      ],
      "text/plain": [
       "                           0              1              2              3    \\\n",
       "Predicted value  271925.301552  173099.479981  235970.172224  253846.168726   \n",
       "Truth value      160000.000000  174000.000000  211000.000000  222000.000000   \n",
       "\n",
       "                           4              5              6             7    \\\n",
       "Predicted value  159387.778119  200319.747382  176451.229325  174623.00241   \n",
       "Truth value      153000.000000  130000.000000  168500.000000  215000.00000   \n",
       "\n",
       "                           8             9    ...            355  \\\n",
       "Predicted value  189350.385892  250900.69203  ...  157559.551204   \n",
       "Truth value      140000.000000  180000.00000  ...  245500.000000   \n",
       "\n",
       "                           356           357            358           359  \\\n",
       "Predicted value  182646.887204  200218.17922  224696.106248  189756.65854   \n",
       "Truth value      118858.000000  130000.00000  236000.000000  107400.00000   \n",
       "\n",
       "                           360            361            362            363  \\\n",
       "Predicted value  155629.756127  243689.352532  104744.106993  216469.085131   \n",
       "Truth value      155000.000000  137900.000000  129500.000000  197500.000000   \n",
       "\n",
       "                           364  \n",
       "Predicted value  128206.352402  \n",
       "Truth value      178400.000000  \n",
       "\n",
       "[2 rows x 365 columns]"
      ]
     },
     "execution_count": 18,
     "metadata": {},
     "output_type": "execute_result"
    }
   ],
   "source": [
    "from sklearn.linear_model import LinearRegression\n",
    "from sklearn.metrics import mean_squared_error\n",
    "\n",
    "lr = LinearRegression()\n",
    "lr.fit(X_train_scaled, y_train)\n",
    "lr_predict = lr.predict(X_test_scaled)\n",
    "\n",
    "pd.DataFrame([lr_predict, y_test], index=['Predicted value', 'Truth value'])"
   ]
  },
  {
   "cell_type": "code",
   "execution_count": 19,
   "metadata": {
    "colab": {
     "base_uri": "https://localhost:8080/"
    },
    "id": "Fgp46elidif0",
    "outputId": "78b70413-bd8e-431c-bfa7-8ec8a24fd627"
   },
   "outputs": [
    {
     "data": {
      "text/plain": [
       "2991215441.9166803"
      ]
     },
     "execution_count": 19,
     "metadata": {},
     "output_type": "execute_result"
    }
   ],
   "source": [
    "mean_squared_error(y_test, lr_predict)"
   ]
  },
  {
   "cell_type": "markdown",
   "metadata": {
    "id": "e4YWkQe6dyDU"
   },
   "source": [
    "### Problem 7 Plotting the learning curve\n",
    "\n",
    "\n",
    "Create and execute a function that displays the learning curve. Look at the graph to see if the loss is down properly.\n",
    "\n",
    "In the template of the linear regression class, the loss is recorded in self.loss and self.val_loss, so please use this for input.\n",
    "\n"
   ]
  },
  {
   "cell_type": "code",
   "execution_count": 20,
   "metadata": {
    "colab": {
     "base_uri": "https://localhost:8080/",
     "height": 295
    },
    "id": "mDELFLtAdpiO",
    "outputId": "263fc751-6bf5-4ca9-c0cb-cbf8dcba4333"
   },
   "outputs": [
    {
     "data": {
      "image/png": "[encoded data removed]",
      "text/plain": [
       "<Figure size 640x480 with 1 Axes>"
      ]
     },
     "metadata": {},
     "output_type": "display_data"
    }
   ],
   "source": [
    "plt.title('Learning Curve Plot')\n",
    "plt.xlabel('iter')\n",
    "plt.ylabel('loss')\n",
    "plt.scatter(range(slr_house.iter), slr_house.loss, label='train_loss')\n",
    "plt.scatter(range(slr_house.iter), slr_house.val_loss, label='val_loss')\n",
    "plt.legend()\n",
    "plt.show()"
   ]
  },
  {
   "cell_type": "markdown",
   "metadata": {
    "id": "xdzfmpietNv7"
   },
   "source": [
    "### 【problem 8】(Advance task) Removal of bias term\n",
    "\n",
    "---\n",
    "\n"
   ]
  },
  {
   "cell_type": "code",
   "execution_count": 21,
   "metadata": {
    "colab": {
     "base_uri": "https://localhost:8080/",
     "height": 240
    },
    "id": "zBq66cR4tNXW",
    "outputId": "1eb0dfad-e094-479d-f856-e54e4e64f6f2"
   },
   "outputs": [
    {
     "data": {
      "text/html": [
       "<div>\n",
       "<style scoped>\n",
       "    .dataframe tbody tr th:only-of-type {\n",
       "        vertical-align: middle;\n",
       "    }\n",
       "\n",
       "    .dataframe tbody tr th {\n",
       "        vertical-align: top;\n",
       "    }\n",
       "\n",
       "    .dataframe thead th {\n",
       "        text-align: right;\n",
       "    }\n",
       "</style>\n",
       "<table border=\"1\" class=\"dataframe\">\n",
       "  <thead>\n",
       "    <tr style=\"text-align: right;\">\n",
       "      <th></th>\n",
       "      <th>0</th>\n",
       "      <th>1</th>\n",
       "      <th>2</th>\n",
       "      <th>3</th>\n",
       "      <th>4</th>\n",
       "      <th>5</th>\n",
       "      <th>6</th>\n",
       "      <th>7</th>\n",
       "      <th>8</th>\n",
       "      <th>9</th>\n",
       "      <th>...</th>\n",
       "      <th>355</th>\n",
       "      <th>356</th>\n",
       "      <th>357</th>\n",
       "      <th>358</th>\n",
       "      <th>359</th>\n",
       "      <th>360</th>\n",
       "      <th>361</th>\n",
       "      <th>362</th>\n",
       "      <th>363</th>\n",
       "      <th>364</th>\n",
       "    </tr>\n",
       "  </thead>\n",
       "  <tbody>\n",
       "    <tr>\n",
       "      <th>Predict value</th>\n",
       "      <td>91556.545132</td>\n",
       "      <td>-7265.01002</td>\n",
       "      <td>55602.968027</td>\n",
       "      <td>73478.192802</td>\n",
       "      <td>-20976.119933</td>\n",
       "      <td>19954.082252</td>\n",
       "      <td>-3913.405374</td>\n",
       "      <td>-5741.553363</td>\n",
       "      <td>8985.194322</td>\n",
       "      <td>70532.843266</td>\n",
       "      <td>...</td>\n",
       "      <td>-22804.267921</td>\n",
       "      <td>2281.985031</td>\n",
       "      <td>19852.518475</td>\n",
       "      <td>44329.388765</td>\n",
       "      <td>9391.44943</td>\n",
       "      <td>-24733.979687</td>\n",
       "      <td>63321.815089</td>\n",
       "      <td>-75617.432032</td>\n",
       "      <td>36102.722817</td>\n",
       "      <td>-52156.199513</td>\n",
       "    </tr>\n",
       "    <tr>\n",
       "      <th>Truth value</th>\n",
       "      <td>160000.000000</td>\n",
       "      <td>174000.00000</td>\n",
       "      <td>211000.000000</td>\n",
       "      <td>222000.000000</td>\n",
       "      <td>153000.000000</td>\n",
       "      <td>130000.000000</td>\n",
       "      <td>168500.000000</td>\n",
       "      <td>215000.000000</td>\n",
       "      <td>140000.000000</td>\n",
       "      <td>180000.000000</td>\n",
       "      <td>...</td>\n",
       "      <td>245500.000000</td>\n",
       "      <td>118858.000000</td>\n",
       "      <td>130000.000000</td>\n",
       "      <td>236000.000000</td>\n",
       "      <td>107400.00000</td>\n",
       "      <td>155000.000000</td>\n",
       "      <td>137900.000000</td>\n",
       "      <td>129500.000000</td>\n",
       "      <td>197500.000000</td>\n",
       "      <td>178400.000000</td>\n",
       "    </tr>\n",
       "  </tbody>\n",
       "</table>\n",
       "<p>2 rows × 365 columns</p>\n",
       "</div>"
      ],
      "text/plain": [
       "                         0             1              2              3    \\\n",
       "Predict value   91556.545132   -7265.01002   55602.968027   73478.192802   \n",
       "Truth value    160000.000000  174000.00000  211000.000000  222000.000000   \n",
       "\n",
       "                         4              5              6              7    \\\n",
       "Predict value  -20976.119933   19954.082252   -3913.405374   -5741.553363   \n",
       "Truth value    153000.000000  130000.000000  168500.000000  215000.000000   \n",
       "\n",
       "                         8              9    ...            355  \\\n",
       "Predict value    8985.194322   70532.843266  ...  -22804.267921   \n",
       "Truth value    140000.000000  180000.000000  ...  245500.000000   \n",
       "\n",
       "                         356            357            358           359  \\\n",
       "Predict value    2281.985031   19852.518475   44329.388765    9391.44943   \n",
       "Truth value    118858.000000  130000.000000  236000.000000  107400.00000   \n",
       "\n",
       "                         360            361            362            363  \\\n",
       "Predict value  -24733.979687   63321.815089  -75617.432032   36102.722817   \n",
       "Truth value    155000.000000  137900.000000  129500.000000  197500.000000   \n",
       "\n",
       "                         364  \n",
       "Predict value  -52156.199513  \n",
       "Truth value    178400.000000  \n",
       "\n",
       "[2 rows x 365 columns]"
      ]
     },
     "execution_count": 21,
     "metadata": {},
     "output_type": "execute_result"
    }
   ],
   "source": [
    "slr_nobias = ScratchLinearRegression(no_bias=True)\n",
    "slr_nobias.fit(X_train_scaled, y_train)\n",
    "slr_nobias_predict = slr_nobias.predict(X_test_scaled)\n",
    "\n",
    "pd.DataFrame([slr_nobias_predict, y_test], index=['Predict value', 'Truth value'])"
   ]
  },
  {
   "cell_type": "code",
   "execution_count": 22,
   "metadata": {
    "colab": {
     "base_uri": "https://localhost:8080/",
     "height": 295
    },
    "id": "5eRGNJhctZML",
    "outputId": "c4b0fa3b-f4a8-4b99-edad-acdd63544e8c"
   },
   "outputs": [
    {
     "data": {
      "image/png": "[encoded data removed]",
      "text/plain": [
       "<Figure size 640x480 with 1 Axes>"
      ]
     },
     "metadata": {},
     "output_type": "display_data"
    }
   ],
   "source": [
    "plt.title('Predict with ScratchLinearRegression (no bias)')\n",
    "plt.xlabel('GrLivArea')\n",
    "plt.ylabel('SalePrice')\n",
    "plt.scatter(X_test, y_test, label='Truth value')\n",
    "plt.scatter(X_test, slr_nobias_predict, label='Predicted value')\n",
    "plt.legend()\n",
    "plt.show()"
   ]
  },
  {
   "cell_type": "markdown",
   "metadata": {
    "id": "5mkF1IUDLgoV"
   },
   "source": [
    "The bias term is used to allow models to represent patterns that do not pass through the origin. In this problem, when there is no bias term, the predicted sale price can be negative and most predicted values is smaller than expected values. The bias term now shifts the sale price up on y-axis."
   ]
  },
  {
   "cell_type": "markdown",
   "metadata": {
    "id": "0U3Y-OM3Ls70"
   },
   "source": [
    "### 【problem 9】(Advance task) Multidimensional feature quantity\n",
    "\n",
    "---\n",
    "\n"
   ]
  },
  {
   "cell_type": "code",
   "execution_count": 23,
   "metadata": {
    "colab": {
     "base_uri": "https://localhost:8080/"
    },
    "id": "1J_THuL1S7N7",
    "outputId": "7e1a67ad-59cc-4092-dda2-6fa889176677"
   },
   "outputs": [
    {
     "name": "stdout",
     "output_type": "stream",
     "text": [
      "(1095, 2) (365, 2) (1095,) (365,)\n"
     ]
    }
   ],
   "source": [
    "X = df[['GrLivArea', 'YearBuilt']].values\n",
    "y = df['SalePrice'].values\n",
    "\n",
    "X_train, X_test, y_train, y_test = train_test_split(X, y)\n",
    "print(X_train.shape, X_test.shape, y_train.shape, y_test.shape)"
   ]
  },
  {
   "cell_type": "code",
   "execution_count": 24,
   "metadata": {
    "colab": {
     "base_uri": "https://localhost:8080/",
     "height": 205
    },
    "id": "wduZhozQTria",
    "outputId": "9f231dbb-f46f-4e56-dee1-c9a2abe2334d"
   },
   "outputs": [
    {
     "data": {
      "text/html": [
       "<div>\n",
       "<style scoped>\n",
       "    .dataframe tbody tr th:only-of-type {\n",
       "        vertical-align: middle;\n",
       "    }\n",
       "\n",
       "    .dataframe tbody tr th {\n",
       "        vertical-align: top;\n",
       "    }\n",
       "\n",
       "    .dataframe thead th {\n",
       "        text-align: right;\n",
       "    }\n",
       "</style>\n",
       "<table border=\"1\" class=\"dataframe\">\n",
       "  <thead>\n",
       "    <tr style=\"text-align: right;\">\n",
       "      <th></th>\n",
       "      <th>0</th>\n",
       "      <th>1</th>\n",
       "      <th>2</th>\n",
       "      <th>3</th>\n",
       "      <th>4</th>\n",
       "      <th>5</th>\n",
       "      <th>6</th>\n",
       "      <th>7</th>\n",
       "      <th>8</th>\n",
       "      <th>9</th>\n",
       "      <th>...</th>\n",
       "      <th>355</th>\n",
       "      <th>356</th>\n",
       "      <th>357</th>\n",
       "      <th>358</th>\n",
       "      <th>359</th>\n",
       "      <th>360</th>\n",
       "      <th>361</th>\n",
       "      <th>362</th>\n",
       "      <th>363</th>\n",
       "      <th>364</th>\n",
       "    </tr>\n",
       "  </thead>\n",
       "  <tbody>\n",
       "    <tr>\n",
       "      <th>0</th>\n",
       "      <td>246153.975674</td>\n",
       "      <td>265582.753359</td>\n",
       "      <td>301877.233019</td>\n",
       "      <td>121269.309464</td>\n",
       "      <td>131912.17306</td>\n",
       "      <td>138426.852973</td>\n",
       "      <td>222670.59974</td>\n",
       "      <td>147298.684411</td>\n",
       "      <td>115839.732787</td>\n",
       "      <td>207356.049625</td>\n",
       "      <td>...</td>\n",
       "      <td>259507.834043</td>\n",
       "      <td>156790.788611</td>\n",
       "      <td>185363.38413</td>\n",
       "      <td>101095.379585</td>\n",
       "      <td>184634.15439</td>\n",
       "      <td>203087.534011</td>\n",
       "      <td>124674.974533</td>\n",
       "      <td>231517.76735</td>\n",
       "      <td>187582.918259</td>\n",
       "      <td>224746.617446</td>\n",
       "    </tr>\n",
       "    <tr>\n",
       "      <th>1</th>\n",
       "      <td>215000.000000</td>\n",
       "      <td>253293.000000</td>\n",
       "      <td>301000.000000</td>\n",
       "      <td>124500.000000</td>\n",
       "      <td>135000.00000</td>\n",
       "      <td>140000.000000</td>\n",
       "      <td>200000.00000</td>\n",
       "      <td>166000.000000</td>\n",
       "      <td>62383.000000</td>\n",
       "      <td>179200.000000</td>\n",
       "      <td>...</td>\n",
       "      <td>271900.000000</td>\n",
       "      <td>144500.000000</td>\n",
       "      <td>143900.00000</td>\n",
       "      <td>105500.000000</td>\n",
       "      <td>240000.00000</td>\n",
       "      <td>181134.000000</td>\n",
       "      <td>119900.000000</td>\n",
       "      <td>205950.00000</td>\n",
       "      <td>151000.000000</td>\n",
       "      <td>169000.000000</td>\n",
       "    </tr>\n",
       "  </tbody>\n",
       "</table>\n",
       "<p>2 rows × 365 columns</p>\n",
       "</div>"
      ],
      "text/plain": [
       "             0              1              2              3             4    \\\n",
       "0  246153.975674  265582.753359  301877.233019  121269.309464  131912.17306   \n",
       "1  215000.000000  253293.000000  301000.000000  124500.000000  135000.00000   \n",
       "\n",
       "             5             6              7              8              9    \\\n",
       "0  138426.852973  222670.59974  147298.684411  115839.732787  207356.049625   \n",
       "1  140000.000000  200000.00000  166000.000000   62383.000000  179200.000000   \n",
       "\n",
       "   ...            355            356           357            358  \\\n",
       "0  ...  259507.834043  156790.788611  185363.38413  101095.379585   \n",
       "1  ...  271900.000000  144500.000000  143900.00000  105500.000000   \n",
       "\n",
       "            359            360            361           362            363  \\\n",
       "0  184634.15439  203087.534011  124674.974533  231517.76735  187582.918259   \n",
       "1  240000.00000  181134.000000  119900.000000  205950.00000  151000.000000   \n",
       "\n",
       "             364  \n",
       "0  224746.617446  \n",
       "1  169000.000000  \n",
       "\n",
       "[2 rows x 365 columns]"
      ]
     },
     "execution_count": 24,
     "metadata": {},
     "output_type": "execute_result"
    }
   ],
   "source": [
    "scaler = StandardScaler()\n",
    "scaler.fit(X_train)\n",
    "\n",
    "X_train_scaled = scaler.transform(X_train)\n",
    "X_test_scaled = scaler.transform(X_test)\n",
    "\n",
    "\n",
    "slr_house = ScratchLinearRegression()\n",
    "slr_house.fit(X_train_scaled, y_train, X_test_scaled, y_test)\n",
    "y_house_predict = slr_house.predict(X_test_scaled)\n",
    "\n",
    "pd.DataFrame([y_house_predict, y_test])"
   ]
  },
  {
   "cell_type": "code",
   "execution_count": 28,
   "metadata": {
    "colab": {
     "base_uri": "https://localhost:8080/"
    },
    "id": "5ISxq-w5T4uC",
    "outputId": "359e1473-d956-4978-aacb-7dcd9545da7c"
   },
   "outputs": [
    {
     "data": {
      "text/plain": [
       "2038777071.7189274"
      ]
     },
     "execution_count": 28,
     "metadata": {},
     "output_type": "execute_result"
    }
   ],
   "source": [
    "MSE(y_house_predict, y_test)"
   ]
  },
  {
   "cell_type": "code",
   "execution_count": 26,
   "metadata": {
    "colab": {
     "base_uri": "https://localhost:8080/",
     "height": 590
    },
    "id": "gGB4wpbuUcE5",
    "outputId": "c0e69541-5e1b-4e77-da9d-7e3df676e54e"
   },
   "outputs": [
    {
     "data": {
      "image/png": "[encoded data removed]",
      "text/plain": [
       "<Figure size 640x480 with 1 Axes>"
      ]
     },
     "metadata": {},
     "output_type": "display_data"
    },
    {
     "name": "stdout",
     "output_type": "stream",
     "text": [
      " -----------------------------------------------------------------\n"
     ]
    },
    {
     "data": {
      "image/png": "[encoded data removed]",
      "text/plain": [
       "<Figure size 640x480 with 1 Axes>"
      ]
     },
     "metadata": {},
     "output_type": "display_data"
    }
   ],
   "source": [
    "plt.title('Predict with ScratchLinearRegression (GrLivArea & SalePrice)')\n",
    "plt.xlabel('GrLivArea')\n",
    "plt.ylabel('SalePrice')\n",
    "plt.scatter(X_test[:, 0], y_test, label='Truth value')\n",
    "plt.scatter(X_test[:, 0], y_house_predict, label='Predicted value')\n",
    "plt.legend()\n",
    "plt.show()\n",
    "\n",
    "print(\" -----------------------------------------------------------------\")\n",
    "\n",
    "\n",
    "plt.title('Predict with ScratchLinearRegression (YearBuilt & SalePrice)')\n",
    "plt.xlabel('YearBuilt')\n",
    "plt.ylabel('SalePrice')\n",
    "plt.scatter(X_test[:, 1], y_test, label='Truth value')\n",
    "plt.scatter(X_test[:, 1], y_house_predict, label='Predicted value')\n",
    "plt.legend()\n",
    "plt.show()"
   ]
  },
  {
   "cell_type": "markdown",
   "metadata": {
    "id": "SDSAyUYAYEvX"
   },
   "source": [
    "### 【problem 10】(Advance task) Derivation of update formula\n",
    "\n",
    "---\n",
    "\n"
   ]
  },
  {
   "cell_type": "markdown",
   "metadata": {
    "id": "j_0ZinQcawQk"
   },
   "source": [
    "The update formula for the steepest descent method was as follows. Explain the process by which this equation is derived.\n",
    "\n",
    "$\\theta_j := \\theta_j - \\alpha \\frac{1}{m} \\sum_{i=1}^{m}[(h_\\theta(x^{(i)}) - y^{(i)} )x_{j}^{(i)}]\\$\n",
    "\n",
    "To optimize 𝜃, we consider the following equation using the steepest descent descent method. This equation calculates the derivative of the objectives function J with respect to 𝜃 (the slope of J), and updates 𝜃 by the slope x learning rate.\n",
    "\n",
    "\n",
    "$\n",
    "\\theta_j := \\theta_j - \\frac{\\partial}{\\partial \\theta_j}J(\\theta) \\\\\\\n",
    "$\n",
    "\n",
    "$\n",
    "J(\\theta)=  \\frac{1 }{ 2m}  \\sum_{i=1}^{m} (h_\\theta(x^{(i)})-y^{(i)})^2.\n",
    "$\n",
    "\n",
    "\n",
    "Hence,\n",
    "\n",
    "$\n",
    "\\frac{\\partial J}{\\partial x} = \\frac{1}{2m} \\frac{\\partial  \\sum_{i=1}^{m} (h_\\theta(x^{(i)})-y^{(i)})^2}{\\partial x}\n",
    "$\n",
    "\n",
    "$\n",
    "\\frac{\\partial J}{\\partial x} = \\frac{1}{2m} \\sum_{i=1}^{m} 2(h_\\theta(x^{(i)}) - y^{(i)}) \\frac{\\partial (h_\\theta(x^{(i)}) - y^{(i)})}{\\partial \\theta_j}\n",
    "$\n",
    "\n",
    "$\n",
    "\\frac{\\partial J}{\\partial x} = \\frac{1}{m} \\sum_{i=1}^{m} (h_\\theta(x^{(i)}) - y^{(i)}) \\frac{\\partial (\\theta_j x_j^{(i)} - y^{(i)})}{\\partial \\theta_j}\n",
    "$\n",
    "\n",
    "$\n",
    "\\frac{\\partial J}{\\partial x} = \\frac{1}{m} \\sum_{i=1}^{m} (h_\\theta(x^{(i)}) - y^{(i)}) x_j^{(i)}\n",
    "$\n",
    "\n",
    "Therefore, \n",
    "\n",
    "$\n",
    "\\theta_j = \\theta_j - \\alpha \\frac{\\partial}{\\partial \\theta_j}J(\\theta) = \\theta_j - \\alpha \\frac{1}{m} \\sum_{i=1}^{m}[(h_\\theta(x^{(i)}) - y^{(i)} )x_{j}^{(i)}]\n",
    "$\n"
   ]
  },
  {
   "cell_type": "code",
   "execution_count": null,
   "metadata": {},
   "outputs": [],
   "source": []
  },
  {
   "cell_type": "code",
   "execution_count": null,
   "metadata": {},
   "outputs": [],
   "source": []
  },
  {
   "cell_type": "code",
   "execution_count": null,
   "metadata": {},
   "outputs": [],
   "source": []
  },
  {
   "cell_type": "code",
   "execution_count": null,
   "metadata": {},
   "outputs": [],
   "source": []
  },
  {
   "cell_type": "code",
   "execution_count": null,
   "metadata": {},
   "outputs": [],
   "source": []
  }
 ],
 "metadata": {
  "colab": {
   "authorship_tag": "ABX9TyNCsMl/oyy+4vSfK3farL+0",
   "collapsed_sections": [],
   "include_colab_link": true,
   "provenance": []
  },
  "kernelspec": {
   "display_name": "Python 3 (ipykernel)",
   "language": "python",
   "name": "python3"
  },
  "language_info": {
   "codemirror_mode": {
    "name": "ipython",
    "version": 3
   },
   "file_extension": ".py",
   "mimetype": "text/x-python",
   "name": "python",
   "nbconvert_exporter": "python",
   "pygments_lexer": "ipython3",
   "version": "3.12.7"
  }
 },
 "nbformat": 4,
 "nbformat_minor": 4
}
