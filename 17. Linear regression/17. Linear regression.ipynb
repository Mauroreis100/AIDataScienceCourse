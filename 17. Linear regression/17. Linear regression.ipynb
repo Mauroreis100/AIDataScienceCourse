{
 "cells": [
  {
   "cell_type": "markdown",
   "metadata": {
    "id": "HHH04vZ0CIY0"
   },
   "source": [
    "# Linear Regression\n",
    "1.About this Sprint\n",
    "* The purpose of this Sprint\n",
    "* Understanding linear regression through scratch\n",
    "* Get used to object-oriented implementation\n",
    "Allow formulas to be incorporated into code\n",
    "\n",
    "## How to learn\n",
    "After implementing linear regression with scratch, we will train and verify."
   ]
  },
  {
   "cell_type": "markdown",
   "metadata": {},
   "source": [
    "## Scratch Linear Regression\n",
    "We will create a class of linear regression from scratch. We will implement the algorithm using only the minimum library such as NumPy.\n",
    "\n",
    "The template is prepared below. Add some code to this ScratchLinearRegression class.\n",
    "\n"
   ]
  },
  {
   "cell_type": "code",
   "execution_count": null,
   "metadata": {},
   "outputs": [],
   "source": []
  },
  {
   "cell_type": "code",
   "execution_count": 39,
   "metadata": {
    "id": "k-lbOrdkQQP7"
   },
   "outputs": [],
   "source": [
    "import numpy as np\n",
    "import pandas as pd\n",
    "class ScratchLinearRegression():\n",
    "    \"\"\"\n",
    "    Scratch implementation of linear regression\n",
    "    \n",
    "    Parameters\n",
    "    ----------\n",
    "    num_iter : int\n",
    "      Number of iterations\n",
    "    lr : float\n",
    "      Learning rate\n",
    "    no_bias : bool\n",
    "      True if no bias term is included\n",
    "    verbose : bool\n",
    "      True to output the learning process\n",
    "    \n",
    "    Attributes\n",
    "    ----------\n",
    "    self.coef_ : ndarray, shape (n_features,)\n",
    "      Parameters\n",
    "    self.loss : ndarray, shape (self.iter,)\n",
    "      Record losses on training data\n",
    "    self.val_loss : ndarray, shape (self.iter,)\n",
    "      Record loss on validation data\n",
    "    \"\"\"\n",
    "    \n",
    "    def __init__(self, num_iter=1000, lr=0.01, no_bias=False, verbose=False):\n",
    "        # Record hyperparameters as attributes\n",
    "        self.iter = num_iter\n",
    "        self.lr = lr\n",
    "        self.no_bias = no_bias\n",
    "        self.verbose = verbose\n",
    "        # Prepare an array to record the loss\n",
    "        self.loss = np.zeros(self.iter)\n",
    "        self.val_loss = np.zeros(self.iter)\n",
    "        \n",
    "    def fit(self, X, y, X_val=None, y_val=None):\n",
    "        \"\"\"\n",
    "        Learn linear regression. If validation data is entered, \n",
    "        the loss and accuracy for it are also calculated for each iteration.\n",
    "        Parameters\n",
    "        ----------\n",
    "        X : ndarray, shape (n_samples, n_features)\n",
    "            Features of training data\n",
    "        y : ndarray, shape (n_samples,)\n",
    "            Correct answer value of training data\n",
    "        X_val : ndarray, shape (n_samples, n_features)\n",
    "            Features of verification data\n",
    "        y_val : ndarray, shape (n_samples,)\n",
    "            Correct value of verification data\n",
    "        \"\"\"\n",
    "        n_samples = X.shape[0]\n",
    "        n_features = X.shape[1]\n",
    "        \n",
    "        if not self.no_bias:\n",
    "            # Append bias column to X\n",
    "            X = np.hstack([np.ones([n_samples, 1]), X])\n",
    "        \n",
    "        # Prepare theta for hypotheis function\n",
    "        self.theta = np.random.rand(n_features + (1 - self.no_bias))\n",
    "        \n",
    "        for i in range(self.iter):\n",
    "            y_hyp = self._linear_hypothesis(X)\n",
    "            self.theta = self._gradient_descent(X, y, y_hyp)\n",
    "            self.loss[i] = self._loss_function(y_hyp, y)\n",
    "            \n",
    "            if X_val is not None and y_val is not None:\n",
    "                y_predict = self.predict(X_val)\n",
    "                self.val_loss[i] = self._loss_function(y_predict, y_val)\n",
    "                \n",
    "        if self.verbose:\n",
    "            #Output learning process when verbose is set to True\n",
    "            print(\"Loss: {}\".format(self.loss))\n",
    "            print(\"Val_loss: {}\".format(self.val_loss))\n",
    "        pass\n",
    "        \n",
    "    def predict(self, X):\n",
    "        \"\"\"\n",
    "        Estimate using linear regression.\n",
    "        Parameters\n",
    "        ----------\n",
    "        X : The following forms of ndarray, shape (n_samples, n_features)\n",
    "            sample\n",
    "        Returns\n",
    "        -------\n",
    "            ndarray, shape (n_samples, 1)\n",
    "            Estimated result by linear regression\n",
    "        \"\"\"\n",
    "        if not self.no_bias:\n",
    "            n_samples = X.shape[0]\n",
    "            X = np.hstack([np.ones([n_samples, 1]), X])\n",
    "        return np.dot(X, self.theta.T)\n",
    "    \n",
    "    def _linear_hypothesis(self, X):\n",
    "        \"\"\"\n",
    "        Compute a linear hypothetical function\n",
    "        Parameters\n",
    "        ----------\n",
    "        X : The following forms of ndarray, shape (n_samples, n_features)\n",
    "          Training data\n",
    "        Returns\n",
    "        -------\n",
    "          ndarray, shape (n_samples, 1)\n",
    "          Estimated result by linear hypothetical function\n",
    "        \"\"\"\n",
    "        y_hyp = np.dot(X, self.theta.T)\n",
    "        return y_hyp\n",
    "    \n",
    "    def _gradient_descent(self, X, y, y_hyp):\n",
    "        \"\"\"\n",
    "        Update new theta j in the steepest decent method\n",
    "        Parameters\n",
    "        ----------\n",
    "        X: ndarray, shape (n_samples, n_features)\n",
    "            Training data\n",
    "        y: ndarray, shape (n_samples,)\n",
    "            Correct answer value of training data\n",
    "        y_hyp: ndarray, shape (n_samples, 1)\n",
    "        Returns\n",
    "        -------\n",
    "        update_theta: ndarray, shape (n_features, 1)\n",
    "          New theta value\n",
    "        \"\"\"\n",
    "        n_samples = X.shape[0]\n",
    "        update_theta = self.theta - (self.lr * np.dot((y_hyp - y), X) / n_samples)\n",
    "        return update_theta\n",
    "    \n",
    "    def _loss_function(self, y_pred, y):\n",
    "        \"\"\"\n",
    "        Calculation of objective function.\n",
    "        Parameters\n",
    "        ----------\n",
    "        y_pred : The following forms of ndarray, shape (n_samples,)\n",
    "          Estimated value\n",
    "        y : The following forms of ndarray, shape (n_samples,)\n",
    "          Correct answer value\n",
    "        Returns\n",
    "        ----------\n",
    "        loss: numpy.float\n",
    "          Result of the loss function\n",
    "        \"\"\"\n",
    "        loss = np.mean((y_pred - y) ** 2)\n",
    "        return loss\n",
    "        \n",
    "\n",
    "def MSE(y_pred, y):\n",
    "    \"\"\"\n",
    "    Calculation of mean square error\n",
    "    Parameters\n",
    "    ----------\n",
    "    y_pred : The following forms of ndarray, shape (n_samples,)\n",
    "      Estimated value\n",
    "    y : The following forms of ndarray, shape (n_samples,)\n",
    "      Correct answer value\n",
    "    Returns\n",
    "    ----------\n",
    "    mse : numpy.float\n",
    "      Mean squared error\n",
    "    \"\"\"\n",
    "    n_samples = y.shape[0]\n",
    "    mse = np.mean((y_pred - y)[1:] ** 2)\n",
    "    return mse"
   ]
  },
  {
   "cell_type": "markdown",
   "metadata": {
    "id": "uUDNLF81WPLQ"
   },
   "source": [
    "# 【problem1】Hypothetical function\n",
    "\n"
   ]
  },
  {
   "cell_type": "markdown",
   "metadata": {},
   "source": [
    "Implement the linear regression hypothetical function represented by the following formula. I have prepared a method template\n",
    "_linear_hypothesis"
   ]
  },
  {
   "cell_type": "markdown",
   "metadata": {
    "id": "TfLXECiOWfHj"
   },
   "source": [
    "# 【problem2】Steepest descent\n",
    "Implement the steepest descent method for training. Add a method _gradient_descent that updates the parameters as in the following equation, and\n",
    "Please it call from the fit method.\n",
    "def _gradient_descent"
   ]
  },
  {
   "cell_type": "markdown",
   "metadata": {
    "id": "rKUb_UoQWsWl"
   },
   "source": [
    "# 【problem 3】Estimated\n",
    "Please implement the estimation mechanism. Add it to the predict method included in the template of the ScratchLinearRegression class.\n",
    "def fit(self, X, y, X_val=None, y_val=None), def predict(self, X)"
   ]
  },
  {
   "cell_type": "markdown",
   "metadata": {
    "id": "5KsKROTHZAMB"
   },
   "source": [
    "# 【problem 4】Mean squared error\n",
    "\n",
    "Create a function of mean square error (MSE) used as an index value for linear regression.\n",
    "\n",
    "Since the mean square error function is a function that can be used for regression problems in general, create it as a separate function instead of the method of the ScratchLinearRegression class. We have a template.\n",
    "\n",
    "def MSE(y_pred, y)"
   ]
  },
  {
   "cell_type": "markdown",
   "metadata": {
    "id": "xpFexIieZrWu"
   },
   "source": [
    "# 【problem 5】Objective function\n",
    "Implement the objective function (loss function) of linear regression represented by the following formula and be sure to record this inself.loss,self.val_loss.\n",
    "def _loss_function(self, y_pred, y)"
   ]
  },
  {
   "cell_type": "code",
   "execution_count": 40,
   "metadata": {
    "colab": {
     "base_uri": "https://localhost:8080/"
    },
    "id": "O5iwpjdvc4sI",
    "outputId": "d8409804-53f1-46b5-8be6-e6b9673308d8"
   },
   "outputs": [
    {
     "data": {
      "text/plain": [
       "(5, 2)"
      ]
     },
     "execution_count": 40,
     "metadata": {},
     "output_type": "execute_result"
    }
   ],
   "source": [
    "X = np.array([\n",
    "    [1, 2],\n",
    "    [3, 4],\n",
    "    [5, 6],\n",
    "    [7, 8],\n",
    "    [9, 10]\n",
    "])\n",
    "X.shape\n"
   ]
  },
  {
   "cell_type": "code",
   "execution_count": 41,
   "metadata": {
    "colab": {
     "base_uri": "https://localhost:8080/"
    },
    "id": "sYuBZXh5dE-N",
    "outputId": "791991d7-6118-4d45-b6d9-54cd98b90c98"
   },
   "outputs": [
    {
     "data": {
      "text/plain": [
       "(5,)"
      ]
     },
     "execution_count": 41,
     "metadata": {},
     "output_type": "execute_result"
    }
   ],
   "source": [
    "# Let y = 2x1 + 1x2\n",
    "y = np.array([4, 10, 16, 22, 28])\n",
    "y.shape"
   ]
  },
  {
   "cell_type": "code",
   "execution_count": 42,
   "metadata": {
    "id": "VmDSL2FvdLSR"
   },
   "outputs": [],
   "source": [
    "slr = ScratchLinearRegression(100, 0.01, False, True)"
   ]
  },
  {
   "cell_type": "code",
   "execution_count": 43,
   "metadata": {
    "colab": {
     "base_uri": "https://localhost:8080/"
    },
    "id": "iTX0awoedTYl",
    "outputId": "a61951b8-1a45-46be-a12a-23bf9d6b7b3a"
   },
   "outputs": [
    {
     "name": "stdout",
     "output_type": "stream",
     "text": [
      "Loss: [1.50733235e+02 7.69771772e+00 5.77807092e-01 2.22256815e-01\n",
      " 2.03367856e-01 2.01241482e-01 1.99956678e-01 1.98721032e-01\n",
      " 1.97495059e-01 1.96276752e-01 1.95065965e-01 1.93862648e-01\n",
      " 1.92666753e-01 1.91478236e-01 1.90297050e-01 1.89123151e-01\n",
      " 1.87956493e-01 1.86797033e-01 1.85644724e-01 1.84499524e-01\n",
      " 1.83361389e-01 1.82230274e-01 1.81106137e-01 1.79988934e-01\n",
      " 1.78878624e-01 1.77775162e-01 1.76678508e-01 1.75588618e-01\n",
      " 1.74505452e-01 1.73428968e-01 1.72359124e-01 1.71295880e-01\n",
      " 1.70239194e-01 1.69189028e-01 1.68145339e-01 1.67108089e-01\n",
      " 1.66077237e-01 1.65052744e-01 1.64034572e-01 1.63022680e-01\n",
      " 1.62017030e-01 1.61017584e-01 1.60024303e-01 1.59037149e-01\n",
      " 1.58056086e-01 1.57081074e-01 1.56112076e-01 1.55149056e-01\n",
      " 1.54191977e-01 1.53240802e-01 1.52295494e-01 1.51356018e-01\n",
      " 1.50422337e-01 1.49494416e-01 1.48572219e-01 1.47655711e-01\n",
      " 1.46744857e-01 1.45839621e-01 1.44939970e-01 1.44045868e-01\n",
      " 1.43157282e-01 1.42274177e-01 1.41396520e-01 1.40524277e-01\n",
      " 1.39657415e-01 1.38795900e-01 1.37939700e-01 1.37088781e-01\n",
      " 1.36243112e-01 1.35402659e-01 1.34567391e-01 1.33737275e-01\n",
      " 1.32912281e-01 1.32092375e-01 1.31277527e-01 1.30467706e-01\n",
      " 1.29662880e-01 1.28863020e-01 1.28068093e-01 1.27278070e-01\n",
      " 1.26492921e-01 1.25712615e-01 1.24937122e-01 1.24166414e-01\n",
      " 1.23400459e-01 1.22639230e-01 1.21882696e-01 1.21130830e-01\n",
      " 1.20383601e-01 1.19640982e-01 1.18902944e-01 1.18169459e-01\n",
      " 1.17440499e-01 1.16716035e-01 1.15996040e-01 1.15280487e-01\n",
      " 1.14569348e-01 1.13862596e-01 1.13160204e-01 1.12462144e-01]\n",
      "Val_loss: [0. 0. 0. 0. 0. 0. 0. 0. 0. 0. 0. 0. 0. 0. 0. 0. 0. 0. 0. 0. 0. 0. 0. 0.\n",
      " 0. 0. 0. 0. 0. 0. 0. 0. 0. 0. 0. 0. 0. 0. 0. 0. 0. 0. 0. 0. 0. 0. 0. 0.\n",
      " 0. 0. 0. 0. 0. 0. 0. 0. 0. 0. 0. 0. 0. 0. 0. 0. 0. 0. 0. 0. 0. 0. 0. 0.\n",
      " 0. 0. 0. 0. 0. 0. 0. 0. 0. 0. 0. 0. 0. 0. 0. 0. 0. 0. 0. 0. 0. 0. 0. 0.\n",
      " 0. 0. 0. 0.]\n"
     ]
    }
   ],
   "source": [
    "theta = slr.fit(X, y)"
   ]
  },
  {
   "cell_type": "code",
   "execution_count": 44,
   "metadata": {
    "colab": {
     "base_uri": "https://localhost:8080/"
    },
    "id": "eleYU90FdbbS",
    "outputId": "c4fddef9-2b6e-464e-dcbc-f2c4299866c1"
   },
   "outputs": [
    {
     "data": {
      "text/plain": [
       "array([ 4.57269322, 10.36161897, 16.15054472, 21.93947047, 27.72839622])"
      ]
     },
     "execution_count": 44,
     "metadata": {},
     "output_type": "execute_result"
    }
   ],
   "source": [
    "slr_predict = slr.predict(X)\n",
    "slr_predict"
   ]
  },
  {
   "cell_type": "code",
   "execution_count": 45,
   "metadata": {
    "colab": {
     "base_uri": "https://localhost:8080/"
    },
    "id": "6RWs1DFzddDR",
    "outputId": "d9036d7e-0b2f-4443-c604-897f67a4231a"
   },
   "outputs": [
    {
     "data": {
      "text/plain": [
       "np.float64(0.0577161073667746)"
      ]
     },
     "execution_count": 45,
     "metadata": {},
     "output_type": "execute_result"
    }
   ],
   "source": [
    "MSE(y,slr_predict)"
   ]
  },
  {
   "cell_type": "markdown",
   "metadata": {
    "id": "9lTjj-gLdgyL"
   },
   "source": [
    "# Problem 6 Learning and Estimation\n",
    "Learn and estimate scratch implementations from the House Prices competition data provided in Sprint, an introduction to machine learning scratch.\n",
    "\n",
    "Compare this with the scikit-learn implementation and see if it works correctly."
   ]
  },
  {
   "cell_type": "code",
   "execution_count": 17,
   "metadata": {
    "colab": {
     "base_uri": "https://localhost:8080/",
     "height": 300
    },
    "id": "e_HsCHCyd9m0",
    "outputId": "5a146429-49e4-48b2-d3dd-ebb7634920ea"
   },
   "outputs": [
    {
     "data": {
      "text/html": [
       "<div>\n",
       "<style scoped>\n",
       "    .dataframe tbody tr th:only-of-type {\n",
       "        vertical-align: middle;\n",
       "    }\n",
       "\n",
       "    .dataframe tbody tr th {\n",
       "        vertical-align: top;\n",
       "    }\n",
       "\n",
       "    .dataframe thead th {\n",
       "        text-align: right;\n",
       "    }\n",
       "</style>\n",
       "<table border=\"1\" class=\"dataframe\">\n",
       "  <thead>\n",
       "    <tr style=\"text-align: right;\">\n",
       "      <th></th>\n",
       "      <th>Id</th>\n",
       "      <th>MSSubClass</th>\n",
       "      <th>MSZoning</th>\n",
       "      <th>LotFrontage</th>\n",
       "      <th>LotArea</th>\n",
       "      <th>Street</th>\n",
       "      <th>Alley</th>\n",
       "      <th>LotShape</th>\n",
       "      <th>LandContour</th>\n",
       "      <th>Utilities</th>\n",
       "      <th>...</th>\n",
       "      <th>PoolArea</th>\n",
       "      <th>PoolQC</th>\n",
       "      <th>Fence</th>\n",
       "      <th>MiscFeature</th>\n",
       "      <th>MiscVal</th>\n",
       "      <th>MoSold</th>\n",
       "      <th>YrSold</th>\n",
       "      <th>SaleType</th>\n",
       "      <th>SaleCondition</th>\n",
       "      <th>SalePrice</th>\n",
       "    </tr>\n",
       "  </thead>\n",
       "  <tbody>\n",
       "    <tr>\n",
       "      <th>0</th>\n",
       "      <td>1</td>\n",
       "      <td>60</td>\n",
       "      <td>RL</td>\n",
       "      <td>65.0</td>\n",
       "      <td>8450</td>\n",
       "      <td>Pave</td>\n",
       "      <td>NaN</td>\n",
       "      <td>Reg</td>\n",
       "      <td>Lvl</td>\n",
       "      <td>AllPub</td>\n",
       "      <td>...</td>\n",
       "      <td>0</td>\n",
       "      <td>NaN</td>\n",
       "      <td>NaN</td>\n",
       "      <td>NaN</td>\n",
       "      <td>0</td>\n",
       "      <td>2</td>\n",
       "      <td>2008</td>\n",
       "      <td>WD</td>\n",
       "      <td>Normal</td>\n",
       "      <td>208500</td>\n",
       "    </tr>\n",
       "    <tr>\n",
       "      <th>1</th>\n",
       "      <td>2</td>\n",
       "      <td>20</td>\n",
       "      <td>RL</td>\n",
       "      <td>80.0</td>\n",
       "      <td>9600</td>\n",
       "      <td>Pave</td>\n",
       "      <td>NaN</td>\n",
       "      <td>Reg</td>\n",
       "      <td>Lvl</td>\n",
       "      <td>AllPub</td>\n",
       "      <td>...</td>\n",
       "      <td>0</td>\n",
       "      <td>NaN</td>\n",
       "      <td>NaN</td>\n",
       "      <td>NaN</td>\n",
       "      <td>0</td>\n",
       "      <td>5</td>\n",
       "      <td>2007</td>\n",
       "      <td>WD</td>\n",
       "      <td>Normal</td>\n",
       "      <td>181500</td>\n",
       "    </tr>\n",
       "    <tr>\n",
       "      <th>2</th>\n",
       "      <td>3</td>\n",
       "      <td>60</td>\n",
       "      <td>RL</td>\n",
       "      <td>68.0</td>\n",
       "      <td>11250</td>\n",
       "      <td>Pave</td>\n",
       "      <td>NaN</td>\n",
       "      <td>IR1</td>\n",
       "      <td>Lvl</td>\n",
       "      <td>AllPub</td>\n",
       "      <td>...</td>\n",
       "      <td>0</td>\n",
       "      <td>NaN</td>\n",
       "      <td>NaN</td>\n",
       "      <td>NaN</td>\n",
       "      <td>0</td>\n",
       "      <td>9</td>\n",
       "      <td>2008</td>\n",
       "      <td>WD</td>\n",
       "      <td>Normal</td>\n",
       "      <td>223500</td>\n",
       "    </tr>\n",
       "    <tr>\n",
       "      <th>3</th>\n",
       "      <td>4</td>\n",
       "      <td>70</td>\n",
       "      <td>RL</td>\n",
       "      <td>60.0</td>\n",
       "      <td>9550</td>\n",
       "      <td>Pave</td>\n",
       "      <td>NaN</td>\n",
       "      <td>IR1</td>\n",
       "      <td>Lvl</td>\n",
       "      <td>AllPub</td>\n",
       "      <td>...</td>\n",
       "      <td>0</td>\n",
       "      <td>NaN</td>\n",
       "      <td>NaN</td>\n",
       "      <td>NaN</td>\n",
       "      <td>0</td>\n",
       "      <td>2</td>\n",
       "      <td>2006</td>\n",
       "      <td>WD</td>\n",
       "      <td>Abnorml</td>\n",
       "      <td>140000</td>\n",
       "    </tr>\n",
       "    <tr>\n",
       "      <th>4</th>\n",
       "      <td>5</td>\n",
       "      <td>60</td>\n",
       "      <td>RL</td>\n",
       "      <td>84.0</td>\n",
       "      <td>14260</td>\n",
       "      <td>Pave</td>\n",
       "      <td>NaN</td>\n",
       "      <td>IR1</td>\n",
       "      <td>Lvl</td>\n",
       "      <td>AllPub</td>\n",
       "      <td>...</td>\n",
       "      <td>0</td>\n",
       "      <td>NaN</td>\n",
       "      <td>NaN</td>\n",
       "      <td>NaN</td>\n",
       "      <td>0</td>\n",
       "      <td>12</td>\n",
       "      <td>2008</td>\n",
       "      <td>WD</td>\n",
       "      <td>Normal</td>\n",
       "      <td>250000</td>\n",
       "    </tr>\n",
       "  </tbody>\n",
       "</table>\n",
       "<p>5 rows × 81 columns</p>\n",
       "</div>"
      ],
      "text/plain": [
       "   Id  MSSubClass MSZoning  LotFrontage  LotArea Street Alley LotShape  \\\n",
       "0   1          60       RL         65.0     8450   Pave   NaN      Reg   \n",
       "1   2          20       RL         80.0     9600   Pave   NaN      Reg   \n",
       "2   3          60       RL         68.0    11250   Pave   NaN      IR1   \n",
       "3   4          70       RL         60.0     9550   Pave   NaN      IR1   \n",
       "4   5          60       RL         84.0    14260   Pave   NaN      IR1   \n",
       "\n",
       "  LandContour Utilities  ... PoolArea PoolQC Fence MiscFeature MiscVal MoSold  \\\n",
       "0         Lvl    AllPub  ...        0    NaN   NaN         NaN       0      2   \n",
       "1         Lvl    AllPub  ...        0    NaN   NaN         NaN       0      5   \n",
       "2         Lvl    AllPub  ...        0    NaN   NaN         NaN       0      9   \n",
       "3         Lvl    AllPub  ...        0    NaN   NaN         NaN       0      2   \n",
       "4         Lvl    AllPub  ...        0    NaN   NaN         NaN       0     12   \n",
       "\n",
       "  YrSold  SaleType  SaleCondition  SalePrice  \n",
       "0   2008        WD         Normal     208500  \n",
       "1   2007        WD         Normal     181500  \n",
       "2   2008        WD         Normal     223500  \n",
       "3   2006        WD        Abnorml     140000  \n",
       "4   2008        WD         Normal     250000  \n",
       "\n",
       "[5 rows x 81 columns]"
      ]
     },
     "execution_count": 17,
     "metadata": {},
     "output_type": "execute_result"
    }
   ],
   "source": [
    "df = pd.read_csv('train.csv')\n",
    "df.head()"
   ]
  },
  {
   "cell_type": "code",
   "execution_count": 18,
   "metadata": {
    "id": "rUyfafWEZ09s"
   },
   "outputs": [],
   "source": [
    "X = df[['GrLivArea']].values\n",
    "y = df['SalePrice'].values"
   ]
  },
  {
   "cell_type": "code",
   "execution_count": 19,
   "metadata": {
    "colab": {
     "base_uri": "https://localhost:8080/"
    },
    "id": "K64jKEbwaKpM",
    "outputId": "b90ab33a-054b-4817-e4f2-cb86c6ea2d75"
   },
   "outputs": [
    {
     "name": "stdout",
     "output_type": "stream",
     "text": [
      "(1095, 1) (365, 1) (1095,) (365,)\n"
     ]
    }
   ],
   "source": [
    "from sklearn.model_selection import train_test_split\n",
    "X_train, X_test, y_train, y_test = train_test_split(X, y)\n",
    "print(X_train.shape, X_test.shape, y_train.shape, y_test.shape)"
   ]
  },
  {
   "cell_type": "code",
   "execution_count": 20,
   "metadata": {
    "colab": {
     "base_uri": "https://localhost:8080/"
    },
    "id": "H-PTV39XaXiV",
    "outputId": "e5012501-f784-426d-dae0-23f953e28e54"
   },
   "outputs": [
    {
     "data": {
      "text/plain": [
       "array([[1710],\n",
       "       [1262],\n",
       "       [1786],\n",
       "       [1717],\n",
       "       [2198]])"
      ]
     },
     "execution_count": 20,
     "metadata": {},
     "output_type": "execute_result"
    }
   ],
   "source": [
    "X[:5]"
   ]
  },
  {
   "cell_type": "code",
   "execution_count": 21,
   "metadata": {
    "colab": {
     "base_uri": "https://localhost:8080/"
    },
    "id": "7iS7CCLlami0",
    "outputId": "5f2c8d27-58be-491b-c605-630bcbaa1348"
   },
   "outputs": [
    {
     "data": {
      "text/plain": [
       "array([208500, 181500, 223500, 140000, 250000])"
      ]
     },
     "execution_count": 21,
     "metadata": {},
     "output_type": "execute_result"
    }
   ],
   "source": [
    "y[:5]"
   ]
  },
  {
   "cell_type": "code",
   "execution_count": 22,
   "metadata": {
    "id": "su0wJs0QaoJ-"
   },
   "outputs": [],
   "source": [
    "from sklearn.preprocessing import StandardScaler\n",
    "\n",
    "scaler = StandardScaler()\n",
    "scaler.fit(X_train)\n",
    "\n",
    "X_train_scaled = scaler.transform(X_train)\n",
    "X_test_scaled = scaler.transform(X_test)"
   ]
  },
  {
   "cell_type": "code",
   "execution_count": 23,
   "metadata": {
    "colab": {
     "base_uri": "https://localhost:8080/",
     "height": 205
    },
    "id": "PcyMISviavf5",
    "outputId": "540497f9-77a0-4ccf-c5e0-3f658594cf97"
   },
   "outputs": [
    {
     "data": {
      "text/html": [
       "<div>\n",
       "<style scoped>\n",
       "    .dataframe tbody tr th:only-of-type {\n",
       "        vertical-align: middle;\n",
       "    }\n",
       "\n",
       "    .dataframe tbody tr th {\n",
       "        vertical-align: top;\n",
       "    }\n",
       "\n",
       "    .dataframe thead th {\n",
       "        text-align: right;\n",
       "    }\n",
       "</style>\n",
       "<table border=\"1\" class=\"dataframe\">\n",
       "  <thead>\n",
       "    <tr style=\"text-align: right;\">\n",
       "      <th></th>\n",
       "      <th>0</th>\n",
       "      <th>1</th>\n",
       "      <th>2</th>\n",
       "      <th>3</th>\n",
       "      <th>4</th>\n",
       "      <th>5</th>\n",
       "      <th>6</th>\n",
       "      <th>7</th>\n",
       "      <th>8</th>\n",
       "      <th>9</th>\n",
       "      <th>...</th>\n",
       "      <th>355</th>\n",
       "      <th>356</th>\n",
       "      <th>357</th>\n",
       "      <th>358</th>\n",
       "      <th>359</th>\n",
       "      <th>360</th>\n",
       "      <th>361</th>\n",
       "      <th>362</th>\n",
       "      <th>363</th>\n",
       "      <th>364</th>\n",
       "    </tr>\n",
       "  </thead>\n",
       "  <tbody>\n",
       "    <tr>\n",
       "      <th>0</th>\n",
       "      <td>101879.948378</td>\n",
       "      <td>187968.806082</td>\n",
       "      <td>113329.105924</td>\n",
       "      <td>174097.711362</td>\n",
       "      <td>103641.357231</td>\n",
       "      <td>172446.390562</td>\n",
       "      <td>211968.001708</td>\n",
       "      <td>159125.736109</td>\n",
       "      <td>98357.130671</td>\n",
       "      <td>235416.757067</td>\n",
       "      <td>...</td>\n",
       "      <td>185326.692802</td>\n",
       "      <td>100779.067844</td>\n",
       "      <td>393283.025543</td>\n",
       "      <td>100118.539524</td>\n",
       "      <td>150759.044056</td>\n",
       "      <td>112228.225391</td>\n",
       "      <td>130062.49003</td>\n",
       "      <td>299598.092159</td>\n",
       "      <td>131823.898883</td>\n",
       "      <td>172996.830829</td>\n",
       "    </tr>\n",
       "    <tr>\n",
       "      <th>1</th>\n",
       "      <td>60000.000000</td>\n",
       "      <td>185900.000000</td>\n",
       "      <td>119000.000000</td>\n",
       "      <td>163990.000000</td>\n",
       "      <td>138000.000000</td>\n",
       "      <td>174000.000000</td>\n",
       "      <td>239000.000000</td>\n",
       "      <td>164500.000000</td>\n",
       "      <td>129500.000000</td>\n",
       "      <td>269790.000000</td>\n",
       "      <td>...</td>\n",
       "      <td>140000.000000</td>\n",
       "      <td>91000.000000</td>\n",
       "      <td>381000.000000</td>\n",
       "      <td>76000.000000</td>\n",
       "      <td>150000.000000</td>\n",
       "      <td>149900.000000</td>\n",
       "      <td>145000.00000</td>\n",
       "      <td>342643.000000</td>\n",
       "      <td>145000.000000</td>\n",
       "      <td>175000.000000</td>\n",
       "    </tr>\n",
       "  </tbody>\n",
       "</table>\n",
       "<p>2 rows × 365 columns</p>\n",
       "</div>"
      ],
      "text/plain": [
       "             0              1              2              3              4    \\\n",
       "0  101879.948378  187968.806082  113329.105924  174097.711362  103641.357231   \n",
       "1   60000.000000  185900.000000  119000.000000  163990.000000  138000.000000   \n",
       "\n",
       "             5              6              7              8              9    \\\n",
       "0  172446.390562  211968.001708  159125.736109   98357.130671  235416.757067   \n",
       "1  174000.000000  239000.000000  164500.000000  129500.000000  269790.000000   \n",
       "\n",
       "   ...            355            356            357            358  \\\n",
       "0  ...  185326.692802  100779.067844  393283.025543  100118.539524   \n",
       "1  ...  140000.000000   91000.000000  381000.000000   76000.000000   \n",
       "\n",
       "             359            360           361            362            363  \\\n",
       "0  150759.044056  112228.225391  130062.49003  299598.092159  131823.898883   \n",
       "1  150000.000000  149900.000000  145000.00000  342643.000000  145000.000000   \n",
       "\n",
       "             364  \n",
       "0  172996.830829  \n",
       "1  175000.000000  \n",
       "\n",
       "[2 rows x 365 columns]"
      ]
     },
     "execution_count": 23,
     "metadata": {},
     "output_type": "execute_result"
    }
   ],
   "source": [
    "slr_house = ScratchLinearRegression()\n",
    "slr_house.fit(X_train_scaled, y_train, X_test_scaled, y_test)\n",
    "y_house_predict = slr_house.predict(X_test_scaled)\n",
    "\n",
    "pd.DataFrame([y_house_predict, y_test])"
   ]
  },
  {
   "cell_type": "code",
   "execution_count": 46,
   "metadata": {
    "colab": {
     "base_uri": "https://localhost:8080/"
    },
    "id": "LuHfn1xsbG_d",
    "outputId": "d7b5b450-d1f1-4556-bf64-cb38f0ff815b"
   },
   "outputs": [
    {
     "data": {
      "text/plain": [
       "np.float64(1777586601.9638963)"
      ]
     },
     "execution_count": 46,
     "metadata": {},
     "output_type": "execute_result"
    }
   ],
   "source": [
    "MSE(y_house_predict, y_test)"
   ]
  },
  {
   "cell_type": "code",
   "execution_count": 25,
   "metadata": {
    "colab": {
     "base_uri": "https://localhost:8080/",
     "height": 295
    },
    "id": "H2eJ9KZ6btCR",
    "outputId": "6dd22152-8dec-4a53-b4de-f8baccf278d8"
   },
   "outputs": [
    {
     "data": {
      "image/png": "[encoded data removed]",
      "text/plain": [
       "<Figure size 640x480 with 1 Axes>"
      ]
     },
     "metadata": {},
     "output_type": "display_data"
    }
   ],
   "source": [
    "import matplotlib.pyplot as plt\n",
    "%matplotlib inline\n",
    "\n",
    "plt.title('Predict with Scratch Linear Regression')\n",
    "plt.xlabel('GrLivArea')\n",
    "plt.ylabel('SalePrice')\n",
    "plt.scatter(X_test, y_test, label='Truth value')\n",
    "plt.scatter(X_test, y_house_predict, label='Predicted value')\n",
    "plt.legend()\n",
    "plt.show()"
   ]
  },
  {
   "cell_type": "code",
   "execution_count": 26,
   "metadata": {
    "colab": {
     "base_uri": "https://localhost:8080/",
     "height": 240
    },
    "id": "OZV6GeITc0rN",
    "outputId": "612057ee-7a48-470b-f29c-b7c6dc375925"
   },
   "outputs": [
    {
     "data": {
      "text/html": [
       "<div>\n",
       "<style scoped>\n",
       "    .dataframe tbody tr th:only-of-type {\n",
       "        vertical-align: middle;\n",
       "    }\n",
       "\n",
       "    .dataframe tbody tr th {\n",
       "        vertical-align: top;\n",
       "    }\n",
       "\n",
       "    .dataframe thead th {\n",
       "        text-align: right;\n",
       "    }\n",
       "</style>\n",
       "<table border=\"1\" class=\"dataframe\">\n",
       "  <thead>\n",
       "    <tr style=\"text-align: right;\">\n",
       "      <th></th>\n",
       "      <th>0</th>\n",
       "      <th>1</th>\n",
       "      <th>2</th>\n",
       "      <th>3</th>\n",
       "      <th>4</th>\n",
       "      <th>5</th>\n",
       "      <th>6</th>\n",
       "      <th>7</th>\n",
       "      <th>8</th>\n",
       "      <th>9</th>\n",
       "      <th>...</th>\n",
       "      <th>355</th>\n",
       "      <th>356</th>\n",
       "      <th>357</th>\n",
       "      <th>358</th>\n",
       "      <th>359</th>\n",
       "      <th>360</th>\n",
       "      <th>361</th>\n",
       "      <th>362</th>\n",
       "      <th>363</th>\n",
       "      <th>364</th>\n",
       "    </tr>\n",
       "  </thead>\n",
       "  <tbody>\n",
       "    <tr>\n",
       "      <th>Predicted value</th>\n",
       "      <td>101884.34687</td>\n",
       "      <td>187976.921256</td>\n",
       "      <td>113333.998707</td>\n",
       "      <td>174105.227685</td>\n",
       "      <td>103645.831768</td>\n",
       "      <td>172453.835593</td>\n",
       "      <td>211977.15299</td>\n",
       "      <td>159132.606053</td>\n",
       "      <td>98361.377075</td>\n",
       "      <td>235426.920694</td>\n",
       "      <td>...</td>\n",
       "      <td>185334.693909</td>\n",
       "      <td>100783.418809</td>\n",
       "      <td>393300.004669</td>\n",
       "      <td>100122.861972</td>\n",
       "      <td>150765.552788</td>\n",
       "      <td>112233.070646</td>\n",
       "      <td>130068.105237</td>\n",
       "      <td>299611.026661</td>\n",
       "      <td>131829.590135</td>\n",
       "      <td>173004.299624</td>\n",
       "    </tr>\n",
       "    <tr>\n",
       "      <th>Truth value</th>\n",
       "      <td>60000.00000</td>\n",
       "      <td>185900.000000</td>\n",
       "      <td>119000.000000</td>\n",
       "      <td>163990.000000</td>\n",
       "      <td>138000.000000</td>\n",
       "      <td>174000.000000</td>\n",
       "      <td>239000.00000</td>\n",
       "      <td>164500.000000</td>\n",
       "      <td>129500.000000</td>\n",
       "      <td>269790.000000</td>\n",
       "      <td>...</td>\n",
       "      <td>140000.000000</td>\n",
       "      <td>91000.000000</td>\n",
       "      <td>381000.000000</td>\n",
       "      <td>76000.000000</td>\n",
       "      <td>150000.000000</td>\n",
       "      <td>149900.000000</td>\n",
       "      <td>145000.000000</td>\n",
       "      <td>342643.000000</td>\n",
       "      <td>145000.000000</td>\n",
       "      <td>175000.000000</td>\n",
       "    </tr>\n",
       "  </tbody>\n",
       "</table>\n",
       "<p>2 rows × 365 columns</p>\n",
       "</div>"
      ],
      "text/plain": [
       "                          0              1              2              3    \\\n",
       "Predicted value  101884.34687  187976.921256  113333.998707  174105.227685   \n",
       "Truth value       60000.00000  185900.000000  119000.000000  163990.000000   \n",
       "\n",
       "                           4              5             6              7    \\\n",
       "Predicted value  103645.831768  172453.835593  211977.15299  159132.606053   \n",
       "Truth value      138000.000000  174000.000000  239000.00000  164500.000000   \n",
       "\n",
       "                           8              9    ...            355  \\\n",
       "Predicted value   98361.377075  235426.920694  ...  185334.693909   \n",
       "Truth value      129500.000000  269790.000000  ...  140000.000000   \n",
       "\n",
       "                           356            357            358            359  \\\n",
       "Predicted value  100783.418809  393300.004669  100122.861972  150765.552788   \n",
       "Truth value       91000.000000  381000.000000   76000.000000  150000.000000   \n",
       "\n",
       "                           360            361            362            363  \\\n",
       "Predicted value  112233.070646  130068.105237  299611.026661  131829.590135   \n",
       "Truth value      149900.000000  145000.000000  342643.000000  145000.000000   \n",
       "\n",
       "                           364  \n",
       "Predicted value  173004.299624  \n",
       "Truth value      175000.000000  \n",
       "\n",
       "[2 rows x 365 columns]"
      ]
     },
     "execution_count": 26,
     "metadata": {},
     "output_type": "execute_result"
    }
   ],
   "source": [
    "from sklearn.linear_model import LinearRegression\n",
    "from sklearn.metrics import mean_squared_error\n",
    "\n",
    "lr = LinearRegression()\n",
    "lr.fit(X_train_scaled, y_train)\n",
    "lr_predict = lr.predict(X_test_scaled)\n",
    "\n",
    "pd.DataFrame([lr_predict, y_test], index=['Predicted value', 'Truth value'])"
   ]
  },
  {
   "cell_type": "code",
   "execution_count": 27,
   "metadata": {
    "colab": {
     "base_uri": "https://localhost:8080/"
    },
    "id": "Fgp46elidif0",
    "outputId": "78b70413-bd8e-431c-bfa7-8ec8a24fd627"
   },
   "outputs": [
    {
     "data": {
      "text/plain": [
       "3331188890.504416"
      ]
     },
     "execution_count": 27,
     "metadata": {},
     "output_type": "execute_result"
    }
   ],
   "source": [
    "mean_squared_error(y_test, lr_predict)"
   ]
  },
  {
   "cell_type": "markdown",
   "metadata": {
    "id": "e4YWkQe6dyDU"
   },
   "source": [
    "### Problem 7 Plotting the learning curve\n",
    "\n",
    "\n",
    "Create and execute a function that displays the learning curve. Look at the graph to see if the loss is down properly.\n",
    "\n",
    "In the template of the linear regression class, the loss is recorded in self.loss and self.val_loss, so please use this for input.\n",
    "\n"
   ]
  },
  {
   "cell_type": "code",
   "execution_count": 28,
   "metadata": {
    "colab": {
     "base_uri": "https://localhost:8080/",
     "height": 295
    },
    "id": "mDELFLtAdpiO",
    "outputId": "263fc751-6bf5-4ca9-c0cb-cbf8dcba4333"
   },
   "outputs": [
    {
     "data": {
      "image/png": "[encoded data removed]",
      "text/plain": [
       "<Figure size 640x480 with 1 Axes>"
      ]
     },
     "metadata": {},
     "output_type": "display_data"
    }
   ],
   "source": [
    "plt.title('Learning Curve Plot')\n",
    "plt.xlabel('iter')\n",
    "plt.ylabel('loss')\n",
    "plt.scatter(range(slr_house.iter), slr_house.loss, label='train_loss')\n",
    "plt.scatter(range(slr_house.iter), slr_house.val_loss, label='val_loss')\n",
    "plt.legend()\n",
    "plt.show()"
   ]
  },
  {
   "cell_type": "markdown",
   "metadata": {
    "id": "xdzfmpietNv7"
   },
   "source": [
    "### 【problem 8】(Advance task) Removal of bias term\n",
    "\n",
    "---\n",
    "\n"
   ]
  },
  {
   "cell_type": "code",
   "execution_count": 29,
   "metadata": {
    "colab": {
     "base_uri": "https://localhost:8080/",
     "height": 240
    },
    "id": "zBq66cR4tNXW",
    "outputId": "1eb0dfad-e094-479d-f856-e54e4e64f6f2"
   },
   "outputs": [
    {
     "data": {
      "text/html": [
       "<div>\n",
       "<style scoped>\n",
       "    .dataframe tbody tr th:only-of-type {\n",
       "        vertical-align: middle;\n",
       "    }\n",
       "\n",
       "    .dataframe tbody tr th {\n",
       "        vertical-align: top;\n",
       "    }\n",
       "\n",
       "    .dataframe thead th {\n",
       "        text-align: right;\n",
       "    }\n",
       "</style>\n",
       "<table border=\"1\" class=\"dataframe\">\n",
       "  <thead>\n",
       "    <tr style=\"text-align: right;\">\n",
       "      <th></th>\n",
       "      <th>0</th>\n",
       "      <th>1</th>\n",
       "      <th>2</th>\n",
       "      <th>3</th>\n",
       "      <th>4</th>\n",
       "      <th>5</th>\n",
       "      <th>6</th>\n",
       "      <th>7</th>\n",
       "      <th>8</th>\n",
       "      <th>9</th>\n",
       "      <th>...</th>\n",
       "      <th>355</th>\n",
       "      <th>356</th>\n",
       "      <th>357</th>\n",
       "      <th>358</th>\n",
       "      <th>359</th>\n",
       "      <th>360</th>\n",
       "      <th>361</th>\n",
       "      <th>362</th>\n",
       "      <th>363</th>\n",
       "      <th>364</th>\n",
       "    </tr>\n",
       "  </thead>\n",
       "  <tbody>\n",
       "    <tr>\n",
       "      <th>Predict value</th>\n",
       "      <td>-78608.902306</td>\n",
       "      <td>7479.955405</td>\n",
       "      <td>-67159.744759</td>\n",
       "      <td>-6391.139316</td>\n",
       "      <td>-76847.493453</td>\n",
       "      <td>-8042.460116</td>\n",
       "      <td>31479.151033</td>\n",
       "      <td>-21363.11457</td>\n",
       "      <td>-82131.720013</td>\n",
       "      <td>54927.906394</td>\n",
       "      <td>...</td>\n",
       "      <td>4837.842125</td>\n",
       "      <td>-79709.78284</td>\n",
       "      <td>212794.174883</td>\n",
       "      <td>-80370.31116</td>\n",
       "      <td>-29729.806624</td>\n",
       "      <td>-68260.625292</td>\n",
       "      <td>-50426.360651</td>\n",
       "      <td>119109.241491</td>\n",
       "      <td>-48664.951798</td>\n",
       "      <td>-7492.019849</td>\n",
       "    </tr>\n",
       "    <tr>\n",
       "      <th>Truth value</th>\n",
       "      <td>60000.000000</td>\n",
       "      <td>185900.000000</td>\n",
       "      <td>119000.000000</td>\n",
       "      <td>163990.000000</td>\n",
       "      <td>138000.000000</td>\n",
       "      <td>174000.000000</td>\n",
       "      <td>239000.000000</td>\n",
       "      <td>164500.00000</td>\n",
       "      <td>129500.000000</td>\n",
       "      <td>269790.000000</td>\n",
       "      <td>...</td>\n",
       "      <td>140000.000000</td>\n",
       "      <td>91000.00000</td>\n",
       "      <td>381000.000000</td>\n",
       "      <td>76000.00000</td>\n",
       "      <td>150000.000000</td>\n",
       "      <td>149900.000000</td>\n",
       "      <td>145000.000000</td>\n",
       "      <td>342643.000000</td>\n",
       "      <td>145000.000000</td>\n",
       "      <td>175000.000000</td>\n",
       "    </tr>\n",
       "  </tbody>\n",
       "</table>\n",
       "<p>2 rows × 365 columns</p>\n",
       "</div>"
      ],
      "text/plain": [
       "                        0              1              2              3    \\\n",
       "Predict value -78608.902306    7479.955405  -67159.744759   -6391.139316   \n",
       "Truth value    60000.000000  185900.000000  119000.000000  163990.000000   \n",
       "\n",
       "                         4              5              6             7    \\\n",
       "Predict value  -76847.493453   -8042.460116   31479.151033  -21363.11457   \n",
       "Truth value    138000.000000  174000.000000  239000.000000  164500.00000   \n",
       "\n",
       "                         8              9    ...            355          356  \\\n",
       "Predict value  -82131.720013   54927.906394  ...    4837.842125 -79709.78284   \n",
       "Truth value    129500.000000  269790.000000  ...  140000.000000  91000.00000   \n",
       "\n",
       "                         357          358            359            360  \\\n",
       "Predict value  212794.174883 -80370.31116  -29729.806624  -68260.625292   \n",
       "Truth value    381000.000000  76000.00000  150000.000000  149900.000000   \n",
       "\n",
       "                         361            362            363            364  \n",
       "Predict value  -50426.360651  119109.241491  -48664.951798   -7492.019849  \n",
       "Truth value    145000.000000  342643.000000  145000.000000  175000.000000  \n",
       "\n",
       "[2 rows x 365 columns]"
      ]
     },
     "execution_count": 29,
     "metadata": {},
     "output_type": "execute_result"
    }
   ],
   "source": [
    "slr_nobias = ScratchLinearRegression(no_bias=True)\n",
    "slr_nobias.fit(X_train_scaled, y_train)\n",
    "slr_nobias_predict = slr_nobias.predict(X_test_scaled)\n",
    "\n",
    "pd.DataFrame([slr_nobias_predict, y_test], index=['Predict value', 'Truth value'])"
   ]
  },
  {
   "cell_type": "code",
   "execution_count": 30,
   "metadata": {
    "colab": {
     "base_uri": "https://localhost:8080/",
     "height": 295
    },
    "id": "5eRGNJhctZML",
    "outputId": "c4b0fa3b-f4a8-4b99-edad-acdd63544e8c"
   },
   "outputs": [
    {
     "data": {
      "image/png": "[encoded data removed]",
      "text/plain": [
       "<Figure size 640x480 with 1 Axes>"
      ]
     },
     "metadata": {},
     "output_type": "display_data"
    }
   ],
   "source": [
    "plt.title('Predict with ScratchLinearRegression (no bias)')\n",
    "plt.xlabel('GrLivArea')\n",
    "plt.ylabel('SalePrice')\n",
    "plt.scatter(X_test, y_test, label='Truth value')\n",
    "plt.scatter(X_test, slr_nobias_predict, label='Predicted value')\n",
    "plt.legend()\n",
    "plt.show()"
   ]
  },
  {
   "cell_type": "markdown",
   "metadata": {
    "id": "5mkF1IUDLgoV"
   },
   "source": [
    "The bias term is used to allow models to represent patterns that do not pass through the origin. In this problem, when there is no bias term, the predicted sale price can be negative and most predicted values is smaller than expected values. The bias term now shifts the sale price up on y-axis."
   ]
  },
  {
   "cell_type": "markdown",
   "metadata": {
    "id": "0U3Y-OM3Ls70"
   },
   "source": [
    "### 【problem 9】(Advance task) Multidimensional feature quantity\n",
    "\n",
    "---\n",
    "\n"
   ]
  },
  {
   "cell_type": "code",
   "execution_count": 31,
   "metadata": {
    "colab": {
     "base_uri": "https://localhost:8080/"
    },
    "id": "1J_THuL1S7N7",
    "outputId": "7e1a67ad-59cc-4092-dda2-6fa889176677"
   },
   "outputs": [
    {
     "name": "stdout",
     "output_type": "stream",
     "text": [
      "(1095, 2) (365, 2) (1095,) (365,)\n"
     ]
    }
   ],
   "source": [
    "X = df[['GrLivArea', 'YearBuilt']].values\n",
    "y = df['SalePrice'].values\n",
    "\n",
    "X_train, X_test, y_train, y_test = train_test_split(X, y)\n",
    "print(X_train.shape, X_test.shape, y_train.shape, y_test.shape)"
   ]
  },
  {
   "cell_type": "code",
   "execution_count": 32,
   "metadata": {
    "colab": {
     "base_uri": "https://localhost:8080/",
     "height": 205
    },
    "id": "wduZhozQTria",
    "outputId": "9f231dbb-f46f-4e56-dee1-c9a2abe2334d"
   },
   "outputs": [
    {
     "data": {
      "text/html": [
       "<div>\n",
       "<style scoped>\n",
       "    .dataframe tbody tr th:only-of-type {\n",
       "        vertical-align: middle;\n",
       "    }\n",
       "\n",
       "    .dataframe tbody tr th {\n",
       "        vertical-align: top;\n",
       "    }\n",
       "\n",
       "    .dataframe thead th {\n",
       "        text-align: right;\n",
       "    }\n",
       "</style>\n",
       "<table border=\"1\" class=\"dataframe\">\n",
       "  <thead>\n",
       "    <tr style=\"text-align: right;\">\n",
       "      <th></th>\n",
       "      <th>0</th>\n",
       "      <th>1</th>\n",
       "      <th>2</th>\n",
       "      <th>3</th>\n",
       "      <th>4</th>\n",
       "      <th>5</th>\n",
       "      <th>6</th>\n",
       "      <th>7</th>\n",
       "      <th>8</th>\n",
       "      <th>9</th>\n",
       "      <th>...</th>\n",
       "      <th>355</th>\n",
       "      <th>356</th>\n",
       "      <th>357</th>\n",
       "      <th>358</th>\n",
       "      <th>359</th>\n",
       "      <th>360</th>\n",
       "      <th>361</th>\n",
       "      <th>362</th>\n",
       "      <th>363</th>\n",
       "      <th>364</th>\n",
       "    </tr>\n",
       "  </thead>\n",
       "  <tbody>\n",
       "    <tr>\n",
       "      <th>0</th>\n",
       "      <td>214913.949273</td>\n",
       "      <td>157337.372862</td>\n",
       "      <td>295036.416416</td>\n",
       "      <td>153789.034576</td>\n",
       "      <td>110146.130929</td>\n",
       "      <td>202234.426754</td>\n",
       "      <td>255172.936496</td>\n",
       "      <td>255584.846537</td>\n",
       "      <td>218672.365233</td>\n",
       "      <td>133779.403588</td>\n",
       "      <td>...</td>\n",
       "      <td>149760.346471</td>\n",
       "      <td>139383.980867</td>\n",
       "      <td>286832.556091</td>\n",
       "      <td>143333.242933</td>\n",
       "      <td>218227.408532</td>\n",
       "      <td>131852.040032</td>\n",
       "      <td>103317.862422</td>\n",
       "      <td>134882.947063</td>\n",
       "      <td>195533.739863</td>\n",
       "      <td>197194.953929</td>\n",
       "    </tr>\n",
       "    <tr>\n",
       "      <th>1</th>\n",
       "      <td>246578.000000</td>\n",
       "      <td>168500.000000</td>\n",
       "      <td>299800.000000</td>\n",
       "      <td>122000.000000</td>\n",
       "      <td>108000.000000</td>\n",
       "      <td>180000.000000</td>\n",
       "      <td>266000.000000</td>\n",
       "      <td>255000.000000</td>\n",
       "      <td>176500.000000</td>\n",
       "      <td>141000.000000</td>\n",
       "      <td>...</td>\n",
       "      <td>147500.000000</td>\n",
       "      <td>132000.000000</td>\n",
       "      <td>315750.000000</td>\n",
       "      <td>178000.000000</td>\n",
       "      <td>233170.000000</td>\n",
       "      <td>102000.000000</td>\n",
       "      <td>109000.000000</td>\n",
       "      <td>127500.000000</td>\n",
       "      <td>180000.000000</td>\n",
       "      <td>140000.000000</td>\n",
       "    </tr>\n",
       "  </tbody>\n",
       "</table>\n",
       "<p>2 rows × 365 columns</p>\n",
       "</div>"
      ],
      "text/plain": [
       "             0              1              2              3              4    \\\n",
       "0  214913.949273  157337.372862  295036.416416  153789.034576  110146.130929   \n",
       "1  246578.000000  168500.000000  299800.000000  122000.000000  108000.000000   \n",
       "\n",
       "             5              6              7              8              9    \\\n",
       "0  202234.426754  255172.936496  255584.846537  218672.365233  133779.403588   \n",
       "1  180000.000000  266000.000000  255000.000000  176500.000000  141000.000000   \n",
       "\n",
       "   ...            355            356            357            358  \\\n",
       "0  ...  149760.346471  139383.980867  286832.556091  143333.242933   \n",
       "1  ...  147500.000000  132000.000000  315750.000000  178000.000000   \n",
       "\n",
       "             359            360            361            362            363  \\\n",
       "0  218227.408532  131852.040032  103317.862422  134882.947063  195533.739863   \n",
       "1  233170.000000  102000.000000  109000.000000  127500.000000  180000.000000   \n",
       "\n",
       "             364  \n",
       "0  197194.953929  \n",
       "1  140000.000000  \n",
       "\n",
       "[2 rows x 365 columns]"
      ]
     },
     "execution_count": 32,
     "metadata": {},
     "output_type": "execute_result"
    }
   ],
   "source": [
    "scaler = StandardScaler()\n",
    "scaler.fit(X_train)\n",
    "\n",
    "X_train_scaled = scaler.transform(X_train)\n",
    "X_test_scaled = scaler.transform(X_test)\n",
    "\n",
    "\n",
    "slr_house = ScratchLinearRegression()\n",
    "slr_house.fit(X_train_scaled, y_train, X_test_scaled, y_test)\n",
    "y_house_predict = slr_house.predict(X_test_scaled)\n",
    "\n",
    "pd.DataFrame([y_house_predict, y_test])"
   ]
  },
  {
   "cell_type": "code",
   "execution_count": 33,
   "metadata": {
    "colab": {
     "base_uri": "https://localhost:8080/"
    },
    "id": "5ISxq-w5T4uC",
    "outputId": "359e1473-d956-4978-aacb-7dcd9545da7c"
   },
   "outputs": [
    {
     "ename": "NameError",
     "evalue": "name 'MSE' is not defined",
     "output_type": "error",
     "traceback": [
      "\u001b[0;31m---------------------------------------------------------------------------\u001b[0m",
      "\u001b[0;31mNameError\u001b[0m                                 Traceback (most recent call last)",
      "Cell \u001b[0;32mIn[33], line 1\u001b[0m\n\u001b[0;32m----> 1\u001b[0m \u001b[43mMSE\u001b[49m(y_house_predict, y_test)\n",
      "\u001b[0;31mNameError\u001b[0m: name 'MSE' is not defined"
     ]
    }
   ],
   "source": [
    "MSE(y_house_predict, y_test)"
   ]
  },
  {
   "cell_type": "code",
   "execution_count": 34,
   "metadata": {
    "colab": {
     "base_uri": "https://localhost:8080/",
     "height": 590
    },
    "id": "gGB4wpbuUcE5",
    "outputId": "c0e69541-5e1b-4e77-da9d-7e3df676e54e"
   },
   "outputs": [
    {
     "data": {
      "image/png": "[encoded data removed]",
      "text/plain": [
       "<Figure size 640x480 with 1 Axes>"
      ]
     },
     "metadata": {},
     "output_type": "display_data"
    },
    {
     "name": "stdout",
     "output_type": "stream",
     "text": [
      " -----------------------------------------------------------------\n"
     ]
    },
    {
     "data": {
      "image/png": "[encoded data removed]",
      "text/plain": [
       "<Figure size 640x480 with 1 Axes>"
      ]
     },
     "metadata": {},
     "output_type": "display_data"
    }
   ],
   "source": [
    "plt.title('Predict with ScratchLinearRegression (GrLivArea & SalePrice)')\n",
    "plt.xlabel('GrLivArea')\n",
    "plt.ylabel('SalePrice')\n",
    "plt.scatter(X_test[:, 0], y_test, label='Truth value')\n",
    "plt.scatter(X_test[:, 0], y_house_predict, label='Predicted value')\n",
    "plt.legend()\n",
    "plt.show()\n",
    "\n",
    "print(\" -----------------------------------------------------------------\")\n",
    "\n",
    "\n",
    "plt.title('Predict with ScratchLinearRegression (YearBuilt & SalePrice)')\n",
    "plt.xlabel('YearBuilt')\n",
    "plt.ylabel('SalePrice')\n",
    "plt.scatter(X_test[:, 1], y_test, label='Truth value')\n",
    "plt.scatter(X_test[:, 1], y_house_predict, label='Predicted value')\n",
    "plt.legend()\n",
    "plt.show()"
   ]
  },
  {
   "cell_type": "markdown",
   "metadata": {
    "id": "SDSAyUYAYEvX"
   },
   "source": [
    "### 【problem 10】(Advance task) Derivation of update formula\n",
    "\n",
    "---\n",
    "\n"
   ]
  },
  {
   "cell_type": "markdown",
   "metadata": {
    "id": "j_0ZinQcawQk"
   },
   "source": [
    "The update formula for the steepest descent method was as follows. Explain the process by which this equation is derived.\n",
    "\n",
    "$\\theta_j := \\theta_j - \\alpha \\frac{1}{m} \\sum_{i=1}^{m}[(h_\\theta(x^{(i)}) - y^{(i)} )x_{j}^{(i)}]\\$\n",
    "\n",
    "To optimize 𝜃, we consider the following equation using the steepest descent descent method. This equation calculates the derivative of the objectives function J with respect to 𝜃 (the slope of J), and updates 𝜃 by the slope x learning rate.\n",
    "\n",
    "\n",
    "$\n",
    "\\theta_j := \\theta_j - \\frac{\\partial}{\\partial \\theta_j}J(\\theta) \\\\\\\n",
    "$\n",
    "\n",
    "$\n",
    "J(\\theta)=  \\frac{1 }{ 2m}  \\sum_{i=1}^{m} (h_\\theta(x^{(i)})-y^{(i)})^2.\n",
    "$\n",
    "\n",
    "\n",
    "Hence,\n",
    "\n",
    "$\n",
    "\\frac{\\partial J}{\\partial x} = \\frac{1}{2m} \\frac{\\partial  \\sum_{i=1}^{m} (h_\\theta(x^{(i)})-y^{(i)})^2}{\\partial x}\n",
    "$\n",
    "\n",
    "$\n",
    "\\frac{\\partial J}{\\partial x} = \\frac{1}{2m} \\sum_{i=1}^{m} 2(h_\\theta(x^{(i)}) - y^{(i)}) \\frac{\\partial (h_\\theta(x^{(i)}) - y^{(i)})}{\\partial \\theta_j}\n",
    "$\n",
    "\n",
    "$\n",
    "\\frac{\\partial J}{\\partial x} = \\frac{1}{m} \\sum_{i=1}^{m} (h_\\theta(x^{(i)}) - y^{(i)}) \\frac{\\partial (\\theta_j x_j^{(i)} - y^{(i)})}{\\partial \\theta_j}\n",
    "$\n",
    "\n",
    "$\n",
    "\\frac{\\partial J}{\\partial x} = \\frac{1}{m} \\sum_{i=1}^{m} (h_\\theta(x^{(i)}) - y^{(i)}) x_j^{(i)}\n",
    "$\n",
    "\n",
    "Therefore, \n",
    "\n",
    "$\n",
    "\\theta_j = \\theta_j - \\alpha \\frac{\\partial}{\\partial \\theta_j}J(\\theta) = \\theta_j - \\alpha \\frac{1}{m} \\sum_{i=1}^{m}[(h_\\theta(x^{(i)}) - y^{(i)} )x_{j}^{(i)}]\n",
    "$\n"
   ]
  },
  {
   "cell_type": "code",
   "execution_count": null,
   "metadata": {},
   "outputs": [],
   "source": []
  }
 ],
 "metadata": {
  "colab": {
   "authorship_tag": "ABX9TyNCsMl/oyy+4vSfK3farL+0",
   "collapsed_sections": [],
   "include_colab_link": true,
   "provenance": []
  },
  "kernelspec": {
   "display_name": "Python 3 (ipykernel)",
   "language": "python",
   "name": "python3"
  },
  "language_info": {
   "codemirror_mode": {
    "name": "ipython",
    "version": 3
   },
   "file_extension": ".py",
   "mimetype": "text/x-python",
   "name": "python",
   "nbconvert_exporter": "python",
   "pygments_lexer": "ipython3",
   "version": "3.12.7"
  }
 },
 "nbformat": 4,
 "nbformat_minor": 4
}
