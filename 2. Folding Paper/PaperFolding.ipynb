{
 "cells": [
  {
   "cell_type": "markdown",
   "id": "db8676a0-8653-472a-a305-6faade43cd51",
   "metadata": {},
   "source": [
    "# Paper folding problem\n",
    "It is said that if you keep folding the paper, the thickness will increase and it will reach the moon in 43 times, but it is difficult to calculate the thickness when the paper is folded 43 times by hand.\n",
    " \n",
    "For this assignment, you will create a program that calculates the thickness of a sheet of paper when it is folded 43 times.\n",
    "\n",
    "[Explanation](https://youtu.be/I2JyfoNSDoA)\n",
    "\n",
    "[Fun Website about the assignment](https://neal.fun/paper/)"
   ]
  },
  {
   "cell_type": "markdown",
   "id": "7afaae2b-6032-4102-965d-5e75fa0a43b1",
   "metadata": {
    "jp-MarkdownHeadingCollapsed": true
   },
   "source": [
    "## [Problem 1] Implementation using exponentiation arithmetic operators\n",
    "Create a program that uses the exponentiation arithmetic operator.\n",
    "As an example, we have a code that calculates the thickness of a sheet of paper when it is folded once. Rewrite the code to calculate the thickness when the paper is folded 43 times.\n",
    "\n",
    "Formula:\n",
    "$ t_ {n} $ =$t_{0}\n",
    "​ ​\n",
    "*\n",
    "​ ​\n",
    "2^n $"
   ]
  },
  {
   "cell_type": "code",
   "execution_count": 17,
   "id": "c5ec069b-7fb7-4b4c-b3ae-53f05c75d08a",
   "metadata": {},
   "outputs": [
    {
     "name": "stdout",
     "output_type": "stream",
     "text": [
      "Thickness: 0.00016 meters\n"
     ]
    }
   ],
   "source": [
    "# Example code - Code to calculate the thickness when the paper is folded once\n",
    "THICKNESS = 0.00008\n",
    "folded_thickness = THICKNESS * 2\n",
    "print(\"Thickness: {} meters\".format(folded_thickness))"
   ]
  },
  {
   "cell_type": "code",
   "execution_count": 18,
   "id": "bd8126dc-178e-4e3b-8273-0ad06290febe",
   "metadata": {},
   "outputs": [
    {
     "name": "stdout",
     "output_type": "stream",
     "text": [
      "Thickness: 703687441.77664 meters\n"
     ]
    }
   ],
   "source": [
    "# Code to calculate the thickness when the paper is folded 43 times\n",
    "THICKNESS = 0.00008\n",
    "folded_thickness = THICKNESS * 2**43\n",
    "print(\"Thickness: {} meters\".format(folded_thickness))"
   ]
  },
  {
   "cell_type": "markdown",
   "id": "c957252f-d914-4d2f-b46e-19bef92c2728",
   "metadata": {
    "jp-MarkdownHeadingCollapsed": true
   },
   "source": [
    "## [Problem 2] Unit Conversion\n",
    "If the unit is meters, it's hard to feel the difference, so please convert the unit to ◯◯ 10,000 kilometers and display it.\n",
    "\n",
    "We have prepared a code converted to ◯◯ kilometers as a sample, so please refer to it when working on it. It is specified that up to 2 digits are displayed after the decimal point."
   ]
  },
  {
   "cell_type": "code",
   "execution_count": 84,
   "id": "78607118-c9c9-48c7-ad3c-d6aa495bab8d",
   "metadata": {},
   "outputs": [
    {
     "name": "stdout",
     "output_type": "stream",
     "text": [
      "Thickness: 703,687.44 kilometers\n"
     ]
    }
   ],
   "source": [
    "# Convert meters to kilometers and display with two decimal places\n",
    "print(\"Thickness: {:,.2f} kilometers\".format(folded_thickness / 1000))"
   ]
  },
  {
   "cell_type": "markdown",
   "id": "fd387e31-0650-4acf-9b8c-ec1134d45502",
   "metadata": {},
   "source": [
    "The distance to the moon is approximately 384,400 km. Let's check if the folded paper arrives in the moon."
   ]
  },
  {
   "cell_type": "code",
   "execution_count": 83,
   "id": "1d415803-4887-4526-9ed5-e6e4ff6fddf0",
   "metadata": {},
   "outputs": [
    {
     "name": "stdout",
     "output_type": "stream",
     "text": [
      "By folding 43 times we can reach the moon! \n",
      ":) :) :)\n"
     ]
    }
   ],
   "source": [
    "moon_distance=384400 #Moon distance\n",
    "if folded_thickness>=moon_distance:\n",
    "    print(\"By folding 43 times we can reach the moon! \\n:) :) :)\")\n",
    "else:\n",
    "    print(\"By folding 43 times we can not reach the moon.\\n:( :( :(\")"
   ]
  },
  {
   "cell_type": "markdown",
   "id": "75122343-9933-4cb3-b8da-337294dbb9e4",
   "metadata": {
    "jp-MarkdownHeadingCollapsed": true
   },
   "source": [
    "## [Problem 3] Create using a for statement\n",
    "Next, create a program that uses the for statement.\n",
    "\n",
    "Do not use exponentiation arithmetic operators. Only the four arithmetic operations+ , - , * , / ) are allowed."
   ]
  },
  {
   "cell_type": "code",
   "execution_count": 126,
   "id": "10821526-4722-4b19-a404-123cacb787ab",
   "metadata": {},
   "outputs": [
    {
     "name": "stdout",
     "output_type": "stream",
     "text": [
      "Thickness: 703687441.77664 meters\n"
     ]
    }
   ],
   "source": [
    "# Example code - Code to calculate the thickness when the paper is folded 43 times with for statement\n",
    "\n",
    "THICKNESS = 0.00008\n",
    "folded_thickness = THICKNESS * 2\n",
    "for x in range(42):\n",
    "    folded_thickness=folded_thickness*2\n",
    "print(\"Thickness: {} meters\".format(folded_thickness))"
   ]
  },
  {
   "cell_type": "markdown",
   "id": "1d872099-ce66-494a-bab8-97f310834bc5",
   "metadata": {
    "jp-MarkdownHeadingCollapsed": true
   },
   "source": [
    "## [Problem 4] Comparison of calculation time\n",
    "\n",
    "Both of the above two methods are correct, but when comparing the goodness of the code, for example, the following points are evaluated.\n",
    "\n",
    "- Execution speed,\n",
    "- Memory usage,\n",
    "- Readability,\n",
    "- Scalability\n",
    "\n",
    "This time I will compare the execution speed.\n",
    "\n",
    "Use the template below to output the execution times of the two methods and compare them. Compare the time in the range excluding the parts used by either method, such as variable definition and print​"
   ]
  },
  {
   "cell_type": "code",
   "execution_count": 86,
   "id": "b15f541b-c091-42fe-a4d1-5418c82c911b",
   "metadata": {},
   "outputs": [
    {
     "name": "stdout",
     "output_type": "stream",
     "text": [
      "Thickness: 703687441.77664 meters\n",
      "time : 0.00041484832763671875[s]\n"
     ]
    }
   ],
   "source": [
    "# Comparing time arithmetic operators\n",
    "import time\n",
    "start = time.time()\n",
    "THICKNESS = 0.00008\n",
    "#####\n",
    "folded_thickness = THICKNESS * 2**43\n",
    "#####\n",
    "elapsed_time = time.time() - start\n",
    "print(\"Thickness: {} meters\".format(folded_thickness))\n",
    "print(\"time : {}[s]\".format(elapsed_time))"
   ]
  },
  {
   "cell_type": "code",
   "execution_count": 125,
   "id": "083eaa04-6757-4fe6-b778-45ec06c1768a",
   "metadata": {},
   "outputs": [
    {
     "name": "stdout",
     "output_type": "stream",
     "text": [
      "Thickness: 703687441.77664 meters\n",
      "time : 0.0011544227600097656[s]\n"
     ]
    }
   ],
   "source": [
    "# Comparing the for method times\n",
    "import time\n",
    "start = time.time()\n",
    "THICKNESS = 0.00008\n",
    "folded_thickness = THICKNESS * 2\n",
    "#####\n",
    "for x in range(42):\n",
    "    folded_thickness=folded_thickness*2\n",
    "#####\n",
    "elapsed_time = time.time() - start\n",
    "print(\"Thickness: {} meters\".format(folded_thickness))\n",
    "print(\"time : {}[s]\".format(elapsed_time))"
   ]
  },
  {
   "cell_type": "code",
   "execution_count": 88,
   "id": "2e3d9254-f9e6-4596-9b0a-aca3c6911334",
   "metadata": {},
   "outputs": [
    {
     "name": "stdout",
     "output_type": "stream",
     "text": [
      "97.3 ns ± 2.71 ns per loop (mean ± std. dev. of 7 runs, 10,000,000 loops each)\n",
      "Thickness: 703687441.77664 meters\n",
      "time : 8.05951714515686[s]\n"
     ]
    }
   ],
   "source": [
    "# Comparing time arithmetic operators, using the %timeit function\n",
    "import time\n",
    "start = time.time()\n",
    "THICKNESS = 0.00008\n",
    "#####\n",
    "%timeit folded_thickness = THICKNESS * 2**43\n",
    "#####\n",
    "elapsed_time = time.time() - start\n",
    "print(\"Thickness: {} meters\".format(folded_thickness))\n",
    "print(\"time : {}[s]\".format(elapsed_time))"
   ]
  },
  {
   "cell_type": "markdown",
   "id": "b131dd39-4748-47f9-b5bc-4ea90071fcd2",
   "metadata": {
    "jp-MarkdownHeadingCollapsed": true
   },
   "source": [
    "### <Development: Increase the number of repetitions>"
   ]
  },
  {
   "cell_type": "code",
   "execution_count": 129,
   "id": "41b009d0-feff-4ca2-8bf7-ca8570bec038",
   "metadata": {},
   "outputs": [
    {
     "name": "stdout",
     "output_type": "stream",
     "text": [
      "How many times do you wish to fold the paper?\n"
     ]
    },
    {
     "name": "stdin",
     "output_type": "stream",
     "text": [
      " 43\n"
     ]
    },
    {
     "name": "stdout",
     "output_type": "stream",
     "text": [
      "Thickness: 703687441.77664 meters\n",
      "time : 2.2393229007720947[s]\n"
     ]
    }
   ],
   "source": [
    "# Comparing the for method times\n",
    "import time\n",
    "start = time.time()\n",
    "THICKNESS = 0.00008\n",
    "folded_thickness_timing = THICKNESS\n",
    "print(\"How many times do you wish to fold the paper?\")\n",
    "n=int(input())\n",
    "#####\n",
    "for x in range(n):\n",
    "    folded_thickness_timing=folded_thickness_timing*2\n",
    "#####\n",
    "elapsed_time = time.time() - start\n",
    "print(\"Thickness: {} meters\".format(folded_thickness_timing))\n",
    "print(\"time : {}[s]\".format(elapsed_time))"
   ]
  },
  {
   "cell_type": "markdown",
   "id": "7a57adf8-bb57-4aed-a51c-9e21b6163dcd",
   "metadata": {},
   "source": [
    "### <Development: Using magic commands>"
   ]
  },
  {
   "cell_type": "code",
   "execution_count": 149,
   "id": "5e1af2aa-690c-4436-84e4-531923f1f87e",
   "metadata": {},
   "outputs": [
    {
     "name": "stdout",
     "output_type": "stream",
     "text": [
      "How many times do you wish to fold the paper?\n",
      "Thickness: 703687441.77664 meters\n",
      "time : 0.0004069805145263672[s]\n",
      "How many times do you wish to fold the paper?\n",
      "Thickness: 703687441.77664 meters\n",
      "time : 4.887580871582031e-05[s]\n",
      "How many times do you wish to fold the paper?\n",
      "Thickness: 703687441.77664 meters\n",
      "time : 5.125999450683594e-05[s]\n",
      "How many times do you wish to fold the paper?\n",
      "Thickness: 703687441.77664 meters\n",
      "time : 5.054473876953125e-05[s]\n",
      "How many times do you wish to fold the paper?\n",
      "Thickness: 703687441.77664 meters\n",
      "time : 4.7206878662109375e-05[s]\n",
      "How many times do you wish to fold the paper?\n",
      "Thickness: 703687441.77664 meters\n",
      "time : 4.649162292480469e-05[s]\n",
      "How many times do you wish to fold the paper?\n",
      "Thickness: 703687441.77664 meters\n",
      "time : 4.887580871582031e-05[s]\n",
      "How many times do you wish to fold the paper?\n",
      "Thickness: 703687441.77664 meters\n",
      "time : 4.792213439941406e-05[s]\n",
      "How many times do you wish to fold the paper?\n",
      "Thickness: 703687441.77664 meters\n",
      "time : 4.649162292480469e-05[s]\n",
      "191 μs ± 66.1 μs per loop (mean ± std. dev. of 3 runs, 3 loops each)\n"
     ]
    }
   ],
   "source": [
    "%%timeit -n 3 -r 3\n",
    "# Comparing the for method times\n",
    "\n",
    "import time\n",
    "start = time.time()\n",
    "THICKNESS = 0.00008\n",
    "folded_thickness_timing = THICKNESS\n",
    "print(\"How many times do you wish to fold the paper?\")\n",
    "#n=int(input())\n",
    "#####\n",
    "for x in range(43):\n",
    "    folded_thickness_timing=folded_thickness_timing*2\n",
    "#####\n",
    "elapsed_time = time.time() - start\n",
    "print(\"Thickness: {} meters\".format(folded_thickness_timing))\n",
    "print(\"time : {}[s]\".format(elapsed_time))"
   ]
  },
  {
   "cell_type": "code",
   "execution_count": null,
   "id": "ec6536af-b09b-4507-9659-88e053254918",
   "metadata": {},
   "outputs": [],
   "source": []
  },
  {
   "cell_type": "markdown",
   "id": "522c7db0-1b40-482b-89f8-c8f6ee622644",
   "metadata": {},
   "source": [
    "# Graph visualization\n",
    "\n",
    "Record the thickness when folded each time and visualize it with a line graph.\n",
    "\n",
    "Generalizing the formula, $ n $ Diffracted paper thickness $ t_ {n} $ can be expressed as:\n",
    "\n",
    "$ t_ {n} $ =$t_{0}\n",
    "​ ​\n",
    "*\n",
    "​ ​\n",
    "2^n $\n",
    "\n",
    "This is an exponential function. Let's take a look at the graph as the thickness increases rapidly and reaches the moon."
   ]
  },
  {
   "cell_type": "markdown",
   "id": "3120bc02-95ea-4ba1-a7b3-80efd49d74e8",
   "metadata": {},
   "source": [
    "## [Problem 5] Saving to a list"
   ]
  },
  {
   "cell_type": "code",
   "execution_count": 183,
   "id": "adc3a402-7157-4285-b605-b05ec3b60121",
   "metadata": {},
   "outputs": [
    {
     "name": "stdin",
     "output_type": "stream",
     "text": [
      "How many times do you wish to fold? -> 20\n"
     ]
    },
    {
     "name": "stdout",
     "output_type": "stream",
     "text": [
      "Thickness: 83.88608 meters\n",
      "21 values are stored in the list.\n"
     ]
    }
   ],
   "source": [
    "# Example code - Code to calculate the thickness when the paper is folded 43 times with for statement\n",
    "THICKNESS = 0.00008\n",
    "# First, create an empty list.\n",
    "thickness_tracker=[]\n",
    "folded_thickness = THICKNESS\n",
    "\n",
    "#Adding the value before folding to the list.\n",
    "thickness_tracker=[folded_thickness]\n",
    "n=int(input(\"How many times do you wish to fold? ->\"))\n",
    "for x in range(n):\n",
    "    folded_thickness=folded_thickness*2\n",
    "    #Add the value of the process of folding the paper up to n times in the for statement to the list.\n",
    "    thickness_tracker.append(folded_thickness)\n",
    "print(\"Thickness: {} meters\".format(folded_thickness))\n",
    "print(len(thickness_tracker), \"values are stored in the list.\")\n"
   ]
  },
  {
   "cell_type": "markdown",
   "id": "b97f8774-5ba6-45b5-bd67-86272c980037",
   "metadata": {},
   "source": [
    "## [Problem 6] Displaying a line graph\n",
    "A library called Matplotlib is used to draw the graph. Use the following template after the code you want to record in the list."
   ]
  },
  {
   "cell_type": "code",
   "execution_count": 161,
   "id": "495c53fc-4a3f-4c4d-9d1e-6a1cb4e7c526",
   "metadata": {},
   "outputs": [
    {
     "data": {
      "image/png": "[encoded data removed]",
      "text/plain": [
       "<Figure size 640x480 with 1 Axes>"
      ]
     },
     "metadata": {},
     "output_type": "display_data"
    }
   ],
   "source": [
    "import matplotlib.pyplot as plt\n",
    "%matplotlib inline\n",
    "\n",
    "# Display the graph. Title and axis label name.\n",
    "plt.title(\"thickness of folded paper\")\n",
    "plt.xlabel(\"number of folds\")\n",
    "plt.ylabel(\"thickness [m]\")\n",
    "plt.plot(thickness_tracker)  # Enter the variable name of the list in \"List name\"\n",
    "plt.show()"
   ]
  },
  {
   "cell_type": "markdown",
   "id": "9f963690-28f2-4ad4-92cb-f28fc1f7399a",
   "metadata": {},
   "source": [
    "### Please briefly explain how the thickness changes.\n",
    "\n",
    "The thickness changes exponentially based on the number of folds"
   ]
  },
  {
   "cell_type": "markdown",
   "id": "2b918740-34f0-45d6-af77-2d731225ca32",
   "metadata": {
    "jp-MarkdownHeadingCollapsed": true
   },
   "source": [
    "## [Problem 7] Customizing graphs\n",
    "Let's customize the graph to make it easier to see. Create at least 3 customized graphs. \n",
    "For example: \n",
    "- Make the line color other than blue and red.\n",
    "- Make the line thicker.\n",
    "- Make the line dotted.\n",
    "- Change the font size of the value."
   ]
  },
  {
   "cell_type": "markdown",
   "id": "79a5e2c3-3bcc-4094-ac96-4d785ef5b1f5",
   "metadata": {
    "jp-MarkdownHeadingCollapsed": true
   },
   "source": [
    "### Customization 1 - Color, thickness and linestyle"
   ]
  },
  {
   "cell_type": "code",
   "execution_count": 55,
   "id": "fde2e873-fe50-4931-9dca-115845fb706b",
   "metadata": {},
   "outputs": [
    {
     "data": {
      "image/png": "[encoded data removed]",
      "text/plain": [
       "<Figure size 640x480 with 1 Axes>"
      ]
     },
     "metadata": {},
     "output_type": "display_data"
    }
   ],
   "source": [
    "# Display a mediumseagreen line graph.\n",
    "plt.title(\"thickness of folded paper\")\n",
    "plt.xlabel(\"number of folds\")\n",
    "plt.ylabel(\"thickness [m]\")\n",
    "plt.plot(thickness_tracker, color='mediumseagreen',linestyle='dashed',linewidth=10, markersize=12)\n",
    "plt.show()"
   ]
  },
  {
   "cell_type": "markdown",
   "id": "199418eb-72e9-447c-8811-00c392021a43",
   "metadata": {
    "jp-MarkdownHeadingCollapsed": true
   },
   "source": [
    "### Customization 2 - Title font and Grid Added"
   ]
  },
  {
   "cell_type": "code",
   "execution_count": 226,
   "id": "aa2bd47c-f070-47f5-b992-72ca1d54ab58",
   "metadata": {},
   "outputs": [
    {
     "data": {
      "image/png": "[encoded data removed]",
      "text/plain": [
       "<Figure size 640x480 with 1 Axes>"
      ]
     },
     "metadata": {},
     "output_type": "display_data"
    }
   ],
   "source": [
    "# Display the axis value in large size.\n",
    "plt.title(\"thickness of folded paper\",color='black', fontfamily='monospace')\n",
    "plt.xlabel(\"number of folds\",color='green')\n",
    "plt.ylabel(\"thickness[km]\",color='green')\n",
    "plt.tick_params(labelsize=15, color='green') # Make settings related to axis values\n",
    "plt.annotate('Major jump', xy=(15, 20), xytext=(15, 40),\n",
    "             arrowprops=dict(facecolor='black', shrink=0.05),\n",
    "             )\n",
    "plt.plot(thickness_tracker,color='brown', linestyle='dotted',linewidth=5, markersize=7)\n",
    "plt.show()"
   ]
  },
  {
   "cell_type": "markdown",
   "id": "afa8a187-6071-442b-a980-d2bbf551815f",
   "metadata": {
    "jp-MarkdownHeadingCollapsed": true
   },
   "source": [
    "### Customization 3 - dashdot, text size and grid"
   ]
  },
  {
   "cell_type": "code",
   "execution_count": 225,
   "id": "f86baf11-f91b-48c7-8c8c-5dfc4d00bc2d",
   "metadata": {},
   "outputs": [
    {
     "data": {
      "image/png": "[encoded data removed]",
      "text/plain": [
       "<Figure size 640x480 with 1 Axes>"
      ]
     },
     "metadata": {},
     "output_type": "display_data"
    }
   ],
   "source": [
    "# Display the axis value in large size.\n",
    "plt.title(\"thickness of folded paper\",color='blue', fontfamily='monospace',fontsize='x-large')\n",
    "plt.xlabel(\"number of folds\",color='blue',fontsize='x-large')\n",
    "plt.ylabel(\"thickness[km]\",color='blue',fontsize='x-large')\n",
    "plt.tick_params(labelsize=15, color='blue') # Make settings related to axis values\n",
    "plt.plot(thickness_tracker,color='blue', linestyle='dashdot',linewidth=5, markersize=7)\n",
    "plt.grid()\n",
    "plt.show()"
   ]
  }
 ],
 "metadata": {
  "kernelspec": {
   "display_name": "Python 3 (ipykernel)",
   "language": "python",
   "name": "python3"
  },
  "language_info": {
   "codemirror_mode": {
    "name": "ipython",
    "version": 3
   },
   "file_extension": ".py",
   "mimetype": "text/x-python",
   "name": "python",
   "nbconvert_exporter": "python",
   "pygments_lexer": "ipython3",
   "version": "3.10.12"
  }
 },
 "nbformat": 4,
 "nbformat_minor": 5
}
