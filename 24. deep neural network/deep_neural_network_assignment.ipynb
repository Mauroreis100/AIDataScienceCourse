{
  "nbformat": 4,
  "nbformat_minor": 0,
  "metadata": {
    "colab": {
      "provenance": []
    },
    "kernelspec": {
      "name": "python3",
      "display_name": "Python 3"
    },
    "language_info": {
      "name": "python"
    }
  },
  "cells": [
    {
      "cell_type": "markdown",
      "source": [
        "# Scratch Deep neural network.\n",
        "Last time, we created a three-layer neural network, but this time we will rewrite it into one that can easily be expanded to an arbitrary number of layers. After that, we will be able to deal with advanced functions, activation functions, initial values, and optimization methods.\n",
        "\n",
        "By doing this from scratch, we aim to give you an idea of the inner workings of the various frameworks that we will be using.\n",
        "\n",
        "The name should be changed from Scratch Deep Neural Network Classifier class."
      ],
      "metadata": {
        "id": "VdFsPUOrBa44"
      }
    },
    {
      "cell_type": "markdown",
      "source": [
        "##  Classifying layers, etc.\n",
        "By putting them in a class, we will make the implementation easy to change the configuration.\n",
        "\n",
        "### Places to modify\n",
        "\n",
        "* Number of layers\n",
        "* Layer type (other types of layers such as convolutional layers will appear in the future)\n",
        "* Types of activation functions\n",
        "* Weight and bias initialization method\n",
        "* Optimization method\n",
        "\n",
        "To do this, we create classes for all the coupling layers, for the various activation functions, for the initialisation of weights and biases, and for each of the optimisation methods.\n",
        "\n",
        "You can implement it freely, but here is a simple example. Create an instance of the fully connected layer and activation function as in sample code 1, and use it as in sample code 2 and 3. Each class will be explained later."
      ],
      "metadata": {
        "id": "1hjatEwwBexf"
      }
    },
    {
      "cell_type": "markdown",
      "source": [
        "# [Problem 1] Classifying fully connected layers\n",
        "Please classify the fully connected layer.\n",
        "\n",
        "Below is a template. Initialize weights and bias in the constructor, and prepare forward and backward methods. By holding the weight W, the bias B, and the forward input X as instance variables, complicated input/output becomes unnecessary.\n",
        "\n",
        "You can also pass an instance as an argument. Therefore, if you receive the instance initializer of the initialization method in the constructor, it will be initialized. You can change the initialization method by changing the instance to be passed.\n",
        "\n",
        "You can also pass your self as an argument. You can use this to update the layer weights like self.optimizer.update(self) There are multiple values required for the update, but all can be instance variables of the fully connected layer.\n",
        "\n",
        "The initialization method and the class of optimization methods are described later."
      ],
      "metadata": {
        "id": "0l-EgFbeCGqz"
      }
    },
    {
      "cell_type": "code",
      "execution_count": 16,
      "metadata": {
        "id": "vWso1UmVA9VD"
      },
      "outputs": [],
      "source": [
        "import numpy as np\n",
        "import pandas as pd\n",
        "from keras.datasets import mnist\n",
        "(X_train, y_train), (X_test, y_test) = mnist.load_data()"
      ]
    },
    {
      "cell_type": "code",
      "source": [
        "class FC:\n",
        "     \"\"\"\n",
        "    Number of nodes Fully connected layer from n_nodes1 to n_nodes2\n",
        "    Parameters\n",
        "    ----------\n",
        "    n_nodes1 : int\n",
        "      Number of nodes in the previous layer\n",
        "    n_nodes2 : int\n",
        "      Number of nodes in the later layer\n",
        "    initializer: instance of initialization method\n",
        "    optimizer: instance of optimization method\n",
        "    \"\"\"\n",
        "     def __init__(self, n_nodes1, n_nodes2, initializer, optimizer):\n",
        "        self.n_nodes1 = n_nodes1\n",
        "        self.n_nodes2 = n_nodes2\n",
        "        self.W = initializer.W(self.n_nodes1, self.n_nodes2)\n",
        "        self.B = initializer.B(self.n_nodes2)\n",
        "        self.optimizer = optimizer\n",
        "        self.HW = 0\n",
        "        self.HB = 0\n",
        "\n",
        "\n",
        "     def forward(self, X):\n",
        "        \"\"\"\n",
        "        forward\n",
        "        Parameters\n",
        "        ----------\n",
        "        X : The following forms of ndarray, shape (batch_size, n_nodes1)\n",
        "            入力\n",
        "        Returns\n",
        "        ----------\n",
        "        A : The following forms of ndarray, shape (batch_size, n_nodes2)\n",
        "            output\n",
        "        \"\"\"\n",
        "        self.Z = X\n",
        "        self.A = X @ self.W + self.B\n",
        "        return self.A\n",
        "\n",
        "\n",
        "     def backward(self, dA):\n",
        "\n",
        "       \"\"\"\n",
        "        Backward\n",
        "        Parameters\n",
        "        ----------\n",
        "        dA : The following forms of ndarray, shape (batch_size, n_nodes2)\n",
        "            Gradient flowing from behind\n",
        "        Returns\n",
        "        ----------\n",
        "        dZ : The following forms of ndarray, shape (batch_size, n_nodes1)\n",
        "            Gradient to flow forward\n",
        "        \"\"\"\n",
        "       self.dB = np.sum(dA, axis=0)\n",
        "       self.dW = self.Z.T @ dA\n",
        "       self.dZ = dA @ self.W.T\n",
        "       self = self.optimizer.update(self)\n",
        "\n",
        "       return self.dZ"
      ],
      "metadata": {
        "id": "jnkboWlGB0vs"
      },
      "execution_count": 17,
      "outputs": []
    },
    {
      "cell_type": "markdown",
      "source": [
        "# [Problem 2] Classifying the initialization method\n",
        "Classify the initialization code.\n",
        "\n",
        "As mentioned above, we will be able to pass an instance of the initialization method to the constructor of the fully connected layer. Please add the necessary code to the following template. By receiving the standard deviation value (sigma) in the constructor, it is not necessary to pass this value (sigma) in the class of the fully connected layer.\n",
        "\n",
        "The initialization method we have been dealing with so far will be named the SimpleInitializer class."
      ],
      "metadata": {
        "id": "le0CasSzCNVC"
      }
    },
    {
      "cell_type": "code",
      "source": [
        "class SimpleInitializer:\n",
        "    \"\"\"\n",
        "    Simple initialization with Gaussian distribution\n",
        "    Parameters\n",
        "    ----------\n",
        "    sigma : float\n",
        "      Standard deviation of Gaussian distribution\n",
        "    \"\"\"\n",
        "    def __init__(self, sigma):\n",
        "        self.sigma = sigma\n",
        "    def W(self, n_nodes1, n_nodes2):\n",
        "        \"\"\"\n",
        "        Weight initialization\n",
        "        Parameters\n",
        "        ----------\n",
        "        n_nodes1 : int\n",
        "          Number of nodes in the previous layer\n",
        "        n_nodes2 : int\n",
        "          Number of nodes in the later layer\n",
        "\n",
        "        Returns\n",
        "        ----------\n",
        "        W :\n",
        "        \"\"\"\n",
        "        W = self.sigma * np.random.randn(n_nodes1, n_nodes2)\n",
        "        return W\n",
        "    def B(self, n_nodes2):\n",
        "        \"\"\"\n",
        "        Bias initialization\n",
        "        Parameters\n",
        "        ----------\n",
        "        n_nodes2 : int\n",
        "          Number of nodes in the later layer\n",
        "\n",
        "        Returns\n",
        "        ----------\n",
        "        B :\n",
        "        \"\"\"\n",
        "        B = self.sigma * np.random.randn(1, n_nodes2)\n",
        "        return B"
      ],
      "metadata": {
        "id": "Q5K9iyMmCRm8"
      },
      "execution_count": 18,
      "outputs": []
    },
    {
      "cell_type": "markdown",
      "source": [
        "# [Problem 3] Classifying optimization methods\n",
        "Please classify the optimization method.\n",
        "\n",
        "With respect to the optimization method, it is passed as an instance to the fully connected layer as well as the initialization method. When backward, we can update it as self.optimizer.update(self). Please add the necessary code to the following template.\n",
        "\n",
        "The optimization methods we have dealt with so far are created as SGD class (Stochastic Gradient Descent)."
      ],
      "metadata": {
        "id": "-nXd9uJ9CYaB"
      }
    },
    {
      "cell_type": "code",
      "source": [
        "class SGD:\n",
        "    \"\"\"\n",
        "    Stochastic gradient descent\n",
        "    Parameters\n",
        "    ----------\n",
        "    lr : Learning rate\n",
        "    \"\"\"\n",
        "    def __init__(self, lr):\n",
        "        self.lr = lr\n",
        "    def update(self, layer):\n",
        "        \"\"\"\n",
        "         Update weights and biases for a layer\n",
        "        Parameters\n",
        "        ----------\n",
        "        layer : Instance of the layer before update\n",
        "        \"\"\"\n",
        "        layer.W -= self.lr * layer.dW / len(layer.Z)\n",
        "        layer.B -= self.lr * layer.dB / len(layer.Z)\n",
        "\n",
        "        return layer"
      ],
      "metadata": {
        "id": "ZvHDDpbhCTsf"
      },
      "execution_count": 19,
      "outputs": []
    },
    {
      "cell_type": "markdown",
      "source": [
        "# [Problem 4] Classifying activation functions\n",
        "Please classify the activation function.\n",
        "\n",
        "The backpropagation of the softmax function is simplified by implementing it including the calculation of the cross entropy error.\n",
        "\n",
        "## Evolutionary element\n",
        "We will implement other than the activation functions, initial values of weights, and optimization methods that we have not seen so far.\n"
      ],
      "metadata": {
        "id": "skHguCzFCmoI"
      }
    },
    {
      "cell_type": "code",
      "source": [
        "class Sigmoid:\n",
        "\n",
        "    def forward(self, A):\n",
        "        self.A = A\n",
        "        Z = 1 / (1 + np.exp(-self.A))\n",
        "        return Z\n",
        "\n",
        "    def backward(self, dZ):\n",
        "        dA = dZ * ((1 / (1 + np.exp(-self.A))) - (1 / (1 + np.exp(-self.A)))**2)\n",
        "        return dA\n",
        "class Tanh:\n",
        "\n",
        "    def forward(self, A):\n",
        "        self.A = A\n",
        "        Z = np.tanh(self.A)\n",
        "        return Z\n",
        "\n",
        "    def backward(self, dZ):\n",
        "        dA = dZ * (1 - np.tanh(self.A)**2)\n",
        "        return dA\n",
        "class softmax:\n",
        "\n",
        "    def forward(self, A):\n",
        "        Z = np.exp(A) / np.sum(np.exp(A), axis=1).reshape(-1, 1)\n",
        "        return Z\n",
        "\n",
        "    def backward(self, Z, y):\n",
        "        dA = Z - y\n",
        "        loss = - np.sum(y * np.log(Z)) / len(y)\n",
        "        return dA, loss"
      ],
      "metadata": {
        "id": "muVF5sXnCoBA"
      },
      "execution_count": 20,
      "outputs": []
    },
    {
      "cell_type": "markdown",
      "source": [
        "# [Problem 5] ReLU class creation\n",
        "Please implement ReLU (Rectified Linear Unit) which is a commonly used activation function as ReLU class.\n",
        "\n",
        "ReLU is the following formula.\n",
        "![image.png](data:image/png;base64,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)\n",
        "\n",
        "In practice, it is possible to usenp.maximumto sum over arrays.\n",
        "https://docs.scipy.org/doc/numpy-1.15.0/reference/generated/numpy.maximum.html"
      ],
      "metadata": {
        "id": "QomJFfCfC3xN"
      }
    },
    {
      "cell_type": "code",
      "source": [
        "class ReLU:\n",
        "\n",
        "    def forward(self, A):\n",
        "        self.A = A\n",
        "        Z = np.maximum(0, A)\n",
        "        return Z\n",
        "\n",
        "    def backward(self, dZ):\n",
        "        dA = dZ * np.where(self.A > 0, 1, 0)\n",
        "        return dA"
      ],
      "metadata": {
        "id": "u6scK6k4C3Nm"
      },
      "execution_count": 21,
      "outputs": []
    },
    {
      "cell_type": "markdown",
      "source": [
        "# [Problem 6] Initial value of weight\n",
        "So far, the initial values of weights and bias have been simply Gaussian distributions, and standard deviation has been treated as a hyperparameter. However, it is known what value it should be. For sigmoidal and hyperbolic tangent functions, the initial value of Xavier (or the initial value of Glorot) is used, and for ReLU the initial value of He.\n",
        "\n",
        "Create XavierI nitializer class and HeIn itializer class.\n",
        "Xavier\n",
        "\n",
        "\n",
        "HeIn\n",
        "![image.png](data:image/png;base64,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)\n",
        "\n",
        "http://proceedings.mlr.press/v9/glorot10a/glorot10a.pdf"
      ],
      "metadata": {
        "id": "cqckotWhDhkQ"
      }
    },
    {
      "cell_type": "code",
      "source": [
        "class XavierInitializer:\n",
        "\n",
        "    def __init__(self, sigma):\n",
        "        _ = sigma\n",
        "\n",
        "    def W(self, n_nodes1, n_nodes2):\n",
        "        self.sigma = 1 / np.sqrt(n_nodes1)\n",
        "        W = self.sigma * np.random.randn(n_nodes1, n_nodes2)\n",
        "        return W\n",
        "\n",
        "    def B(self, n_nodes2):\n",
        "        B = self.sigma * np.random.randn(1, n_nodes2)\n",
        "        return B"
      ],
      "metadata": {
        "id": "hsMQFCp4EKN9"
      },
      "execution_count": 22,
      "outputs": []
    },
    {
      "cell_type": "code",
      "source": [
        "class HeInitializer:\n",
        "\n",
        "    def __init__(self, sigma):\n",
        "        _ = sigma\n",
        "\n",
        "    def W(self, n_nodes1, n_nodes2):\n",
        "        self.sigma = np.sqrt(2 / n_nodes1)\n",
        "        W = self.sigma * np.random.randn(n_nodes1, n_nodes2)\n",
        "        return W\n",
        "\n",
        "    def B(self, n_nodes2):\n",
        "        B = self.sigma * np.random.randn(1, n_nodes2)\n",
        "        return B"
      ],
      "metadata": {
        "id": "mZiqBi36ELPH"
      },
      "execution_count": 23,
      "outputs": []
    },
    {
      "cell_type": "markdown",
      "source": [
        "## [Problem 7] Optimization Method\n",
        "\n",
        "The most common method in optimization is to **vary the learning rate** during the training process. Please create a class for **AdaGrad**, which is one of the basic methods.\n",
        "\n",
        "### 🔁 First, review the SGD you’ve used so far:\n",
        "\n",
        "\\[\n",
        "W_i' = W_i - \\alpha \\frac{\\partial l}{\\partial W_i}, \\quad B_i' = B_i - \\alpha \\frac{\\partial l}{\\partial B_i}\n",
        "\\]\n",
        "\n",
        "- \\( \\alpha \\): Learning rate (can be layer-specific, but usually kept the same across layers)\n",
        "- \\( \\frac{\\partial l}{\\partial W_i} \\): Gradient of loss with respect to weight \\( W_i \\)\n",
        "- \\( \\frac{\\partial l}{\\partial B_i} \\): Gradient of loss with respect to bias \\( B_i \\)\n",
        "\n",
        "---\n",
        "\n",
        "### 🧮 Now, AdaGrad\n",
        "\n",
        "> The **learning rate is adjusted per weight** during training.  \n",
        "> The more a weight gets updated, the **smaller** its learning rate becomes.\n",
        "\n",
        "AdaGrad keeps a running sum of the **squared gradients** for each weight:\n",
        "\n",
        "\\[\n",
        "H_i' = H_i + \\frac{\\partial l}{\\partial W_i} \\odot \\frac{\\partial l}{\\partial W_i}\n",
        "\\]\n",
        "\n",
        "Then it updates the weight:\n",
        "\n",
        "\\[\n",
        "W_i' = W_i - \\alpha \\left( \\frac{1}{\\sqrt{H_i'}} \\odot \\frac{\\partial l}{\\partial W_i} \\right)\n",
        "\\]\n",
        "\n",
        "- \\( H_i \\): Accumulated squared gradients for layer \\( i \\) (initially 0)\n",
        "- \\( \\odot \\): Element-wise multiplication\n",
        "- \\( H_i' \\): Updated version of \\( H_i \\)\n",
        "\n",
        "> The bias update formula is similar and can be implemented the same way.\n",
        "\n",
        "---\n",
        "\n",
        "### ✅ Key Concept\n",
        "\n",
        "AdaGrad **adapts the learning rate** per weight:\n",
        "- If a parameter gets **large gradients repeatedly**, its learning rate **shrinks**.\n",
        "- This helps **stabilize training** and **prevents oscillation**.\n",
        "\n",
        "http://www.jmlr.org/papers/volume12/duchi11a/duchi11a.pdf\n",
        "---\n",
        "\n",
        "### 🧪 Python Example\n",
        "\n",
        "```python\n",
        "class AdaGradOptimizer:\n",
        "    def __init__(self, learning_rate=0.01, epsilon=1e-7):\n",
        "        self.lr = learning_rate\n",
        "        self.epsilon = epsilon\n",
        "        self.h = {}  # cache for squared gradients\n",
        "\n",
        "    def update(self, params, grads):\n",
        "        for key in params.keys():\n",
        "            if key not in self.h:\n",
        "                self.h[key] = np.zeros_like(grads[key])\n",
        "            self.h[key] += grads[key] ** 2\n",
        "            params[key] -= self.lr * grads[key] / (np.sqrt(self.h[key]) + self.epsilon)\n"
      ],
      "metadata": {
        "id": "zQU_gnhcCYBl"
      }
    },
    {
      "cell_type": "code",
      "source": [
        "class AdaGrad:\n",
        "\n",
        "    def __init__(self, lr):\n",
        "        self.lr = lr\n",
        "\n",
        "    def update(self, layer):\n",
        "        layer.HW += layer.dW * layer.dW\n",
        "        layer.HB += layer.dB * layer.dB\n",
        "        delta = 1e-7\n",
        "        layer.W -= self.lr * layer.dW / (np.sqrt(layer.HW) + delta) / len(layer.Z)\n",
        "        layer.B -= self.lr * layer.dB / (np.sqrt(layer.HB) + delta) / len(layer.Z)\n",
        "        return layer"
      ],
      "metadata": {
        "id": "hQwb4HX_F-nU"
      },
      "execution_count": 24,
      "outputs": []
    },
    {
      "cell_type": "code",
      "source": [],
      "metadata": {
        "id": "4GHiWTMwGBkY"
      },
      "execution_count": 24,
      "outputs": []
    },
    {
      "cell_type": "code",
      "source": [],
      "metadata": {
        "id": "jof7ihnoFpTp"
      },
      "execution_count": 24,
      "outputs": []
    },
    {
      "cell_type": "markdown",
      "source": [
        "# [Problem 8] Class completion\n",
        "Complete the Scratch Deep Neural Netrowk Classifier class that can be trained and estimated with any configuration."
      ],
      "metadata": {
        "id": "FgyM7SwiFkLJ"
      }
    },
    {
      "cell_type": "code",
      "source": [
        "class GetMiniBatch:\n",
        "\n",
        "    def __init__(self, X, y, batch_size = 20, seed=0):\n",
        "        self.batch_size = batch_size\n",
        "        np.random.seed(seed)\n",
        "        shuffle_index = np.random.permutation(np.arange(X.shape[0]))\n",
        "        self._X = X[shuffle_index]\n",
        "        self._y = y[shuffle_index]\n",
        "        self._stop = np.ceil(X.shape[0]/self.batch_size).astype(np.int64)\n",
        "\n",
        "    def __len__(self):\n",
        "        return self._stop\n",
        "\n",
        "    def __getitem__(self,item):\n",
        "        p0 = item*self.batch_size\n",
        "        p1 = item*self.batch_size + self.batch_size\n",
        "        return self._X[p0:p1], self._y[p0:p1]\n",
        "\n",
        "    def __iter__(self):\n",
        "        self._counter = 0\n",
        "        return self\n",
        "\n",
        "    def __next__(self):\n",
        "        if self._counter >= self._stop:\n",
        "            raise StopIteration()\n",
        "        p0 = self._counter*self.batch_size\n",
        "        p1 = self._counter*self.batch_size + self.batch_size\n",
        "        self._counter += 1\n",
        "        return self._X[p0:p1], self._y[p0:p1]"
      ],
      "metadata": {
        "id": "mus3oigVGFH8"
      },
      "execution_count": 25,
      "outputs": []
    },
    {
      "cell_type": "code",
      "source": [
        "class ScratchDeepNeuralNetrowkClassifier():\n",
        "\n",
        "    def __init__(self, verbose=False, epoch=1, optimizer=SGD, initializer=HeInitializer, activator=ReLU):\n",
        "        self.verbose = verbose\n",
        "        self.batch_size = 20\n",
        "        self.n_features = 784\n",
        "        self.n_nodes1 = 400\n",
        "        self.n_nodes2 = 200\n",
        "        self.n_output = 10\n",
        "        self.sigma = 0.02\n",
        "        self.lr = 0.5\n",
        "        self.epoch = epoch\n",
        "        self.optimizer = optimizer\n",
        "        self.initializer = initializer\n",
        "        self.activator = activator\n",
        "\n",
        "    def fit(self, X, y, X_val=None, y_val=None):\n",
        "        self.loss_train = []\n",
        "        self.loss_val = []\n",
        "        optimizer = self.optimizer(self.lr)\n",
        "        self.FC1 = FC(self.n_features, self.n_nodes1, self.initializer(self.sigma), optimizer)\n",
        "        self.activation1 = self.activator()\n",
        "        self.FC2 = FC(self.n_nodes1, self.n_nodes2, self.initializer(self.sigma), optimizer)\n",
        "        self.activation2 = self.activator()\n",
        "        self.FC3 = FC(self.n_nodes2, self.n_output, self.initializer(self.sigma), optimizer)\n",
        "        self.activation3 = softmax()\n",
        "\n",
        "        for i in range(self.epoch):\n",
        "            get_mini_batch = GetMiniBatch(X, y, batch_size=self.batch_size, seed=i)\n",
        "            for mini_X, mini_y in get_mini_batch:\n",
        "                A1 = self.FC1.forward(mini_X)\n",
        "                Z1 = self.activation1.forward(A1)\n",
        "                A2 = self.FC2.forward(Z1)\n",
        "                Z2 = self.activation2.forward(A2)\n",
        "                #print(Z2.shape)\n",
        "                A3 = self.FC3.forward(Z2)\n",
        "                Z3 = self.activation3.forward(A3)\n",
        "                dA3, loss = self.activation3.backward(Z3, mini_y)\n",
        "                dZ2 = self.FC3.backward(dA3)\n",
        "                dA2 = self.activation2.backward(dZ2)\n",
        "                dZ1 = self.FC2.backward(dA2)\n",
        "                dA1 = self.activation1.backward(dZ1)\n",
        "                dZ0 = self.FC1.backward(dA1)\n",
        "\n",
        "            if self.verbose:\n",
        "                A1 = self.FC1.forward(X)\n",
        "                Z1 = self.activation1.forward(A1)\n",
        "                A2 = self.FC2.forward(Z1)\n",
        "                Z2 = self.activation2.forward(A2)\n",
        "                A3 = self.FC3.forward(Z2)\n",
        "                Z3 = self.activation3.forward(A3)\n",
        "                self.loss_train.append(self.activation3.backward(Z3, y)[1])\n",
        "\n",
        "                if X_val is not None:\n",
        "                    A1 = self.FC1.forward(X_val)\n",
        "                    Z1 = self.activation1.forward(A1)\n",
        "                    A2 = self.FC2.forward(Z1)\n",
        "                    Z2 = self.activation2.forward(A2)\n",
        "                    A3 = self.FC3.forward(Z2)\n",
        "                    Z3 = self.activation3.forward(A3)\n",
        "                    self.loss_val.append(self.activation3.backward(Z3, y_val)[1])\n",
        "\n",
        "    def predict(self, X):\n",
        "        A1 = self.FC1.forward(X)\n",
        "        Z1 = self.activation1.forward(A1)\n",
        "        A2 = self.FC2.forward(Z1)\n",
        "        Z2 = self.activation2.forward(A2)\n",
        "        A3 = self.FC3.forward(Z2)\n",
        "        Z3 = self.activation3.forward(A3)\n",
        "        return np.argmax(Z3, axis=1)"
      ],
      "metadata": {
        "id": "NK5TG4xdGHwU"
      },
      "execution_count": 26,
      "outputs": []
    },
    {
      "cell_type": "markdown",
      "source": [
        "# [Problem 9] Learning and estimation\n",
        "Create several networks with varying numbers of layers and activation functions. Then, train and estimate the MNIST data and calculate the Accuracy.\n",
        "\n",
        "* Initialize self.W and self.B using the initializer method\n",
        "* Number of nodes Fully connected layer from n_nodes1 to n_nodes2\n",
        "* The following forms of ndarray, shape (batch_size, n_nodes1)\n",
        "* The following forms of ndarray, shape (batch_size, n_nodes2)\n",
        "* initializer: instance of initialization method\n",
        "* optimizer: instance of optimization method\n",
        "* Simple initialization with Gaussian distribution\n",
        "* Update weights and biases for a layer\n",
        "* Instance of the layer before update\n",
        "* Gradient flowing from behind\n",
        "* Standard deviation of Gaussian distribution\n",
        "* Number of nodes in the output layer\n",
        "* Stochastic gradient descent\n",
        "* Bias initialization\n",
        "* Number of nodes in the previous layer\n",
        "* Number of nodes in the later layer\n",
        "* dZ0 is not used\n",
        "* Weight initialization\n",
        "* Gradient to flow forward\n",
        "* Backward\n",
        "* forward\n",
        "* Initialize\n",
        "* Learning rate\n",
        "* output\n",
        "* update\n",
        "\n",
        "test\n",
        "\n",
        "input"
      ],
      "metadata": {
        "id": "LU8li_QVFtY2"
      }
    },
    {
      "cell_type": "code",
      "source": [
        "X_train = X_train.reshape(-1, 784)\n",
        "X_test = X_test.reshape(-1, 784)\n",
        "\n",
        "X_train = X_train.astype(np.float64)\n",
        "X_test = X_test.astype(np.float64)\n",
        "X_train /= 255\n",
        "X_test /= 255"
      ],
      "metadata": {
        "id": "xFtel8gcFjb5"
      },
      "execution_count": 27,
      "outputs": []
    },
    {
      "cell_type": "code",
      "source": [
        "from sklearn.model_selection import train_test_split\n",
        "from sklearn.metrics import accuracy_score\n",
        "\n",
        "X_train, X_val, y_train, y_val = train_test_split(X_train, y_train, test_size=0.2)"
      ],
      "metadata": {
        "id": "vOFXSSmIGM9p"
      },
      "execution_count": 28,
      "outputs": []
    },
    {
      "cell_type": "code",
      "source": [
        "from sklearn.preprocessing import OneHotEncoder\n",
        "enc = OneHotEncoder(handle_unknown='ignore', sparse_output=False)\n",
        "y_train_one_hot = enc.fit_transform(y_train[:, np.newaxis])\n",
        "y_test_one_hot = enc.transform(y_val[:, np.newaxis])"
      ],
      "metadata": {
        "id": "6cMblgKKGP74"
      },
      "execution_count": 29,
      "outputs": []
    },
    {
      "cell_type": "code",
      "source": [
        "SDNN = ScratchDeepNeuralNetrowkClassifier(verbose=True, epoch=10, optimizer=AdaGrad, initializer=HeInitializer, activator=ReLU)\n",
        "\n",
        "SDNN.fit(X_train, y_train_one_hot, X_val, y_test_one_hot)"
      ],
      "metadata": {
        "id": "TXlaYgmtGRwl"
      },
      "execution_count": 30,
      "outputs": []
    },
    {
      "cell_type": "code",
      "source": [
        "pred = SDNN.predict(X_val)\n",
        "accuracy_score(y_val, pred)"
      ],
      "metadata": {
        "colab": {
          "base_uri": "https://localhost:8080/"
        },
        "id": "uJuy4vBmGTnq",
        "outputId": "4fe06ff7-eb34-4a02-d874-af88836f6949"
      },
      "execution_count": 31,
      "outputs": [
        {
          "output_type": "execute_result",
          "data": {
            "text/plain": [
              "0.97825"
            ]
          },
          "metadata": {},
          "execution_count": 31
        }
      ]
    },
    {
      "cell_type": "code",
      "source": [
        "import matplotlib.pyplot as plt\n",
        "plt.plot(list(range(1, SDNN.epoch+1)), SDNN.loss_train, label='train')\n",
        "plt.plot(list(range(1, SDNN.epoch+1)), SDNN.loss_val, label='test')\n",
        "plt.legend()\n",
        "plt.xticks(list(range(1, SDNN.epoch+1)));"
      ],
      "metadata": {
        "colab": {
          "base_uri": "https://localhost:8080/",
          "height": 430
        },
        "id": "31CfY43VGWXY",
        "outputId": "ed957f2c-d06f-4c17-bd98-97e8e50f4375"
      },
      "execution_count": 32,
      "outputs": [
        {
          "output_type": "display_data",
          "data": {
            "text/plain": [
              "<Figure size 640x480 with 1 Axes>"
            ],
            "image/png": "[encoded data removed]"
          },
          "metadata": {}
        }
      ]
    },
    {
      "cell_type": "code",
      "source": [
        "class ScratchDeepNeuralNetrowkClassifier_4():\n",
        "\n",
        "    def __init__(self, verbose=False, epoch=1, optimizer=SGD, initializer=HeInitializer, activater=ReLU):\n",
        "        self.verbose = verbose\n",
        "        self.batch_size = 20\n",
        "        self.n_features = 784\n",
        "        self.n_nodes1 = 400\n",
        "        self.n_nodes2 = 200\n",
        "        self.n_nodes3 = 150\n",
        "        self.n_output = 10\n",
        "        self.sigma = 0.02\n",
        "        self.lr = 0.5\n",
        "        self.epoch = epoch\n",
        "        self.optimizer = optimizer\n",
        "        self.initializer = initializer\n",
        "        self.activater = activater\n",
        "\n",
        "    def fit(self, X, y, X_val=None, y_val=None):\n",
        "        self.loss_train = []\n",
        "        self.loss_val = []\n",
        "        optimizer = self.optimizer(self.lr)\n",
        "\n",
        "        self.FC1 = FC(self.n_features, self.n_nodes1, self.initializer(self.sigma), optimizer)\n",
        "        self.activation1 = self.activater()\n",
        "        self.FC2 = FC(self.n_nodes1, self.n_nodes2, self.initializer(self.sigma), optimizer)\n",
        "        self.activation2 = self.activater()\n",
        "        self.FC3 = FC(self.n_nodes2, self.n_nodes3, self.initializer(self.sigma), optimizer)\n",
        "        self.activation3 = self.activater()\n",
        "        self.FC4 = FC(self.n_nodes3, self.n_output, self.initializer(self.sigma), optimizer)\n",
        "        self.activation4 = softmax()\n",
        "\n",
        "        for i in range(self.epoch):\n",
        "            get_mini_batch = GetMiniBatch(X, y, batch_size=self.batch_size, seed=i)\n",
        "            for mini_X, mini_y in get_mini_batch:\n",
        "                self.forward(mini_X)\n",
        "                self.backward(mini_y)\n",
        "\n",
        "            if self.verbose:\n",
        "                self.forward(X)\n",
        "                self.loss_train.append(self.activation4.backward(self.Z4, y)[1])\n",
        "\n",
        "                if X_val is not None:\n",
        "                    self.forward(X_val)\n",
        "                    self.loss_val.append(self.activation4.backward(self.Z4, y_val)[1])\n",
        "\n",
        "    def forward(self, X):\n",
        "        A1 = self.FC1.forward(X)\n",
        "        Z1 = self.activation1.forward(A1)\n",
        "        A2 = self.FC2.forward(Z1)\n",
        "        Z2 = self.activation2.forward(A2)\n",
        "        A3 = self.FC3.forward(Z2)\n",
        "        Z3 = self.activation3.forward(A3)\n",
        "        A4 = self.FC4.forward(Z3)\n",
        "        self.Z4 = self.activation4.forward(A4)\n",
        "\n",
        "    def backward(self, y):\n",
        "        dA4, self.loss = self.activation4.backward(self.Z4, y)\n",
        "        dZ3 = self.FC4.backward(dA4)\n",
        "        dA3 = self.activation3.backward(dZ3)\n",
        "        dZ2 = self.FC3.backward(dA3)\n",
        "        dA2 = self.activation2.backward(dZ2)\n",
        "        dZ1 = self.FC2.backward(dA2)\n",
        "        dA1 = self.activation1.backward(dZ1)\n",
        "        dZ0 = self.FC1.backward(dA1)\n",
        "\n",
        "    def predict(self, X):\n",
        "        self.forward(X)\n",
        "        return np.argmax(self.Z4, axis=1)"
      ],
      "metadata": {
        "id": "QX1rXt-LGZWc"
      },
      "execution_count": 33,
      "outputs": []
    },
    {
      "cell_type": "code",
      "source": [
        "SDNN4 = ScratchDeepNeuralNetrowkClassifier_4(verbose=True, epoch=10, optimizer=AdaGrad, initializer=HeInitializer, activater=ReLU)\n",
        "SDNN4.fit(X_train, y_train_one_hot, X_val, y_test_one_hot)\n",
        "\n",
        "pred = SDNN4.predict(X_val)\n",
        "accuracy_score(y_val, pred)"
      ],
      "metadata": {
        "colab": {
          "base_uri": "https://localhost:8080/"
        },
        "id": "n23EUf8bGaoO",
        "outputId": "11cf3860-89ff-43a9-b410-8c20e609b3dc"
      },
      "execution_count": 34,
      "outputs": [
        {
          "output_type": "execute_result",
          "data": {
            "text/plain": [
              "0.9774166666666667"
            ]
          },
          "metadata": {},
          "execution_count": 34
        }
      ]
    },
    {
      "cell_type": "code",
      "source": [
        "plt.plot(list(range(1, SDNN4.epoch+1)), SDNN4.loss_train, label='train')\n",
        "plt.plot(list(range(1, SDNN4.epoch+1)), SDNN4.loss_val, label='test')\n",
        "plt.legend()\n",
        "plt.xticks(list(range(1, SDNN4.epoch+1)));"
      ],
      "metadata": {
        "colab": {
          "base_uri": "https://localhost:8080/",
          "height": 430
        },
        "id": "4kDsORuuGcHc",
        "outputId": "e795a533-9af6-4b63-d664-0b5b44c3752a"
      },
      "execution_count": 35,
      "outputs": [
        {
          "output_type": "display_data",
          "data": {
            "text/plain": [
              "<Figure size 640x480 with 1 Axes>"
            ],
            "image/png": "[encoded data removed]"
          },
          "metadata": {}
        }
      ]
    },
    {
      "cell_type": "code",
      "source": [
        "class ScratchDeepNeuralNetrowkClassifier_6():\n",
        "\n",
        "    def __init__(self, verbose=False, epoch=1, optimizer=SGD, initializer=HeInitializer, activater=ReLU):\n",
        "        self.verbose = verbose\n",
        "        self.batch_size = 20\n",
        "        self.n_features = 784\n",
        "        self.n_nodes1 = 400\n",
        "        self.n_nodes2 = 200\n",
        "        self.n_nodes3 = 150\n",
        "        self.n_nodes4 = 100\n",
        "        self.n_nodes5 = 50\n",
        "        self.n_output = 10\n",
        "        self.sigma = 0.02\n",
        "        self.lr = 0.5\n",
        "        self.epoch = epoch\n",
        "        self.optimizer = optimizer\n",
        "        self.initializer = initializer\n",
        "        self.activater = activater\n",
        "\n",
        "    def fit(self, X, y, X_val=None, y_val=None):\n",
        "        self.loss_train = []\n",
        "        self.loss_val = []\n",
        "        optimizer = self.optimizer(self.lr)\n",
        "\n",
        "        self.FC1 = FC(self.n_features, self.n_nodes1, self.initializer(self.sigma), optimizer)\n",
        "        self.activation1 = self.activater()\n",
        "        self.FC2 = FC(self.n_nodes1, self.n_nodes2, self.initializer(self.sigma), optimizer)\n",
        "        self.activation2 = self.activater()\n",
        "        self.FC3 = FC(self.n_nodes2, self.n_nodes3, self.initializer(self.sigma), optimizer)\n",
        "        self.activation3 = self.activater()\n",
        "        self.FC4 = FC(self.n_nodes3, self.n_nodes4, self.initializer(self.sigma), optimizer)\n",
        "        self.activation4 = self.activater()\n",
        "        self.FC5 = FC(self.n_nodes4, self.n_nodes5, self.initializer(self.sigma), optimizer)\n",
        "        self.activation5 = self.activater()\n",
        "        self.FC6 = FC(self.n_nodes5, self.n_output, self.initializer(self.sigma), optimizer)\n",
        "        self.activation6 = softmax()\n",
        "\n",
        "        for i in range(self.epoch):\n",
        "            get_mini_batch = GetMiniBatch(X, y, batch_size=self.batch_size, seed=i)\n",
        "            for mini_X, mini_y in get_mini_batch:\n",
        "                self.forward(mini_X)\n",
        "                self.backward(mini_y)\n",
        "\n",
        "            if self.verbose:\n",
        "                self.forward(X)\n",
        "                self.loss_train.append(self.activation6.backward(self.Z6, y)[1])\n",
        "\n",
        "                if X_val is not None:\n",
        "                    self.forward(X_val)\n",
        "                    self.loss_val.append(self.activation6.backward(self.Z6, y_val)[1])\n",
        "\n",
        "    def forward(self, X):\n",
        "        A1 = self.FC1.forward(X)\n",
        "        Z1 = self.activation1.forward(A1)\n",
        "        A2 = self.FC2.forward(Z1)\n",
        "        Z2 = self.activation2.forward(A2)\n",
        "        A3 = self.FC3.forward(Z2)\n",
        "        Z3 = self.activation3.forward(A3)\n",
        "        A4 = self.FC4.forward(Z3)\n",
        "        Z4 = self.activation4.forward(A4)\n",
        "        A5 = self.FC5.forward(Z4)\n",
        "        Z5 = self.activation5.forward(A5)\n",
        "        A6 = self.FC6.forward(Z5)\n",
        "        self.Z6 = self.activation6.forward(A6)\n",
        "\n",
        "    def backward(self, y):\n",
        "        dA6, self.loss = self.activation6.backward(self.Z6, y)\n",
        "        dZ5 = self.FC6.backward(dA6)\n",
        "        dA5 = self.activation5.backward(dZ5)\n",
        "        dZ4 = self.FC5.backward(dA5)\n",
        "        dA4 = self.activation4.backward(dZ4)\n",
        "        dZ3 = self.FC4.backward(dA4)\n",
        "        dA3 = self.activation3.backward(dZ3)\n",
        "        dZ2 = self.FC3.backward(dA3)\n",
        "        dA2 = self.activation2.backward(dZ2)\n",
        "        dZ1 = self.FC2.backward(dA2)\n",
        "        dA1 = self.activation1.backward(dZ1)\n",
        "        dZ0 = self.FC1.backward(dA1)\n",
        "\n",
        "    def predict(self, X):\n",
        "        self.forward(X)\n",
        "        return np.argmax(self.Z6, axis=1)"
      ],
      "metadata": {
        "id": "5Y0CtuHZGeUS"
      },
      "execution_count": 36,
      "outputs": []
    },
    {
      "cell_type": "code",
      "source": [
        "SDNN6 = ScratchDeepNeuralNetrowkClassifier_6(verbose=True, epoch=10, optimizer=AdaGrad, initializer=HeInitializer, activater=ReLU)\n",
        "SDNN6.fit(X_train, y_train_one_hot, X_val, y_test_one_hot)\n",
        "\n",
        "pred = SDNN6.predict(X_val)\n",
        "accuracy_score(y_val, pred)"
      ],
      "metadata": {
        "colab": {
          "base_uri": "https://localhost:8080/"
        },
        "id": "4_aRMzNuGgHR",
        "outputId": "32f58037-05f0-4fe9-9bb5-12746de6e3bb"
      },
      "execution_count": 37,
      "outputs": [
        {
          "output_type": "execute_result",
          "data": {
            "text/plain": [
              "0.97675"
            ]
          },
          "metadata": {},
          "execution_count": 37
        }
      ]
    },
    {
      "cell_type": "code",
      "source": [
        "plt.plot(list(range(1, SDNN6.epoch+1)), SDNN6.loss_train, label='train')\n",
        "plt.plot(list(range(1, SDNN6.epoch+1)), SDNN6.loss_val, label='test')\n",
        "plt.legend()\n",
        "plt.xticks(list(range(1, SDNN6.epoch+1)));"
      ],
      "metadata": {
        "colab": {
          "base_uri": "https://localhost:8080/",
          "height": 430
        },
        "id": "JQN6BQtyGh6b",
        "outputId": "cce5c198-03a9-4e2a-9ecd-2b5938840b81"
      },
      "execution_count": 38,
      "outputs": [
        {
          "output_type": "display_data",
          "data": {
            "text/plain": [
              "<Figure size 640x480 with 1 Axes>"
            ],
            "image/png": "[encoded data removed]"
          },
          "metadata": {}
        }
      ]
    },
    {
      "cell_type": "code",
      "source": [
        "class General_ScratchDeepNeuralNetrowkClassifier():\n",
        "\n",
        "    def __init__(self, verbose=False, epoch=1, optimizer=SGD, initializer=HeInitializer, activater=ReLU, n_nodes=None):\n",
        "        self.verbose = verbose\n",
        "        self.batch_size = 20\n",
        "        self.sigma = 0.02\n",
        "        self.lr = 0.5\n",
        "        self.epoch = epoch\n",
        "        self.optimizer = optimizer\n",
        "        self.initializer = initializer\n",
        "        self.activater = activater\n",
        "        self.n_nodes = n_nodes\n",
        "\n",
        "    def fit(self, X, y, X_val=None, y_val=None):\n",
        "        self.loss_train = []\n",
        "        self.loss_val = []\n",
        "        optimizer = self.optimizer(self.lr)\n",
        "        self.fcs = []\n",
        "        self.act = []\n",
        "\n",
        "        for i in range(len(self.n_nodes)-2):\n",
        "            self.fcs.append(FC(self.n_nodes[i], self.n_nodes[i+1], self.initializer(self.sigma), optimizer))\n",
        "            self.act.append(self.activater())\n",
        "        self.fcs.append(FC(self.n_nodes[i+1], self.n_nodes[-1], self.initializer(self.sigma), optimizer))\n",
        "        self.act.append(softmax())\n",
        "\n",
        "        for i in range(self.epoch):\n",
        "            get_mini_batch = GetMiniBatch(X, y, batch_size=self.batch_size, seed=i)\n",
        "            for mini_X, mini_y in get_mini_batch:\n",
        "                A = []\n",
        "                Z = []\n",
        "                for i, (f, a) in enumerate(zip(self.fcs, self.act)):\n",
        "                    if i == 0:\n",
        "                        A.append(f.forward(mini_X))\n",
        "                        Z.append(a.forward(A[i]))\n",
        "                    else:\n",
        "                        A.append(f.forward(Z[i-1]))\n",
        "                        Z.append(a.forward(A[i]))\n",
        "                dA = []\n",
        "                dZ = []\n",
        "                for i, (f, a) in enumerate(zip(self.fcs[::-1], self.act[::-1])):\n",
        "                    if i == 0:\n",
        "                        dA.append(a.backward(Z[-(i+1)], mini_y)[0])\n",
        "                        dZ.append(f.backward(dA[i]))\n",
        "                    else:\n",
        "                        dA.append(a.backward(dZ[i-1]))\n",
        "                        dZ.append(f.backward(dA[i]))\n",
        "\n",
        "            if self.verbose:\n",
        "                A = []\n",
        "                Z = []\n",
        "                for i, (f, a) in enumerate(zip(self.fcs, self.act)):\n",
        "                    if i == 0:\n",
        "                        A.append(f.forward(X))\n",
        "                        Z.append(a.forward(A[i]))\n",
        "                    else:\n",
        "                        A.append(f.forward(Z[i-1]))\n",
        "                        Z.append(a.forward(A[i]))\n",
        "                self.loss_train.append(self.act[-1].backward(Z[-1], y)[1])\n",
        "\n",
        "                if X_val is not None:\n",
        "                    A = []\n",
        "                    Z = []\n",
        "                    for i, (f, a) in enumerate(zip(self.fcs, self.act)):\n",
        "                        if i == 0:\n",
        "                            A.append(f.forward(X_val))\n",
        "                            Z.append(a.forward(A[i]))\n",
        "                        else:\n",
        "                            A.append(f.forward(Z[i-1]))\n",
        "                            Z.append(a.forward(A[i]))\n",
        "                    self.loss_val.append(self.act[-1].backward(Z[-1], y_val)[1])\n",
        "\n",
        "    def predict(self, X):\n",
        "        A = []\n",
        "        Z = []\n",
        "        for i, (f, a) in enumerate(zip(self.fcs, self.act)):\n",
        "            if i == 0:\n",
        "                A.append(f.forward(X))\n",
        "                Z.append(a.forward(A[i]))\n",
        "            else:\n",
        "                A.append(f.forward(Z[i-1]))\n",
        "                Z.append(a.forward(A[i]))\n",
        "        return np.argmax(Z[-1], axis=1)"
      ],
      "metadata": {
        "id": "nVytINPgGjf_"
      },
      "execution_count": 39,
      "outputs": []
    },
    {
      "cell_type": "code",
      "source": [
        "node_list = [784, 400, 200, 150, 100, 10]\n",
        "SDNN5 = General_ScratchDeepNeuralNetrowkClassifier(verbose=True, epoch=10, optimizer=AdaGrad, initializer=HeInitializer, activater=ReLU, n_nodes=node_list)\n",
        "SDNN5.fit(X_train, y_train_one_hot, X_val, y_test_one_hot)\n",
        "pred = SDNN5.predict(X_val)\n",
        "accuracy_score(y_val, pred)"
      ],
      "metadata": {
        "colab": {
          "base_uri": "https://localhost:8080/"
        },
        "id": "-jjctLIFGlTU",
        "outputId": "063b3d5b-1dd7-4b03-a31a-35f7fbcb7677"
      },
      "execution_count": 40,
      "outputs": [
        {
          "output_type": "execute_result",
          "data": {
            "text/plain": [
              "0.9759166666666667"
            ]
          },
          "metadata": {},
          "execution_count": 40
        }
      ]
    },
    {
      "cell_type": "code",
      "source": [
        "plt.plot(list(range(1, SDNN5.epoch+1)), SDNN5.loss_train, label='train')\n",
        "plt.plot(list(range(1, SDNN5.epoch+1)), SDNN5.loss_val, label='test')\n",
        "plt.legend()\n",
        "plt.xticks(list(range(1, SDNN5.epoch+1)));"
      ],
      "metadata": {
        "colab": {
          "base_uri": "https://localhost:8080/",
          "height": 430
        },
        "id": "xp-fWs_lGmgH",
        "outputId": "8c896a81-03ee-4b42-f512-4ea8b51e7cef"
      },
      "execution_count": 41,
      "outputs": [
        {
          "output_type": "display_data",
          "data": {
            "text/plain": [
              "<Figure size 640x480 with 1 Axes>"
            ],
            "image/png": "[encoded data removed]"
          },
          "metadata": {}
        }
      ]
    }
  ]
}