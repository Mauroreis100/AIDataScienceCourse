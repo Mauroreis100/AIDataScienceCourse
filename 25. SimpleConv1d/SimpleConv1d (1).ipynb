{
  "cells": [
    {
      "cell_type": "markdown",
      "source": [
        "# Deep Learning Scratch: Convolutional Neural Networks 1\n",
        "# The purpose of this Sprint\n",
        "Understanding the basics of CNNs through Scratch\n",
        "\n",
        "## How to learn\n",
        "After implementing a one-dimensional convolutional neural network from scratch, we will start training and validating it.\n",
        "\n",
        "## One-dimensional convolutional neural network scratch\n",
        "Let’s create the class Convolutional Neural Network (CNN) from scratch. We will implement the algorithm using only the minimum library such as NumPy.\n",
        "\n",
        "In this Sprint, we will build a 1D Convolutional layer and try to understand the basics of convolution. The next Sprint completes the CNN commonly used for images by creating a two-dimensional convolutional layer and a pooling layer.\n",
        "\n",
        "Name the class Scratch1dCNNClassifier. Please refer to the *ScratchDeepNeuralNetrowkClassifier* created in the previous Sprint for the class structure."
      ],
      "metadata": {
        "id": "QARJsmt8cANC"
      }
    },
    {
      "cell_type": "markdown",
      "source": [
        "# Preparing the dataset\n",
        "We will continue to use the MNIST dataset for validation, with the 1D convolution taking a smoothed input as well as a fully connected neural network."
      ],
      "metadata": {
        "id": "5zRxsLjLNz7l"
      }
    },
    {
      "cell_type": "code",
      "execution_count": 96,
      "metadata": {
        "id": "Ys-qplctHleo",
        "colab": {
          "base_uri": "https://localhost:8080/"
        },
        "outputId": "4d3e718e-accd-488b-b3b7-e58ebb05b753"
      },
      "outputs": [
        {
          "output_type": "stream",
          "name": "stdout",
          "text": [
            "Requirement already satisfied: mnist in /usr/local/lib/python3.12/dist-packages (0.2.2)\n",
            "Requirement already satisfied: numpy in /usr/local/lib/python3.12/dist-packages (from mnist) (2.0.2)\n"
          ]
        }
      ],
      "source": [
        "import warnings\n",
        "warnings.filterwarnings(\"ignore\", message=\"numpy.dtype size changed\")\n",
        "warnings.filterwarnings(\"ignore\", message=\"numpy.ufunc size changed\")\n",
        "import numpy as np\n",
        "import pandas as pd\n",
        "import matplotlib.pyplot as plt\n",
        "import random\n",
        "import seaborn as sns\n",
        "from sklearn import metrics\n",
        "from sklearn.preprocessing import StandardScaler\n",
        "import scipy.sparse as sp\n",
        "import statsmodels.api as sm\n",
        "from decimal import Decimal, ROUND_HALF_UP\n",
        "from sklearn.metrics import mean_squared_error\n",
        "%matplotlib inline\n",
        "\n",
        "from sklearn.model_selection import train_test_split\n",
        "from sklearn.cluster import KMeans\n",
        "from mlxtend.plotting import plot_decision_regions\n",
        "from matplotlib.colors import ListedColormap\n",
        "\n",
        "from sklearn.metrics import accuracy_score\n",
        "from sklearn.metrics import precision_score\n",
        "from sklearn.metrics import recall_score\n",
        "from sklearn.metrics import f1_score\n",
        "from sklearn.metrics import confusion_matrix\n",
        "from sklearn.model_selection import cross_val_score\n",
        "\n",
        "from sklearn.linear_model import LinearRegression\n",
        "from sklearn.ensemble import RandomForestRegressor\n",
        "from sklearn.svm import SVR\n",
        "from sklearn.tree import DecisionTreeRegressor\n",
        "from sklearn.linear_model import SGDRegressor\n",
        "from sklearn.model_selection import KFold\n",
        "\n",
        "from sklearn import datasets\n",
        "from sklearn.ensemble import RandomForestClassifier\n",
        "from sklearn.model_selection import StratifiedKFold\n",
        "from sklearn.model_selection import cross_validate\n",
        "from sklearn.metrics import mean_squared_error\n",
        "from sklearn.pipeline import make_pipeline\n",
        "from sklearn.neighbors import KNeighborsRegressor\n",
        "from lightgbm import LGBMRegressor\n",
        "\n",
        "import tensorflow as tf\n",
        "!pip install mnist"
      ]
    },
    {
      "cell_type": "code",
      "source": [
        "import mnist\n"
      ],
      "metadata": {
        "id": "q_wsjTpWWe-O"
      },
      "execution_count": 97,
      "outputs": []
    },
    {
      "cell_type": "code",
      "execution_count": 98,
      "metadata": {
        "id": "lOUOygTDL-zF"
      },
      "outputs": [],
      "source": [
        "import numpy as np\n",
        "\n",
        "\n",
        "def smooth_curve(x):\n",
        "    window_len = 11\n",
        "    s = np.r_[x[window_len-1:0:-1], x, x[-1:-window_len:-1]]\n",
        "    w = np.kaiser(window_len, 2)\n",
        "    y = np.convolve(w/w.sum(), s, mode='valid')\n",
        "    return y[5:len(y)-5]\n",
        "\n",
        "\n",
        "def shuffle_dataset(x, t):\n",
        "    permutation = np.random.permutation(x.shape[0])\n",
        "    x = x[permutation,:] if x.ndim == 2 else x[permutation,:,:,:]\n",
        "    t = t[permutation]\n",
        "\n",
        "    return x, t\n",
        "\n",
        "def conv_output_size(input_size, filter_size, stride=1, pad=0):\n",
        "    return (input_size + 2*pad - filter_size) / stride + 1\n",
        "\n",
        "\n",
        "def im2col(input_data, filter_h, filter_w, stride=1, pad=0):\n",
        "    N, C, H, W = input_data.shape\n",
        "    out_h = (H + 2*pad - filter_h)//stride + 1\n",
        "    out_w = (W + 2*pad - filter_w)//stride + 1\n",
        "\n",
        "    img = np.pad(input_data, [(0,0), (0,0), (pad, pad), (pad, pad)], 'constant')\n",
        "    col = np.zeros((N, C, filter_h, filter_w, out_h, out_w))\n",
        "\n",
        "    for y in range(filter_h):\n",
        "        y_max = y + stride*out_h\n",
        "        for x in range(filter_w):\n",
        "            x_max = x + stride*out_w\n",
        "            col[:, :, y, x, :, :] = img[:, :, y:y_max:stride, x:x_max:stride]\n",
        "\n",
        "    col = col.transpose(0, 4, 5, 1, 2, 3).reshape(N*out_h*out_w, -1)\n",
        "    return col\n",
        "\n",
        "\n",
        "def col2im(col, input_shape, filter_h, filter_w, stride=1, pad=0):\n",
        "    N, C, H, W = input_shape\n",
        "    out_h = (H + 2*pad - filter_h)//stride + 1\n",
        "    out_w = (W + 2*pad - filter_w)//stride + 1\n",
        "    col = col.reshape(N, out_h, out_w, C, filter_h, filter_w).transpose(0, 3, 4, 5, 1, 2)\n",
        "\n",
        "    img = np.zeros((N, C, H + 2*pad + stride - 1, W + 2*pad + stride - 1))\n",
        "    for y in range(filter_h):\n",
        "        y_max = y + stride*out_h\n",
        "        for x in range(filter_w):\n",
        "            x_max = x + stride*out_w\n",
        "            img[:, :, y:y_max:stride, x:x_max:stride] += col[:, :, y, x, :, :]\n",
        "\n",
        "    return img[:, :, pad:H + pad, pad:W + pad]"
      ]
    },
    {
      "cell_type": "code",
      "execution_count": 99,
      "metadata": {
        "colab": {
          "base_uri": "https://localhost:8080/",
          "height": 430
        },
        "id": "a4Bw_HQJNZVV",
        "outputId": "84017733-bdd1-4e4e-f5b2-30858bada3d8"
      },
      "outputs": [
        {
          "output_type": "display_data",
          "data": {
            "text/plain": [
              "<Figure size 640x480 with 1 Axes>"
            ],
            "image/png": "[encoded data removed]"
          },
          "metadata": {}
        }
      ],
      "source": [
        "data_length = 100\n",
        "n_sample = 100000\n",
        "anomaly_noise = np.random.randn(data_length)\n",
        "nomaly_noise  = np.random.randn(data_length)/2\n",
        "t = np.linspace(0,10,data_length)\n",
        "x_anomaly = np.array([np.sin(t) + anomaly_noise for i in range(n_sample//2)])\n",
        "x_nomaly  = np.array([np.sin(t) + nomaly_noise  for i in range(n_sample//2)])\n",
        "X = np.concatenate([x_anomaly,x_nomaly])\n",
        "y = np.concatenate([np.ones(n_sample//2),np.zeros(n_sample//2)])\n",
        "rand_idx = np.arange(n_sample)\n",
        "np.random.shuffle(rand_idx)\n",
        "X = X[rand_idx,:]\n",
        "y = y[rand_idx]\n",
        "plt.plot(t,x_anomaly[0,:])\n",
        "plt.plot(t,x_nomaly[0,:])\n",
        "plt.show()"
      ]
    },
    {
      "cell_type": "markdown",
      "source": [
        "# [Problem 1] Creating a one-dimensional convolutional layer class that limits the number of channels to one\n",
        "Create 1-dimensional convolutional layer class SimpleConv1d with the number of  channels limited to 1. The basic structure will be the same as the FC class of the fully connected layer created in Sprint above. Recreate the class related to weight initialization if necessary. The point of using the initial value of Xavier is the same as the fully connected layer.\n",
        "\n",
        "Here Padding is not considered, and stride is also fixed to 1. Also, don’t worry about processing multiple data at the same time, only support batch size\n",
        "1. Extension of this part is an advanced task.\n",
        "\n",
        "The formula for forward propagation is as follows\n",
        "\n",
        "a​ ​I​ ​=​ ​f-1​ ​∑​ ​s​ ​=​ ​0​ ​an unknown​ ​(I​ ​+​ ​s)​ ​LOL​ ​s​ ​+​ ​bai=∑s=0F−1x(i+s)ws+b\n",
        "\n",
        "$a_i$: The i-th value in the output array\n",
        "\n",
        "$F$: Filter size\n",
        "\n",
        "$x_{(i+s)}$: (i+s)th value in the input array\n",
        "\n",
        "$w_s$: the sth value in the array of weights\n",
        "\n",
        "$b$: Bias term\n",
        "\n",
        "All are scalars.\n",
        "\n",
        "Next is the update formula. It is similar to the fully connected layer in that it is replaced with AdaGrad etc.\n",
        "\n",
        "LOL’-‘ used in place of ‘-‘ in Japanese, ‘-‘ used in Korean, etc.​ ​s​ ​=​ ​LOL​ ​s-alpha​ ​∂​ ​l​ ​∂​ ​LOL​ ​s​ ​b’-‘ used in place of ‘-‘ in Japanese, ‘-‘ used in Korean, etc.​ ​=​ ​b-alpha​ ​∂​ ​l​ ​∂​ ​bws′=ws−α∂l∂wsb′=b−α∂l∂b\n",
        "\n",
        "$\\alpha$: learning rate\n",
        "\n",
        "$\\frac{\\partial L}{\\partial w_s}$: Loss $L$ slope for $w_s$\n",
        "\n",
        "$\\frac{\\partial L}{\\partial b}$: slope of loss $L$ with respect to $b$\n",
        "\n",
        "Here is the backpropagation formula for the gradients $\\frac{\\partial L}{\\partial w_s}$ and $\\frac{\\partial L}{\\partial b}$.\n",
        "\n",
        "∂​ ​l​ ​∂​ ​LOL​ ​s​ ​=​ ​N​ ​O​ ​u​ ​t-1​ ​∑​ ​I​ ​=​ ​0​ ​∂​ ​l​ ​∂​ ​a​ ​I​ ​an unknown​ ​(I​ ​+​ ​s)​ ​∂​ ​l​ ​∂​ ​b​ ​=​ ​N​ ​O​ ​u​ ​t-1​ ​∑​ ​I​ ​=​ ​0​ ​∂​ ​l​ ​∂​ ​a​ ​I∂l∂ws=∑i=0Nout−1∂l∂aix(i+s)∂l∂b=∑i=0Nout−1∂l∂ai\n",
        "\n",
        "$\\frac{\\partial L}{\\partial a_i}$: i-th value in the gradient array\n",
        "\n",
        "$N_{out}$: Output size\n",
        "\n",
        "The formula for the error to be passed to the previous layer is as follows\n",
        "\n",
        "∂​ ​l​ ​∂​ ​an unknown​ ​J​ ​=​ ​f-1​ ​∑​ ​s​ ​=​ ​0​ ​∂​ ​l​ ​∂​ ​a​ ​(J-s)​ ​LOL​ ​s∂l∂xj=∑s=0F−1∂l∂a(j−s)ws\n",
        "\n",
        "$\\frac{\\partial L}{\\partial x_j}$: jth value of the error array to be passed to the previous layer\n",
        "\n",
        "However, when $js<0$ or $js>N_{out}-1$, $\\frac{\\partial L}{\\partial a_{(js)}} =0$.\n",
        "\n",
        "The major difference from the fully connected layer is that the weights are shared for multiple features. In this case, the gradient is calculated by adding all the shared errors. For branching on the calculation graph, the error should be added at the time of backpropagation."
      ],
      "metadata": {
        "id": "Fa_FZdYGOn1h"
      }
    },
    {
      "cell_type": "code",
      "source": [],
      "metadata": {
        "id": "AC1ugONRRwMS"
      },
      "execution_count": 99,
      "outputs": []
    },
    {
      "cell_type": "code",
      "execution_count": 100,
      "metadata": {
        "id": "sTjZ44l1QsZh"
      },
      "outputs": [],
      "source": [
        "class CNN_1d:\n",
        "    def __init__(self, p=0, s=1):\n",
        "        self.padding = p\n",
        "        self.stride = s\n",
        "\n",
        "    def forward(self, X, filter_size):\n",
        "        self.X = X\n",
        "        self.input_size = len(X)\n",
        "        self.filter_size = filter_size\n",
        "        self.W = np.random.randint(-2,2,3)\n",
        "        self.B = np.array([1])\n",
        "        # If the input is two-dimensional, calculate HW respectively\n",
        "        self.output_size = ((self.input_size + self.p*2 - self.filter_size) / self.stride) + 1\n",
        "\n",
        "\n",
        "\n",
        "    def backward(self):\n",
        "        pass"
      ]
    },
    {
      "cell_type": "code",
      "execution_count": 101,
      "metadata": {
        "colab": {
          "base_uri": "https://localhost:8080/"
        },
        "id": "9FzsEk8NReR1",
        "outputId": "f43c4085-992a-4c3e-d20c-c74374a9f98a"
      },
      "outputs": [
        {
          "output_type": "stream",
          "name": "stdout",
          "text": [
            "[6 4 2 5 7 9 4 7 5 1]\n",
            "[ 0 -2  0]\n"
          ]
        }
      ],
      "source": [
        "XX = np.random.randint(0, 10, 10)\n",
        "ww = np.random.randint(-2,2, 3)\n",
        "print(XX)\n",
        "print(ww)"
      ]
    },
    {
      "cell_type": "markdown",
      "source": [
        "# [Problem 2] Output size calculation after one-dimensional convolution\n",
        "When the convolution is performed, the number of features will change. How it changes can be calculated from the following formula. It also includes padding and stride. Create a function to do this calculation.\n"
      ],
      "metadata": {
        "id": "UJTNoaA-5eZx"
      }
    },
    {
      "cell_type": "code",
      "execution_count": 102,
      "metadata": {
        "id": "nrwBFRphRiD-"
      },
      "outputs": [],
      "source": [
        "def calc_out_shape(Nin, F, P=0, S=1):\n",
        "    out = ((Nin + 2*P - F) / S ) + 1\n",
        "    return out"
      ]
    },
    {
      "cell_type": "markdown",
      "metadata": {
        "id": "1lwx-ETRTC3H"
      },
      "source": [
        "#[Problem 3] Experiment of one-dimensional convolutional layer with small array"
      ]
    },
    {
      "cell_type": "markdown",
      "source": [
        "# Implementation ideas\n",
        "When implementing convolution, you can first stack for statements. However, in order to make the calculation as efficient as possible, we will consider a method to calculate the following formulas at once.\n",
        "\n",
        "This is the dot product of an array of w and an array from which a portion of x is taken. Considering the specific situation, we can calculate it with the following code. In this example, to make the flow easier to understand, the Adamant product is calculated between each element, and then the sum is calculated. This is consequently similar to the dot product."
      ],
      "metadata": {
        "id": "N9OYKQQ86PDU"
      }
    },
    {
      "cell_type": "code",
      "execution_count": 103,
      "metadata": {
        "colab": {
          "base_uri": "https://localhost:8080/"
        },
        "id": "n8Gm_uaLS-gq",
        "outputId": "e0817507-539a-43f6-da49-cba1513844b0"
      },
      "outputs": [
        {
          "output_type": "execute_result",
          "data": {
            "text/plain": [
              "array([34., 49.])"
            ]
          },
          "metadata": {},
          "execution_count": 103
        }
      ],
      "source": [
        "# Samples\n",
        "x = np.array([1, 2, 3, 4])\n",
        "y = np.array([45,70])\n",
        "w = np.array([3, 5, 7])\n",
        "a = np.empty((2, 3))\n",
        "indexes0 = np.array([0, 1, 2]).astype(np.int64)\n",
        "indexes1 = np.array([1, 2, 3]).astype(np.int64)\n",
        "a[0] = x[indexes0]*w # x[indexes0]は([1, 2, 3])である\n",
        "a[1] = x[indexes1]*w # x[indexes1]は([2, 3, 4])である\n",
        "a = a.sum(axis=1)\n",
        "a"
      ]
    },
    {
      "cell_type": "code",
      "execution_count": 104,
      "metadata": {
        "id": "NxIH-gImTcaZ"
      },
      "outputs": [],
      "source": [
        "def Forward(X, W, B=1, P=0, S=1):\n",
        "\n",
        "    lenX = X.shape[0]\n",
        "    lenW = W.shape[0]\n",
        "\n",
        "    Nout = lenX - lenW +1\n",
        "\n",
        "    index_list = np.zeros((Nout, lenW)).astype(np.int64)\n",
        "\n",
        "    for i in range(Nout):\n",
        "        index_list[i] = (np.arange(i, lenW + i ))\n",
        "\n",
        "    output = np.dot(X[index_list], W) + B\n",
        "\n",
        "    return output\n",
        "\n",
        "def cross_entropy_loss(pred, label):\n",
        "    return label - pred\n",
        "\n",
        "def backward(lr, X, W, loss):\n",
        "    lenX = X.shape[0]\n",
        "    lenW = W.shape[0]\n",
        "\n",
        "    Nout = lenX - lenW +1\n",
        "\n",
        "    index_list = np.zeros((Nout, lenW)).astype(np.int64)\n",
        "\n",
        "    for i in range(Nout):\n",
        "        index_list[i] = (np.arange(i, lenW + i ))\n",
        "\n",
        "\n",
        "    dB = np.sum(loss)\n",
        "    dW = np.dot(loss, X[index_list])\n",
        "\n",
        "    dX = np.zeros((lenX,))\n",
        "    for i,index in enumerate(index_list):\n",
        "        dX[index] += loss[i] * W\n",
        "        print(dX)\n",
        "\n",
        "\n",
        "    #print(dX)\n",
        "    return dW, dB, dX"
      ]
    },
    {
      "cell_type": "code",
      "execution_count": 105,
      "metadata": {
        "colab": {
          "base_uri": "https://localhost:8080/"
        },
        "id": "dX8MFFEaUjRE",
        "outputId": "e88a7242-9fbd-43b1-cbfe-e52b27a7a2b1"
      },
      "outputs": [
        {
          "output_type": "stream",
          "name": "stdout",
          "text": [
            "[30. 50. 70.  0.]\n",
            "[ 30. 110. 170. 140.]\n"
          ]
        }
      ],
      "source": [
        "pred = Forward(x,w)\n",
        "loss = cross_entropy_loss(pred, y)\n",
        "dW, dB, dX = backward(0.01,x,w,loss)"
      ]
    },
    {
      "cell_type": "code",
      "execution_count": 106,
      "metadata": {
        "colab": {
          "base_uri": "https://localhost:8080/"
        },
        "id": "fqZp5Ye6dsqK",
        "outputId": "7cee0422-f589-4000-b116-0df7671c279b"
      },
      "outputs": [
        {
          "output_type": "stream",
          "name": "stdout",
          "text": [
            "forward_result : [35 50]\n",
            "loss : [10 20]\n",
            "backward_result\n",
            "delta_b : 30\n",
            "delta_w : [ 50  80 110]\n",
            "delta_x : [ 30. 110. 170. 140.]\n"
          ]
        }
      ],
      "source": [
        "print(\"forward_result : {}\".format(pred))\n",
        "print(\"loss : {}\".format(loss))\n",
        "print(\"backward_result\")\n",
        "print(\"delta_b : {}\".format(dB))\n",
        "print(\"delta_w : {}\".format(dW))\n",
        "print(\"delta_x : {}\".format(dX))"
      ]
    },
    {
      "cell_type": "markdown",
      "source": [
        "# [Problem 4] Creating a one-dimensional convolutional layer class that does not limit the number of channels\n",
        "\n",
        "Create 1-dimensional convolutional layer class Conv1d that does not limit the number of channels to 1.\n",
        "\n",
        "For example, if you have the following x, w, b,"
      ],
      "metadata": {
        "id": "mmgw98bO6nyq"
      }
    },
    {
      "cell_type": "code",
      "execution_count": 107,
      "metadata": {
        "id": "jmodGCRkfeuU"
      },
      "outputs": [],
      "source": [
        "xx = np.array([[1, 2, 3, 4], [2, 3, 4, 5]])\n",
        "ww = np.ones((3, 2, 3))\n",
        "bb = np.array([1, 2, 3])"
      ]
    },
    {
      "cell_type": "code",
      "execution_count": 108,
      "metadata": {
        "id": "B6c6GU7jZKD9"
      },
      "outputs": [],
      "source": [
        "class CNN1d:\n",
        "    def __init__(self,W, B, stride=1, pad=0):\n",
        "        self.W = W\n",
        "        self.B = B\n",
        "        self.stride = stride\n",
        "        self.pad = pad\n",
        "\n",
        "    def forward(self, X):\n",
        "        print(X.shape)\n",
        "        self.FN, self.C, self.FS = self.W.shape\n",
        "        self.C, self.S = X.shape\n",
        "        #print(self.F, self.FS)\n",
        "        self.Nout = int(((self.S + 2*self.pad - self.FS) / self.stride) + 1)\n",
        "        self.reW= self.W.reshape(self.FN,-1).T\n",
        "        print(self.reW)\n",
        "        print(\"reWのshape:\\n{}\".format(self.reW.shape))\n",
        "        self.output = np.zeros((self.S,self.Nout))\n",
        "        self.openX = np.zeros((self.Nout,self.FN*self.C))\n",
        "        self.index_list = np.zeros((self.Nout, self.FN)).astype(np.int64)\n",
        "        for i in range(self.Nout):\n",
        "            self.index_list[i] = np.arange(i, self.FN + i )\n",
        "        print(\"test\")\n",
        "        print(self.openX[:,self.index_list[0]])\n",
        "        print(X[0])\n",
        "        for k,v in enumerate(self.index_list):\n",
        "            for k2,v2 in enumerate(X):\n",
        "                #print(k,v,k2,v2)\n",
        "                if k2 == 0:\n",
        "                    self.openX[k][v - k] = v2[v]\n",
        "                elif k2 == 1:\n",
        "                    self.openX[k][v + len(v) - k] = v2[v]\n",
        "                else:\n",
        "                    self.openX[k][v + len(v)*k2 - k] = v2[v]\n",
        "\n",
        "        print(self.openX)\n",
        "\n",
        "        self.output = np.dot(self.openX, self.reW) + self.B\n",
        "\n",
        "\n",
        "        return self.output.T\n",
        "\n",
        "\n",
        "    def cross_entropy_loss(self, pred, label):\n",
        "        return label - pred\n",
        "\n",
        "    def backward(self, X, W, loss):\n",
        "        dB = np.sum(loss)\n",
        "        dW = np.dot(loss,self.openX).reshape(self.W.shape)\n",
        "        dX = np.zeros(X.shape)\n",
        "\n",
        "        calc = np.dot(self.W.T, loss).T\n",
        "        for k,v in enumerate(self.index_list):\n",
        "            dX[:,v] += calc[k]\n",
        "\n",
        "        return dW, dB, dX"
      ]
    },
    {
      "cell_type": "code",
      "execution_count": 109,
      "metadata": {
        "colab": {
          "base_uri": "https://localhost:8080/"
        },
        "id": "rtLcLn9YZuBF",
        "outputId": "2bdf0f4d-1b5f-4f96-8764-6e8293340b9e"
      },
      "outputs": [
        {
          "output_type": "stream",
          "name": "stdout",
          "text": [
            "(2, 4)\n",
            "[[1. 1. 1.]\n",
            " [1. 1. 1.]\n",
            " [1. 1. 1.]\n",
            " [1. 1. 1.]\n",
            " [1. 1. 1.]\n",
            " [1. 1. 1.]]\n",
            "reWのshape:\n",
            "(6, 3)\n",
            "test\n",
            "[[0. 0. 0.]\n",
            " [0. 0. 0.]]\n",
            "[1 2 3 4]\n",
            "[[1. 2. 3. 2. 3. 4.]\n",
            " [2. 3. 4. 3. 4. 5.]]\n",
            "[[16. 22.]\n",
            " [17. 23.]\n",
            " [18. 24.]]\n"
          ]
        },
        {
          "output_type": "execute_result",
          "data": {
            "text/plain": [
              "(array([[[ 60.,  98., 136.],\n",
              "         [ 98., 136., 174.]],\n",
              " \n",
              "        [[ 63., 103., 143.],\n",
              "         [103., 143., 183.]],\n",
              " \n",
              "        [[ 66., 108., 150.],\n",
              "         [108., 150., 192.]]]),\n",
              " np.float64(120.0),\n",
              " array([[ 51., 120., 120.,  69.],\n",
              "        [ 51., 120., 120.,  69.]]))"
            ]
          },
          "metadata": {},
          "execution_count": 109
        }
      ],
      "source": [
        "trap = CNN1d(ww,bb)\n",
        "dA = trap.forward(xx)\n",
        "print(dA)\n",
        "dW, dB, dX = trap.backward(xx,ww,dA)\n",
        "dW, dB, dX"
      ]
    },
    {
      "cell_type": "markdown",
      "source": [
        "# [Problem 5] (Advanced task) Implementing padding\n",
        "Add padding functionality to the convolutional layer. In the case of a one-dimensional array, make sure that n features can be increased before and after.\n",
        "\n",
        "The simplest padding is zero padding, which is all zeros, which is common on CNNs. Another method is to repeat the end value.\n",
        "\n",
        "Some frameworks can be specified to keep the size of the original input. It is convenient to have this function as well. There is a padding function in NumPy."
      ],
      "metadata": {
        "id": "HYwXYHyB61iH"
      }
    },
    {
      "cell_type": "code",
      "execution_count": 110,
      "metadata": {
        "id": "SnXeOxL7aXAU"
      },
      "outputs": [],
      "source": [
        "# permutation\n",
        "def _padding(X, n):\n",
        "    return np.pad(X, [(0,0), (n,n), (n,n)])\n",
        "\n",
        "# For back propagation\n",
        "def _padding_rm(X, n):\n",
        "    return X[:, n:-n, n:-n]"
      ]
    },
    {
      "cell_type": "code",
      "execution_count": 111,
      "metadata": {
        "colab": {
          "base_uri": "https://localhost:8080/"
        },
        "id": "DiCgzJNVcUD_",
        "outputId": "a57cff7b-0382-4379-d8c2-c5d3a78d34c2"
      },
      "outputs": [
        {
          "output_type": "stream",
          "name": "stdout",
          "text": [
            "[[[ 0  1  2  3  4]\n",
            "  [ 5  6  7  8  9]\n",
            "  [10 11 12 13 14]\n",
            "  [15 16 17 18 19]\n",
            "  [20 21 22 23 24]\n",
            "  [25 26 27 28 29]]]\n",
            "[[[ 0  0  0  0  0  0  0  0  0  0  0]\n",
            "  [ 0  0  0  0  0  0  0  0  0  0  0]\n",
            "  [ 0  0  0  0  0  0  0  0  0  0  0]\n",
            "  [ 0  0  0  0  1  2  3  4  0  0  0]\n",
            "  [ 0  0  0  5  6  7  8  9  0  0  0]\n",
            "  [ 0  0  0 10 11 12 13 14  0  0  0]\n",
            "  [ 0  0  0 15 16 17 18 19  0  0  0]\n",
            "  [ 0  0  0 20 21 22 23 24  0  0  0]\n",
            "  [ 0  0  0 25 26 27 28 29  0  0  0]\n",
            "  [ 0  0  0  0  0  0  0  0  0  0  0]\n",
            "  [ 0  0  0  0  0  0  0  0  0  0  0]\n",
            "  [ 0  0  0  0  0  0  0  0  0  0  0]]]\n",
            "[[[ 0  1  2  3  4]\n",
            "  [ 5  6  7  8  9]\n",
            "  [10 11 12 13 14]\n",
            "  [15 16 17 18 19]\n",
            "  [20 21 22 23 24]\n",
            "  [25 26 27 28 29]]]\n"
          ]
        }
      ],
      "source": [
        "X = np.arange(30).reshape(1,6,5)\n",
        "n = 3\n",
        "print(X)\n",
        "X_ = _padding(X, n)\n",
        "print(X_)\n",
        "X_ = _padding_rm(X_, n)\n",
        "print(X_)"
      ]
    },
    {
      "cell_type": "markdown",
      "source": [
        "# [Problem 6] (Advanced task) Response to mini batch\n",
        "So far, we have assumed that a batch size of 1 is sufficient for the task. However, in reality, mini-batch learning is performed as in the fully connected layer. Change the Conv1d class so that multiple data can be calculated at the same time."
      ],
      "metadata": {
        "id": "zOlodgip62la"
      }
    },
    {
      "cell_type": "code",
      "execution_count": 112,
      "metadata": {
        "id": "28AIY-E3d2Oi"
      },
      "outputs": [],
      "source": [
        "class GetMiniBatch:\n",
        "    \"\"\"\n",
        "    Iterator to retrieve the mini-batch\n",
        "\n",
        "    Parameters\n",
        "    ----------\n",
        "    X : ndarray of the following form, shape (n_samples, n_features)\n",
        "      Training data\n",
        "    y : ndarray of the following form, shape (n_samples, 1)\n",
        "      The correct answer value\n",
        "    batch_size : int\n",
        "      batch size\n",
        "    seed : int\n",
        "      Seed of random number in NumPy\n",
        "    \"\"\"\n",
        "    def __init__(self, X, y, batch_size = 20, seed=0):\n",
        "        self.batch_size = batch_size\n",
        "        np.random.seed(seed)\n",
        "        shuffle_index = np.random.permutation(np.arange(X.shape[0]))\n",
        "        self._X = X[shuffle_index]\n",
        "        self._y = y[shuffle_index]\n",
        "        self._stop = np.ceil(X.shape[0]/self.batch_size).astype(np.int64)\n",
        "    def __len__(self):\n",
        "        return self._stop\n",
        "    def __getitem__(self,item):\n",
        "        p0 = item*self.batch_size\n",
        "        p1 = item*self.batch_size + self.batch_size\n",
        "        return self._X[p0:p1], self._y[p0:p1]\n",
        "    def __iter__(self):\n",
        "        self._counter = 0\n",
        "        return self\n",
        "    def __next__(self):\n",
        "        if self._counter >= self._stop:\n",
        "            raise StopIteration()\n",
        "        p0 = self._counter*self.batch_size\n",
        "        p1 = self._counter*self.batch_size + self.batch_size\n",
        "        self._counter += 1\n",
        "        return self._X[p0:p1], self._y[p0:p1]"
      ]
    },
    {
      "cell_type": "code",
      "execution_count": 113,
      "metadata": {
        "id": "LMQBaUdifF_3"
      },
      "outputs": [],
      "source": [
        "# Functions in the Conv1d class\n",
        "def _convolve(X, k, P, S):\n",
        "    \"\"\"\n",
        "    Cyclic operation\n",
        "\n",
        "    Parameters\n",
        "    ----------\n",
        "    X : ndarray of the following form, shape (N, C, L)\n",
        "      the matrix to be traversed\n",
        "    k : ndarray of the following form, shape (F, C, Lf)\n",
        "      the matrix to be traversed\n",
        "    \"\"\"\n",
        "    L = X.shape[-1]\n",
        "    Lf = k.shape[-1]\n",
        "    Lo = self._output_size(L, Lf, P, S)\n",
        "    pad = int(L - Lf)\n",
        "    k_pad = np.pad(k, [(0,0), (0,0), (0, pad)])\n",
        "    X_flat = X.reshape(len(X), -1)\n",
        "    k_flat = k_pad.flatten()\n",
        "    first_col = np.r_[k_flat[0], np.zeros(S * (Lo-1))]\n",
        "    first_row = k_flat\n",
        "    toep = linalg.toeplitz(first_col, first_row)\n",
        "    toep_ = toep[::S]\n",
        "    toep_reorder = np.vstack(np.split(toep_, len(k), axis=1))\n",
        "    output = toep_reorder@X_flat.T\n",
        "\n",
        "    return output.T.reshape(len(X), len(k), Lo)"
      ]
    },
    {
      "cell_type": "markdown",
      "source": [
        "# [Problem 7] (Advance assignment) Arbitrary number of strides\n",
        "We have implemented only one stride, but please make sure to support any number of strides."
      ],
      "metadata": {
        "id": "fRddxnEu65sx"
      }
    },
    {
      "cell_type": "code",
      "execution_count": 114,
      "metadata": {
        "id": "QpI18ZQJfX_o"
      },
      "outputs": [],
      "source": [
        "def convolve(X, k, P, S):\n",
        "    L = X.shape[-1]\n",
        "    Lf = k.shape[-1]\n",
        "    Lo = int((L + 2*P - Lf) / S + 1)\n",
        "    pad = int(L - Lf)\n",
        "    k_pad = np.pad(k, [(0,0), (0,0), (0, pad)])\n",
        "    X_flat = X.reshape(len(X), -1)\n",
        "    k_flat = k_pad.flatten()\n",
        "    first_col = np.r_[k_flat[0], np.zeros(S*(Lo-1))]\n",
        "    first_row = k_flat\n",
        "    toep = linalg.toeplitz(first_col, first_row)\n",
        "    toep = toep[::S]\n",
        "    toep_reorder = np.vstack(np.split(toep, len(k), axis=1))\n",
        "    output = toep_reorder@X_flat.T\n",
        "\n",
        "    return output.T.reshape(len(X), len(k), Lo)"
      ]
    },
    {
      "cell_type": "code",
      "execution_count": 115,
      "metadata": {
        "colab": {
          "base_uri": "https://localhost:8080/"
        },
        "id": "AZpPJJN9fhdb",
        "outputId": "51c238a9-1cf5-48ee-e048-d2de627bb24b"
      },
      "outputs": [
        {
          "output_type": "stream",
          "name": "stdout",
          "text": [
            "[[[0 1 2 3 4 5]]]\n",
            "[[[0 1]]]\n",
            "2\n",
            "0\n",
            "[[[1. 3. 5.]]]\n"
          ]
        }
      ],
      "source": [
        "import numpy as np\n",
        "from numpy import array\n",
        "from scipy import linalg\n",
        "X = np.arange(6).reshape(1,1,6) # N,C,L\n",
        "w = np.arange(2).reshape(1,1,2) # F,C,Lf\n",
        "S = 2\n",
        "P = 0\n",
        "print(X)\n",
        "print(w)\n",
        "print(S)\n",
        "print(P)\n",
        "\n",
        "Z = convolve(X, w, P, S)\n",
        "print(Z)"
      ]
    },
    {
      "cell_type": "code",
      "execution_count": 116,
      "metadata": {
        "colab": {
          "base_uri": "https://localhost:8080/"
        },
        "id": "APvpmB7bfnar",
        "outputId": "04b67d8e-053c-4bf5-9bac-057a8d012c82"
      },
      "outputs": [
        {
          "output_type": "stream",
          "name": "stdout",
          "text": [
            "[[[26. 35.]]]\n",
            "[[[0. 1. 0. 3. 0. 5.]]]\n"
          ]
        }
      ],
      "source": [
        "# Example: Back propagation (S=2)\n",
        "dA = Z\n",
        "Z = X\n",
        "\n",
        "w_ = np.transpose(w, (1,0,2))\n",
        "w_ = np.flip(w_)\n",
        "N, F, Lo = dA.shape\n",
        "dA_dil = np.zeros((N, F, S*Lo-S+1))\n",
        "dA_dil[... ,::S] = dA\n",
        "\n",
        "pad = w.shape[-1] - 1\n",
        "dA_pad = np.pad(dA_dil, [(0,0), (0,0), (pad, pad)])\n",
        "dZ_ = convolve(dA_pad, w_, 0, 1)\n",
        "Z_ = np.transpose(Z, (1,0,2))\n",
        "dA_ = np.transpose(dA_dil, (1,0,2))\n",
        "dw_ = np.transpose(convolve(Z_, dA_, 0, 1), (1,0,2))\n",
        "print(dw_)\n",
        "print(dZ_)"
      ]
    },
    {
      "cell_type": "markdown",
      "metadata": {
        "id": "dKipm8avb1jC"
      },
      "source": [
        "# [Problem 8] Learning and estimation\n",
        "Replace Conv1d in part of the fully connected layer of the neural network you have used so far, learn and estimate MNIST, and calculate Accuracy.\n",
        "\n",
        "Use the fully connected layer as is for the output layer. However, when there are multiple channels, input to the fully coupled layer cannot be performed. At that stage, the channel should be set to 1, or smoothing should be performed.\n",
        "\n",
        "The accuracy does not matter because one-dimensional convolution of the image is not performed in practice.\n",
        "\n",
        "- shape (2, 4), (number of input channels, number of features).\n",
        "\n",
        "The shape (3, 2) is (number of output channels, number of features).\n",
        "\n",
        "x [indexes0] is ([1, 2, 3])\n",
        "\n",
        "x[indexes1] is ([2, 3, 4])"
      ]
    },
    {
      "cell_type": "code",
      "execution_count": 117,
      "metadata": {
        "id": "KWQv9CMjf541"
      },
      "outputs": [],
      "source": [
        "import time\n",
        "\n",
        "class SGD:\n",
        "    def __init__(self):\n",
        "        pass\n",
        "\n",
        "    def update_dw(self, layer, grad):\n",
        "        return grad / layer.input.shape[0]\n",
        "\n",
        "    def update_db(self, layer, grad):\n",
        "        return grad / layer.input.shape[0]\n",
        "\n",
        "\n",
        "class AdaGrad:\n",
        "    def __init__(self):\n",
        "        self.Hw = 1e-8\n",
        "        self.Hb = 1e-8\n",
        "\n",
        "    def update_dw(self, layer, grad):\n",
        "        self.Hw += (grad/layer.input.shape[0])**2\n",
        "        grad *= (1/np.sqrt(self.Hw)) / layer.input.shape[0]\n",
        "\n",
        "        return grad\n",
        "\n",
        "    def update_db(self, layer, grad):\n",
        "        self.Hb += (grad/layer.input.shape[0])**2\n",
        "        grad *= (1/np.sqrt(self.Hb)) / layer.input.shape[0]\n",
        "\n",
        "        return grad\n",
        "\n",
        "\n",
        "class Conv1d:\n",
        "    def __init__(self, pad='SAME', stride=1):\n",
        "        self.pad = pad\n",
        "        self.stride = stride\n",
        "        self.A_ = None\n",
        "        self.dZ_ = None\n",
        "        self.dw_ = None\n",
        "        self.db_ = None\n",
        "\n",
        "    def forward(self, Z, w, b):\n",
        "        # Define various shapes and parameters\n",
        "        L = Z.shape[-1]\n",
        "        Lf = w.shape[-1]\n",
        "        S = self.stride\n",
        "\n",
        "        # Padding process\n",
        "        if self.pad == 'SAME':\n",
        "            if L % S == 0:\n",
        "                P = int((Lf - S) / 2)\n",
        "            else:\n",
        "                P = int((Lf - L%S) / 2)\n",
        "            Z = self._padding(Z, P)\n",
        "        elif self.pad == 'VALID':\n",
        "            P = 0\n",
        "        self.P = P\n",
        "\n",
        "        self.A_ = self._convolve(Z, w, P, S) + b.reshape(1, len(b), 1)  # A(N,F,Lo)\n",
        "\n",
        "        return self.A_\n",
        "\n",
        "    def backward(self, Z, w, dA):\n",
        "        S = self.stride\n",
        "\n",
        "        # dZ calculation\n",
        "        # transpose the matrix (leaving N and C) to perform the operation on each channel\n",
        "        w_ = np.transpose(w, (1,0,2)) # w(F,C,Lf) → w(C,F,Lf)\n",
        "        w_ = np.flip(w_) # flip up/down/left/right\n",
        "        # dilate dA\n",
        "        N, F, Lo = dA.shape\n",
        "        dA_dil = np.zeros((N, F, S*Lo-S+1)) # prepare dilation matrix\n",
        "        dA_dil[... ,::S] = dA\n",
        "        # padding dA_dil\n",
        "        pad = w.shape[-1] - 1\n",
        "        dA_pad = np.pad(dA_dil, [(0,0), (0,0), (pad, pad)]) # padding only L dimension\n",
        "        # Cyclic operation\n",
        "        dZ_ = self._convolve(dA_pad, w_, 0, 1) # dZ(N,C,L)\n",
        "        # Padding removal\n",
        "        if self.P == 0:\n",
        "            self.dZ_ = dZ_\n",
        "        else:\n",
        "            self.dZ_ = self._padding_rm(dZ_, self.P)\n",
        "\n",
        "        # dw calculation\n",
        "        # transpose the matrices to perform the operation on each filter (leaving F and C)\n",
        "        Z_ = np.transpose(Z, (1,0,2)) # Z(N,C,L) → Z(C,N,L)\n",
        "        dA_ = np.transpose(dA_dil, (1,0,2)) # dA(N,F,Lo) → dA(F,N,Lo)\n",
        "        self.dw_ = np.transpose(self._convolve(Z_, dA_, self.P, 1), (1,0,2)) # dw(C,F,Lf) → dw(F,C,Lf)\n",
        "\n",
        "        # db calculation\n",
        "        # sum over all dimensions except F\n",
        "        self.db_ = np.sum(dA, axis=(0,2)) # db(F)\n",
        "\n",
        "        return self.dZ_, self.dw_, self.db_\n",
        "\n",
        "    def _output_size(self, L, Lf, P, S):\n",
        "        Lo = (L + 2*P - Lf) / S + 1\n",
        "        return int(Lo)\n",
        "\n",
        "    def _padding(self, X, n):\n",
        "        # for forward propagation\n",
        "        return np.pad(X, [(0,0), (0,0), (n,n)])\n",
        "\n",
        "    def _padding_rm(self, X, n):\n",
        "        # for back propagation\n",
        "        return X[... , n:-n]\n",
        "\n",
        "    def _convolve(self, X, k, P, S):\n",
        "        L = X.shape[-1]\n",
        "        Lf = k.shape[-1]\n",
        "        Lo = self._output_size(L, Lf, P, S)\n",
        "\n",
        "        # Generate w for Teplitz\n",
        "        pad = int(L - Lf) # adjust the length of k to X\n",
        "        k_pad = np.pad(k, [(0,0), (0,0), (0, pad)]) # k(F,C,Lf) → k(F,C,L)\n",
        "        # Dimensionality reduction\n",
        "        X_flat = X.reshape(len(X), -1) # X(N,C,L) → X(N,CL)\n",
        "        k_flat = k_pad.flatten() # k(F,C,L) → k(FCL)\n",
        "        # generate the Teplitz matrix\n",
        "        first_col = np.r_[k_flat[0], np.zeros(S * (Lo-1))] # first column of Teplitz\n",
        "        first_row = k_flat # first row of Teplitz\n",
        "        toep = linalg.toeplitz(first_col, first_row) # toep(Lo,FLC)\n",
        "        # Get only the row corresponding to the stride\n",
        "        toep = toep[::S]\n",
        "        # Block the matrix for each filter and recombine vertically\n",
        "        toep_reorder = np.vstack(np.split(toep, len(k), axis=1)) #toep(FLo,LC)\n",
        "        # matrix operation\n",
        "        output = toep_reorder@X_flat.T  # out(FLo,N)\n",
        "\n",
        "        return output.T.reshape(len(X), len(k), Lo)  # out(N,F,Lo)\n",
        "\n",
        "\n",
        "class Linear:\n",
        "    def __init__(self):\n",
        "        self.A_ = None\n",
        "        self.dZ_ = None\n",
        "        self.dw_ = None\n",
        "        self.db_ = None\n",
        "\n",
        "    def forward(self, Z, w, b):\n",
        "        self.A_ = Z @ w + b\n",
        "\n",
        "        return self.A_\n",
        "\n",
        "    def backward(self, Z, w, dA):\n",
        "        self.dZ_ = dA @ w.T\n",
        "        self.dw_ = Z.T @ dA\n",
        "        self.db_ = np.sum(dA, axis=0)\n",
        "\n",
        "        return self.dZ_, self.dw_, self.db_\n",
        "\n",
        "\n",
        "class Sigmoid:\n",
        "    def __init__(self):\n",
        "        self.Z_ = None\n",
        "        self.dA_ = None\n",
        "\n",
        "    def forward(self, A):\n",
        "        self.Z_ = 1 / (1+np.exp(-A))\n",
        "\n",
        "        return self.Z_\n",
        "\n",
        "    def backward(self, dZ):\n",
        "        self.dA_ = dZ * ((1 - self.Z_) * self.Z_)\n",
        "\n",
        "        return self.dA_\n",
        "\n",
        "\n",
        "class Tanh:\n",
        "    def __init__(self):\n",
        "        self.Z_ = None\n",
        "        self.dA_ = None\n",
        "\n",
        "    def forward(self, A):\n",
        "        self.Z_ = np.tanh(A)\n",
        "\n",
        "        return self.Z_\n",
        "\n",
        "    def backward(self, dZ):\n",
        "        self.dA_ = dZ * (1 - self.Z_**2)\n",
        "\n",
        "        return self.dA_\n",
        "\n",
        "\n",
        "class ReLu:\n",
        "    def __init__(self):\n",
        "        self.Z_ = None\n",
        "        self.dA_ = None\n",
        "\n",
        "    def forward(self, A):\n",
        "        self.Z_ = np.maximum(A, 0)\n",
        "\n",
        "        return self.Z_\n",
        "\n",
        "    def backward(self, dZ):\n",
        "        self.dA_ = dZ * np.where(self.Z_ > 0, 1, 0)\n",
        "\n",
        "        return self.dA_\n",
        "\n",
        "\n",
        "class Softmax:\n",
        "    def forward(self, A):\n",
        "        # ✅ per-row max for stability\n",
        "        C = np.max(A, axis=1, keepdims=True)\n",
        "        expA = np.exp(A - C)\n",
        "        self.Z_ = expA / np.sum(expA, axis=1, keepdims=True)\n",
        "        return self.Z_\n",
        "\n",
        "    def backward(self, y):\n",
        "        # y is one-hot (dense)\n",
        "        return self.Z_ - y\n",
        "\n",
        "    def forward(self, A):\n",
        "        # Subtraction of constants to prevent overflow\n",
        "        C = np.max(A)\n",
        "        self.Z_ = np.exp(A - C) / np.sum(np.exp(A - C), axis=1)[:, None]\n",
        "\n",
        "        return self.Z_\n",
        "\n",
        "\n",
        "class Flatten:\n",
        "    def __init__(self):\n",
        "        self.shape = None\n",
        "\n",
        "    def forward(self, X):\n",
        "        self.X_shape = X.shape\n",
        "        return X.reshape(X.shape[0], -1)     # (B, 1, 784) -> (B, 784)\n",
        "    def backward(self, dY):\n",
        "        return dY.reshape(self.X_shape)\n",
        "\n",
        "\n",
        "\n",
        "class SimpleInitializer:\n",
        "    def __init__(self, sigma):\n",
        "        self.sigma = sigma\n",
        "\n",
        "    def W(self, shape_self):\n",
        "        W = self.sigma * np.random.standard_normal(shape_self)\n",
        "        return W\n",
        "\n",
        "    def B(self, shape_self):\n",
        "        B = np.random.randn(n_nodes_self)\n",
        "        return B\n",
        "\n",
        "\n",
        "class XavierInitializer:\n",
        "    def __init__(self):\n",
        "        self.sigma = None\n",
        "\n",
        "    def W(self, n_nodes_prev, shape_self):\n",
        "        self.sigma = 1 / np.sqrt(np.prod(n_nodes_prev))\n",
        "\n",
        "        W = self.sigma * np.random.standard_normal(shape_self)  # Use standard_normal which can take a tuple as an argument\n",
        "        return W\n",
        "\n",
        "    def B(self, shape_self):\n",
        "        B = np.random.standard_normal(shape_self)\n",
        "        return B\n",
        "\n",
        "\n",
        "class HeInitializer:\n",
        "    def __init__(self):\n",
        "        self.sigma = None\n",
        "\n",
        "    def W(self, n_nodes_prev, shape_self):\n",
        "        self.sigma = np.sqrt(2/np.prod(n_nodes_prev))\n",
        "\n",
        "        W = self.sigma * np.random.standard_normal(shape_self)  # Use standard_normal which can take a tuple as an argument\n",
        "        return W\n",
        "\n",
        "    def B(self, shape_self):\n",
        "        B = np.random.standard_normal(shape_self)\n",
        "        return B\n",
        "\n",
        "\n",
        "class GetMiniBatch:\n",
        "    \"\"\"\n",
        "    Iterator to retrieve the mini-batch\n",
        "\n",
        "    Parameters\n",
        "    ----------\n",
        "    X : ndarray of the following form, shape (n_samples, n_features)\n",
        "      Training data\n",
        "    y : ndarray of the following form, shape (n_samples, 1)\n",
        "      The correct answer value\n",
        "    batch_size : int\n",
        "      batch size\n",
        "    seed : int\n",
        "      Seed of random number in NumPy\n",
        "    \"\"\"\n",
        "    def __init__(self, X, y, batch_size = 20, seed=0):\n",
        "        self.batch_size = batch_size\n",
        "        np.random.seed(seed)\n",
        "        shuffle_index = np.random.permutation(np.arange(X.shape[0]))\n",
        "        self._X = X[shuffle_index]\n",
        "        self._y = y[shuffle_index]\n",
        "        self._stop = np.ceil(X.shape[0]/self.batch_size).astype(np.int64)\n",
        "    def __len__(self):\n",
        "        return self._stop\n",
        "    def __getitem__(self,item):\n",
        "        p0 = item*self.batch_size\n",
        "        p1 = item*self.batch_size + self.batch_size\n",
        "        return self._X[p0:p1], self._y[p0:p1]\n",
        "    def __iter__(self):\n",
        "        self._counter = 0\n",
        "        return self\n",
        "    def __next__(self):\n",
        "        if self._counter >= self._stop:\n",
        "            raise StopIteration()\n",
        "        p0 = self._counter*self.batch_size\n",
        "        p1 = self._counter*self.batch_size + self.batch_size\n",
        "        self._counter += 1\n",
        "        return self._X[p0:p1], self._y[p0:p1]\n",
        "\n",
        "\n",
        "class Layer:\n",
        "    def __init__(self, combination, activation,\n",
        "                 initializer=None, optimizer=None, n_nodes_prev=None, w_shape=None, b_shape=None):\n",
        "        self.comb = combination\n",
        "        self.activ = activation\n",
        "        self.initializer = initializer # Use the initializer method to initialize self.W and self.B\n",
        "        self.optimizer = optimizer\n",
        "        self.n_nodes_prev = n_nodes_prev\n",
        "        self.w_shape = w_shape\n",
        "        self.b_shape = b_shape\n",
        "        self.input = None\n",
        "        self.output = None\n",
        "        self.prev = None\n",
        "        self.next = None\n",
        "\n",
        "        if self.initializer:\n",
        "            self.w = self.initializer.W(self.n_nodes_prev, self.w_shape)\n",
        "            self.b = self.initializer.B(self.b_shape)\n",
        "\n",
        "    def forward(self, X):\n",
        "        if self.comb:\n",
        "            A = self.comb.forward(X, self.w, self.b)\n",
        "            Z = self.activ.forward(A)\n",
        "\n",
        "        else:\n",
        "            Z = self.activ.forward(X)\n",
        "\n",
        "        self.input = X\n",
        "        self.output = Z\n",
        "\n",
        "        if self.next:\n",
        "            return self.next.forward(Z)\n",
        "        else:\n",
        "            return Z\n",
        "\n",
        "    def backward(self, y, lr):\n",
        "        if self.comb:\n",
        "            dA = self.activ.backward(y)\n",
        "            dZ, dw, db = self.comb.backward(self.input, self.w, dA)\n",
        "\n",
        "            # Parameter update\n",
        "            self.w -= lr * self.optimizer.update_dw(self, dw)\n",
        "            self.b -= lr * self.optimizer.update_db(self, db)\n",
        "\n",
        "        else:\n",
        "            dZ = self.activ.backward(y)\n",
        "\n",
        "        if self.prev:\n",
        "            self.prev.backward(dZ, lr)\n",
        "        else:\n",
        "            pass\n",
        "\n",
        "\n",
        "class Scratch1dCNNClassifier:\n",
        "    def __init__(self, layers, epoch=100, sigma=0.1, lr=0.01, batch_size=100, verbose=False, **kwargs):\n",
        "        self.layers = layers\n",
        "        self.epoch = epoch\n",
        "        self.lr = lr\n",
        "        self.sigma = sigma\n",
        "        self.verbose = verbose\n",
        "        self.batch_size = batch_size\n",
        "        self.loss_train = []\n",
        "        self.loss_val = []\n",
        "\n",
        "    def _connect_layers(self, layers):\n",
        "        for i, layer in enumerate(layers):\n",
        "\n",
        "            if i == 0:\n",
        "                layer.next = self.layers[i+1]\n",
        "\n",
        "            elif layer == self.layers[-1]:\n",
        "                layer.prev = self.layers[i-1]\n",
        "\n",
        "            else:\n",
        "                layer.next = self.layers[i+1]\n",
        "                layer.prev = self.layers[i-1]\n",
        "\n",
        "    def fit(self, X, y, X_val=None, y_val=None):\n",
        "        # Create a layer instance\n",
        "        self._connect_layers(self.layers)\n",
        "\n",
        "        for i in range(self.epoch):\n",
        "\n",
        "            get_mini_batch_t = GetMiniBatch(X, y, batch_size=self.batch_size, seed=i)\n",
        "\n",
        "            times = []\n",
        "            start = time.time()\n",
        "\n",
        "            # List of losses for each mini batch\n",
        "            loss_batch_t = []\n",
        "\n",
        "            for X_mini, y_mini in get_mini_batch_t:\n",
        "\n",
        "                # Forward propagation\n",
        "                output = self.layers[0].forward(X_mini)\n",
        "                # Back propagation\n",
        "                self.layers[-1].backward(y_mini, self.lr)\n",
        "\n",
        "                loss_batch_t.append(self.cross_entropy(output, y_mini))\n",
        "\n",
        "            # Store the average loss for each epoch in self\n",
        "            loss_train = np.mean(loss_batch_t)\n",
        "            self.loss_train.append(loss_train)\n",
        "\n",
        "\n",
        "            # Estimation of validation data\n",
        "            if hasattr(X_val, '__array__') and hasattr(y_val, '__array__'):\n",
        "\n",
        "                batch_size_v = int(self.batch_size * len(X_val)/len(X))\n",
        "                get_mini_batch_v = GetMiniBatch(X_val, y_val, batch_size=batch_size_v)\n",
        "                loss_batch_v = []\n",
        "\n",
        "                for X_mini, y_mini in get_mini_batch_v:\n",
        "\n",
        "                    output = self.layers[0].forward(X_mini)\n",
        "\n",
        "                    loss_batch_v.append(self.cross_entropy(output, y_mini))\n",
        "\n",
        "                # Store the average loss for each epoch in self\n",
        "                loss_val = np.mean(loss_batch_v)\n",
        "                self.loss_val.append(loss_val)\n",
        "\n",
        "            end = time.time()\n",
        "            times.append(end-start)\n",
        "\n",
        "            # Output of learning progress\n",
        "            if self.verbose:\n",
        "                print(\"Epoch {}: Train Loss {:.4f}, Val Loss {:.4f}\".format(i+1, loss_train, loss_val),\n",
        "                      \" --{:.4f}sec\".format(np.mean(times)))\n",
        "\n",
        "    def predict(self, X):\n",
        "        output = self.layers[0].forward(X)\n",
        "\n",
        "        return np.argmax(output, axis=1)\n",
        "\n",
        "    def cross_entropy(self, probs, y):\n",
        "        eps = 1e-12\n",
        "        # probs are outputs of softmax\n",
        "        return -np.mean(np.sum(y * np.log(probs + eps), axis=1))"
      ]
    },
    {
      "cell_type": "code",
      "execution_count": 118,
      "metadata": {
        "id": "-bQd-zI4gbUa"
      },
      "outputs": [],
      "source": [
        "from keras.datasets import mnist\n",
        "from sklearn.preprocessing import OneHotEncoder\n",
        "from sklearn.model_selection import train_test_split\n",
        "from sklearn.metrics import accuracy_score\n",
        "\n",
        "#Code to download the dataset\n",
        "(X_train, y_train), (X_test, y_test) = mnist.load_data()\n",
        "# Smoothing data\n",
        "X_train = X_train.reshape(-1, 784)\n",
        "X_test = X_test.reshape(-1, 784)\n",
        "# Standardise on X\n",
        "X_train = X_train.astype(np.float64)\n",
        "X_test = X_test.astype(np.float64)\n",
        "X_train /= 255\n",
        "X_test /= 255\n",
        "# ytoone-hot encode\n",
        "enc = OneHotEncoder(handle_unknown='ignore')\n",
        "y_train_one_hot = enc.fit_transform(y_train[:, np.newaxis]).toarray()  # ✅ make dense\n",
        "\n",
        "# Split data\n",
        "X_train, X_val, y_train, y_val = train_test_split(X_train, y_train_one_hot, test_size=0.2, random_state=42)\n",
        "# Converting features to 3D\n",
        "X_train = X_train[:, None, :]\n",
        "X_val = X_val[:, None, :]\n",
        "X_test = X_test[:, None, :]"
      ]
    },
    {
      "cell_type": "code",
      "execution_count": 119,
      "metadata": {
        "id": "YehgLLXxxd_g"
      },
      "outputs": [],
      "source": [
        "def plot_loss(model, title='Scratch CNN Loss'):\n",
        "    plt.figure()\n",
        "\n",
        "    plt.plot(np.arange(len(model.loss_train)), model.loss_train, label='train loss')\n",
        "    plt.plot(np.arange(len(model.loss_val)), model.loss_val, label='val loss')\n",
        "    plt.title(title)\n",
        "    plt.xlabel(\"Epoch\")\n",
        "    plt.ylabel(\"Loss\")\n",
        "    plt.legend()\n",
        "\n",
        "    plt.show()"
      ]
    },
    {
      "cell_type": "code",
      "execution_count": 120,
      "metadata": {
        "colab": {
          "base_uri": "https://localhost:8080/",
          "height": 750
        },
        "id": "4z5FoQnc3u4p",
        "outputId": "c6919a42-e3e6-4714-c451-36588b355471"
      },
      "outputs": [
        {
          "output_type": "stream",
          "name": "stdout",
          "text": [
            "(48000, 1, 784)\n",
            "(48000, 10)\n",
            "(12000, 1, 784)\n",
            "(12000, 10)\n",
            "Epoch 1: Train Loss 2.3144, Val Loss 2.3057  --73.1538sec\n",
            "Epoch 2: Train Loss 2.3034, Val Loss 2.3022  --49.3094sec\n",
            "Epoch 3: Train Loss 2.3031, Val Loss 2.3025  --45.3225sec\n",
            "Epoch 4: Train Loss 2.3027, Val Loss 2.3029  --45.8736sec\n",
            "Epoch 5: Train Loss 2.3023, Val Loss 2.3029  --47.9170sec\n",
            "Epoch 6: Train Loss 2.3024, Val Loss 2.3017  --47.3603sec\n",
            "Epoch 7: Train Loss 2.3019, Val Loss 2.3023  --45.1008sec\n",
            "Epoch 8: Train Loss 2.3020, Val Loss 2.3020  --44.8134sec\n",
            "Epoch 9: Train Loss 2.3018, Val Loss 2.3020  --48.5607sec\n",
            "Epoch 10: Train Loss 2.3019, Val Loss 2.3023  --46.1270sec\n",
            "\n",
            "Test Accuracy: 0.1135\n"
          ]
        },
        {
          "output_type": "display_data",
          "data": {
            "text/plain": [
              "<Figure size 640x480 with 1 Axes>"
            ],
            "image/png": "[encoded data removed]"
          },
          "metadata": {}
        }
      ],
      "source": [
        "# Setting of hyperparameters w(F,C,Lf) b(F)\n",
        "W1 = (4, 1, 6);  B1 = (4,)\n",
        "W2 = (8, 4, 6);  B2 = (8,)\n",
        "W3 = (16, 8, 3); B3 = (16,)\n",
        "W4 = (752, 188); B4 = (188,)\n",
        "W5 = (188, 10);  B5 = (10,)\n",
        "\n",
        "# 5-layer network\n",
        "layer_1 = Layer(Conv1d(pad='SAME', stride=4), ReLu(), HeInitializer(), AdaGrad(), 784, W1, B1)  # 1,784 to 4,196\n",
        "layer_2 = Layer(Conv1d(pad='SAME', stride=4), ReLu(), HeInitializer(), AdaGrad(), 4*196, W2, B2)  # 4,196 to 8,49\n",
        "layer_3 = Layer(Conv1d(pad='VALID', stride=1), ReLu(), HeInitializer(), AdaGrad(), 8*49, W3, B3)  # 8,49 to 16,47\n",
        "layer_4 = Layer(None, Flatten())  # 16,47 to 752,\n",
        "layer_5 = Layer(Linear(), Sigmoid(), XavierInitializer(), AdaGrad(), 752, W4, B4)  # 752, to 188,\n",
        "output = Layer(Linear(), Softmax(), XavierInitializer(), AdaGrad(), 188, W5, B5)  # 188, to 10,\n",
        "\n",
        "params = {'epoch': 10,\n",
        "          'lr': 0.01,\n",
        "          'batch_size': 200,\n",
        "          }\n",
        "\n",
        "cnn = Scratch1dCNNClassifier(layers=[layer_1, layer_2, layer_3, layer_4, layer_5, output],\n",
        "                             verbose=True, **params)\n",
        "\n",
        "print(X_train.shape)\n",
        "print(y_train.shape)\n",
        "print(X_val.shape)\n",
        "print(y_val.shape)\n",
        "\n",
        "cnn.fit(X_train, y_train, X_val, y_val)\n",
        "\n",
        "pred = cnn.predict(X_test)\n",
        "\n",
        "print(\"\\nTest Accuracy: {}\".format(accuracy_score(y_test, pred)))\n",
        "\n",
        "plot_loss(cnn)"
      ]
    },
    {
      "cell_type": "code",
      "execution_count": 121,
      "metadata": {
        "colab": {
          "base_uri": "https://localhost:8080/",
          "height": 669
        },
        "id": "UNCDXqlv6HLA",
        "outputId": "4fd6ad2b-31c0-4afd-8dad-f4f7b9558f78"
      },
      "outputs": [
        {
          "output_type": "display_data",
          "data": {
            "text/plain": [
              "<Figure size 800x800 with 20 Axes>"
            ],
            "image/png": "[encoded data removed]"
          },
          "metadata": {}
        }
      ],
      "source": [
        "# Check estimation results\n",
        "plt.figure(figsize=(8,8))\n",
        "for i in range(20):\n",
        "    pred = cnn.predict(X_test[i][None,...])\n",
        "    true = y_test[i]\n",
        "    plt.subplot(4, 5, i+1)\n",
        "    plt.imshow(X_test[i].reshape(28,28), 'gray')\n",
        "    plt.title('pred {} \\ntrue [{}]'.format(pred, true), y=-0.45)\n",
        "    plt.axis('off')"
      ]
    }
  ],
  "metadata": {
    "colab": {
      "provenance": []
    },
    "kernelspec": {
      "display_name": "Python 3 (ipykernel)",
      "language": "python",
      "name": "python3"
    },
    "language_info": {
      "codemirror_mode": {
        "name": "ipython",
        "version": 3
      },
      "file_extension": ".py",
      "mimetype": "text/x-python",
      "name": "python",
      "nbconvert_exporter": "python",
      "pygments_lexer": "ipython3",
      "version": "3.12.7"
    }
  },
  "nbformat": 4,
  "nbformat_minor": 0
}