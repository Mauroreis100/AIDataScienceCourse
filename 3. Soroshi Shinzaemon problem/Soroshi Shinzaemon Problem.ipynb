{
 "cells": [
  {
   "cell_type": "markdown",
   "id": "991465d9-bee7-4c4e-8e5d-6bc4dac3fd1d",
   "metadata": {},
   "source": [
    "# Soroshi Shinzaemon problem\n",
    "\n",
    "There is an anecdote about Soro Shinzaemon that is similar to the story about folding a piece of paper to reach the moon in the \"Let's try using Python\" problem. We will proceed with programming based on this.\n",
    "\n",
    "> When Hideyoshi offered him a reward, Shinzaemon was asked what he would like to receive, and he asked for one grain of rice today, two grains the next day, four grains the day after that, and so on, doubling the amount of rice each day for 100 days. Thinking that a grain of rice would be no big deal, Hideyoshi readily agreed, but realized halfway through that doubling the amount of rice each day would result in a huge amount of rice after 100 days, so he had the reward changed to something else.\n",
    "\n",
    "[Sorori Shinzaemon - Wikipedia(Last viewed on May 23, 2019)](https://ja.wikipedia.org/wiki/%E6%9B%BD%E5%91%82%E5%88%A9%E6%96%B0%E5%B7%A6%E8%A1%9B%E9%96%80)\n"
   ]
  },
  {
   "cell_type": "markdown",
   "id": "82272e03-5511-41b1-af10-6694659b74ad",
   "metadata": {},
   "source": [
    "## [Problem 1] Number of grains of rice on the 100th day"
   ]
  },
  {
   "cell_type": "markdown",
   "id": "af4ecc8e-994f-43c6-8f48-5f6c86d12054",
   "metadata": {},
   "source": [
    "Create a code to calculate how many grains of rice you receive in total on the 100th day, and output the answer. Also, use a line graph to represent the change in the number of rice grains you receive on that day and the total number of rice grains you receive by that day from day 1 to day 100. (The vertical axis is the number of rice and the horizontal axis is the number of days)"
   ]
  },
  {
   "cell_type": "code",
   "execution_count": 77,
   "id": "07ece550-a82a-44ad-a07d-4636115c6906",
   "metadata": {},
   "outputs": [
    {
     "name": "stdout",
     "output_type": "stream",
     "text": [
      "[1, 2, 4, 8, 16, 32, 64, 128, 256, 512, 1024, 2048, 4096, 8192, 16384, 32768, 65536, 131072, 262144, 524288, 1048576, 2097152, 4194304, 8388608, 16777216, 33554432, 67108864, 134217728, 268435456, 536870912, 1073741824, 2147483648, 4294967296, 8589934592, 17179869184, 34359738368, 68719476736, 137438953472, 274877906944, 549755813888, 1099511627776, 2199023255552, 4398046511104, 8796093022208, 17592186044416, 35184372088832, 70368744177664, 140737488355328, 281474976710656, 562949953421312, 1125899906842624, 2251799813685248, 4503599627370496, 9007199254740992, 18014398509481984, 36028797018963968, 72057594037927936, 144115188075855872, 288230376151711744, 576460752303423488, 1152921504606846976, 2305843009213693952, 4611686018427387904, 9223372036854775808, 18446744073709551616, 36893488147419103232, 73786976294838206464, 147573952589676412928, 295147905179352825856, 590295810358705651712, 1180591620717411303424, 2361183241434822606848, 4722366482869645213696, 9444732965739290427392, 18889465931478580854784, 37778931862957161709568, 75557863725914323419136, 151115727451828646838272, 302231454903657293676544, 604462909807314587353088, 1208925819614629174706176, 2417851639229258349412352, 4835703278458516698824704, 9671406556917033397649408, 19342813113834066795298816, 38685626227668133590597632, 77371252455336267181195264, 154742504910672534362390528, 309485009821345068724781056, 618970019642690137449562112, 1237940039285380274899124224, 2475880078570760549798248448, 4951760157141521099596496896, 9903520314283042199192993792, 19807040628566084398385987584, 39614081257132168796771975168, 79228162514264337593543950336, 158456325028528675187087900672, 316912650057057350374175801344, 633825300114114700748351602688]\n"
     ]
    }
   ],
   "source": [
    "num_days=100 # Number of days\n",
    "grains=[1] #Array with 1 grain representing the 1st day\n",
    "\n",
    "def duplicate_grain(number): #Function to duplicate a number\n",
    "    return number*2\n",
    "    \n",
    "for x in range (num_days-1):\n",
    "        grains.append(duplicate_grain(grains[-1]))\n",
    "    \n",
    "print(grains)"
   ]
  },
  {
   "cell_type": "code",
   "execution_count": 75,
   "id": "3b5f4efa-fbad-4cb1-9eb8-46bfc52e215d",
   "metadata": {},
   "outputs": [
    {
     "data": {
      "image/png": "[encoded data removed]",
      "text/plain": [
       "<Figure size 640x480 with 1 Axes>"
      ]
     },
     "metadata": {},
     "output_type": "display_data"
    }
   ],
   "source": [
    "import matplotlib.pyplot as plt\n",
    "%matplotlib inline\n",
    "\n",
    "# Display the graph. Title and axis label name.\n",
    "plt.title(\"Days X Rice\")\n",
    "plt.xlabel(\"number of days\")\n",
    "plt.ylabel(\"number of grains of rice\")\n",
    "plt.ylim(1,100)\n",
    "plt.xlim(1,100)\n",
    "plt.plot(grains,'o')\n",
    "\n",
    "#plt.plot(grains)  # Enter the variable name of the list in \"List name\"\n",
    "plt.show()\n",
    "# Remember to ask the collegues how did they get a better graph for this "
   ]
  },
  {
   "cell_type": "markdown",
   "id": "cc9650e6-b26d-4961-9d00-e9628b801efb",
   "metadata": {},
   "source": [
    "## [Problem 2] Number of rice grains outside of the 100th day (NOT FINISHED)"
   ]
  },
  {
   "cell_type": "markdown",
   "id": "71660a30-aab9-4707-8092-1938f6340f31",
   "metadata": {},
   "source": [
    "The number of days in this anecdote is ambiguous, such as 30 days or 81 days. Let's create a function that takes days as an argument so that it can handle any story. After creating the function, please answer how many rice grains you will receive in the number of days you take the course. Please output the line graph as well as problem 1.\n",
    "\n",
    "The following template contains not only the framework as a function, but also comments on arguments and return values. Please refer to it and rewrite the comments in a way that is easy for you to understand."
   ]
  },
  {
   "cell_type": "code",
   "execution_count": 10,
   "id": "a1399878-5f81-47a2-bbd2-1b9f600c9216",
   "metadata": {},
   "outputs": [
    {
     "name": "stdout",
     "output_type": "stream",
     "text": [
      "[1, 2, 4, 8, 16, 32, 64, 128, 256, 512]\n"
     ]
    }
   ],
   "source": [
    "def compute_sorori_shinzaemon(n_days=100):\n",
    "    list_n_grains=[1] #Array with 1 grain representing the 1st day\n",
    "    number=1\n",
    "    for x in range (n_days-1):\n",
    "        number=number*2\n",
    "        list_n_grains.append(number)\n",
    "     # Write the code here. pass is an instruction that means do nothing.\n",
    "    pass\n",
    "    return list_n_grains\n",
    "\n",
    "    \n",
    "list_n_grains = compute_sorori_shinzaemon(n_days=10)\n",
    "print(list_n_grains)"
   ]
  },
  {
   "cell_type": "markdown",
   "id": "3a59cffb-e278-4abc-810d-da61c2750c4e",
   "metadata": {},
   "source": [
    "## 【Problem 3] How many people can live for how many days with the rice we get? (NOT FINISHED)\n"
   ]
  },
  {
   "cell_type": "markdown",
   "id": "33840eba-f106-46be-b3ea-071f670476e7",
   "metadata": {},
   "source": [
    "Create a function to calculate how many people can live for how many days with this rice. Output how many days the number of people in this class can live with the grains of rice they receive for the duration of the course.\n",
    "\n",
    "The minimum input for the function is the number of rice grains (int) and the number of people(int), and the output is the number of days to live (int). Please make sure that the function name and comments are easy to understand.\n",
    "\n",
    "The number of grains of rice needed per day is not provided here. Please do your own research and put it into a formula. Please leave a comment on how you did your research and what you used as your basis."
   ]
  },
  {
   "cell_type": "code",
   "execution_count": null,
   "id": "563d7079-2ebe-4beb-96b3-843b7180080b",
   "metadata": {},
   "outputs": [],
   "source": []
  }
 ],
 "metadata": {
  "kernelspec": {
   "display_name": "Python 3 (ipykernel)",
   "language": "python",
   "name": "python3"
  },
  "language_info": {
   "codemirror_mode": {
    "name": "ipython",
    "version": 3
   },
   "file_extension": ".py",
   "mimetype": "text/x-python",
   "name": "python",
   "nbconvert_exporter": "python",
   "pygments_lexer": "ipython3",
   "version": "3.10.12"
  }
 },
 "nbformat": 4,
 "nbformat_minor": 5
}
