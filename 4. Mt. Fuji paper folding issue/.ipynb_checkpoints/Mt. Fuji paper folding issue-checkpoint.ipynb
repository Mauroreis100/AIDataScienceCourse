{
 "cells": [
  {
   "cell_type": "markdown",
   "id": "8cca7eb2-a8b4-4b14-b3ec-407272a2aa40",
   "metadata": {},
   "source": [
    "# Mt. Fuji paper folding issue"
   ]
  },
  {
   "cell_type": "markdown",
   "id": "0b284324-0f94-4bf9-bd34-eb85ad06254b",
   "metadata": {},
   "source": [
    "How many times to fold paper to exceed the height of Mt.Fuji?\n",
    "We will implement a program to calculate the thickness of a sheet of paper when folded 43 times, and confirmed that the paper would reach the moon if folded 43 times.\n",
    "\n",
    "Now, let's implement a program that calculates \"how many times to fold to get the desired thickness.\""
   ]
  },
  {
   "cell_type": "markdown",
   "id": "134e530d-fb97-48fe-abc5-ce424cc080ae",
   "metadata": {},
   "source": [
    "When the thickness of the paper folded $n$ time is $t_{n}$, it can be expressed as follows.\n",
    "Formula:\n",
    "$ t_ {n} $ =$t_{0}\n",
    "​ ​\n",
    "*\n",
    "​ ​\n",
    "2^n $\n",
    "\n",
    "Since the thickness of a typical copy paper is approximately 0.00008m, set $ t_ {0} = 0.00008$.\n"
   ]
  },
  {
   "cell_type": "markdown",
   "id": "adf01a5c-2f08-46fb-a79f-22af39848c63",
   "metadata": {},
   "source": [
    "## [Problem 1] How many times to fold paper to exceed the height of Mt.Fuji?\n",
    "Create a program that calculates the minimum number of times to fold the paper required for the thickness to exceed the \"height of Mt. Fuji (3776m)\"."
   ]
  },
  {
   "cell_type": "code",
   "execution_count": 19,
   "id": "21265e4f-aa40-450e-ac7d-38e036dbe6ea",
   "metadata": {},
   "outputs": [
    {
     "name": "stdout",
     "output_type": "stream",
     "text": [
      "You need to fold the paper a minimum of 26 times to fold the paper to exceed the height of Mt. Fuji\n",
      "5368.70912 m\n"
     ]
    }
   ],
   "source": [
    "t0=0.00008\n",
    "fuji_height=3776\n",
    "tn=0\n",
    "n=1\n",
    "while(tn<fuji_height):\n",
    "    tn=t0*2**n\n",
    "    n=n+1\n",
    "print(\"You need to fold the paper a minimum of\",n-1,\"times to fold the paper to exceed the height of Mt. Fuji\")\n",
    "print(tn,\"m\")\n"
   ]
  },
  {
   "cell_type": "markdown",
   "id": "225075f5-0c64-4338-b119-7d16b0accc97",
   "metadata": {},
   "source": [
    "## [Problem 2] Function corresponding to arbitrary thickness\n",
    "Implement a function that, given a height input, would output the minimum number of paper folds required to exceed it. Let's make it possible to set the thickness $t_{0}$ before folding as an argument.\n",
    "\n",
    "Using this function, calculate how many times you would need to fold a piece of paper to reach the nearest non-sun star.\n",
    "The nearest non-sun star is Proxima Centauri, which is about $4.0175 \\times 10^{16}$m away from Earth."
   ]
  },
  {
   "cell_type": "code",
   "execution_count": 32,
   "id": "2f612252-c361-4031-9412-e74e6c9a13da",
   "metadata": {},
   "outputs": [
    {
     "name": "stdin",
     "output_type": "stream",
     "text": [
      "Set To thickness in meters:  2\n"
     ]
    },
    {
     "name": "stdout",
     "output_type": "stream",
     "text": [
      "You need a total  55 folds of a piece of paper with a thickness of 2 m to reach the nearest non-sun star is Proxima Centauri\n"
     ]
    }
   ],
   "source": [
    "to=eval(input(\"Set To thickness of the paper in meters: \"))\n",
    "#height=eval(input(\"Set height in meters or press ENTER for the nearest non-sun star is Proxima Centauri: \"))\n",
    "\n",
    "def function(paper_thickness,height=40175000000000000):\n",
    "    tn=0\n",
    "    n=1\n",
    "    while(tn<height):\n",
    "        tn=paper_thickness*2**n\n",
    "        n=n+1\n",
    "    return n-1\n",
    "print(\"You need a total \", function(to),\"folds of a piece of paper with a thickness of\",to,\"m to exceed the nearest non-sun star is Proxima Centauri\")"
   ]
  },
  {
   "cell_type": "markdown",
   "id": "8cbe95a3-a732-4485-b39c-66110ad8bb85",
   "metadata": {},
   "source": [
    "## [Problem 3] Required paper length (NOT FINISHED)\n",
    "\n",
    "In fact, the paper around us cannot be folded 10 times, let alone 43 times. However, the larger the paper, the more it can be folded. There is a formula for finding the number of times a long piece of paper, such as toilet paper, can be folded when considering folding it in one direction.\n",
    "\n",
    "The length of paper L required to fold a $t_{0}$ thick paper n times can be obtained by the following formula.\n",
    "\n",
    "$L = \\frac{\\pi t}{6} (2^n + 4)(2^n - 1)$\n",
    "\n",
    "where *L* is the minimum length of the paper (or other material), *t* is the material's thickness, and *n* is the number of folds possible.\n",
    "\n",
    "Use this formula to implement a function that finds the length of paper needed to actually fold the paper and reach any thickness.\n",
    "\n",
    "Then use this to find out the length of paper needed to reach the Moon, Mt. Fuji, and the stars closest to the Sun.\n",
    "\n",
    "[How many times can you fold a sheet of paper?](https://www.mathscareers.org.uk/how-many-times-can-you-fold-a-sheet-of-paper/)\n",
    " \n",
    "[Gallivan’s Equation Wikipedia](https://en.wikipedia.org/wiki/Mathematics_of_paper_folding#Britney_Gallivan:~:text=%5B9%5D-,Related%20problems,-%5Bedit%5D)"
   ]
  },
  {
   "cell_type": "code",
   "execution_count": 37,
   "id": "bc961e2f-faeb-4260-9444-25a18cf29d19",
   "metadata": {},
   "outputs": [
    {
     "name": "stdout",
     "output_type": "stream",
     "text": [
      "63267917.127688415\n"
     ]
    }
   ],
   "source": [
    "import math\n",
    "# L = is the minimum length of the paper (or other material), \n",
    "# t is the material's thickness, and \n",
    "# n is the number of folds possible.\n",
    "\n",
    "def required_paper_length(n,t):\n",
    "    return ((math.pi*t)/6)*(((2**n)+4)*((2**n)+1))\n",
    "print(required_paper_length(14,0.45))"
   ]
  },
  {
   "cell_type": "code",
   "execution_count": null,
   "id": "de586369-cf1d-4bea-a990-d208ca2756a7",
   "metadata": {},
   "outputs": [],
   "source": []
  }
 ],
 "metadata": {
  "kernelspec": {
   "display_name": "Python 3 (ipykernel)",
   "language": "python",
   "name": "python3"
  },
  "language_info": {
   "codemirror_mode": {
    "name": "ipython",
    "version": 3
   },
   "file_extension": ".py",
   "mimetype": "text/x-python",
   "name": "python",
   "nbconvert_exporter": "python",
   "pygments_lexer": "ipython3",
   "version": "3.10.12"
  }
 },
 "nbformat": 4,
 "nbformat_minor": 5
}
