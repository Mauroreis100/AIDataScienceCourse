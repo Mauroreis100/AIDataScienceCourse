{
 "cells": [
  {
   "cell_type": "markdown",
   "id": "cb1c3d0d-ef53-47a2-a88d-f1504468ac2a",
   "metadata": {},
   "source": [
    "# Wheat and chess board problem"
   ]
  },
  {
   "cell_type": "markdown",
   "id": "7fd38eff-8100-4371-ba76-7e92eb086832",
   "metadata": {},
   "source": [
    "Similar to the rice story of Soroshi Shinzaemon, there is the story of wheat and chess board. With this as a theme, we will familiarize ourselves with the use of NumPy , a numerical library for handling multi-dimensional arrays.\n",
    "\n",
    "If a chessboard were to have wheat placed upon each square such that one grain were placed on the first square, two on the second, four on the third, and so on (doubling the number of grains on each subsequent square), how many grains of wheat would be on the chessboard at the finish?\n",
    "\n",
    "[Wheat and chessboard problem-Wikipedia (Last viewed: May 31, 2019)](https://en.wikipedia.org/wiki/Wheat_and_chessboard_problem)\n",
    "\n",
    "The problem is to find the final number of wheat grains on an 8x8 chessboard by placing them in the order 1, 2, 4."
   ]
  },
  {
   "cell_type": "markdown",
   "id": "95e5e373-123d-4cce-908b-6c4dbbf2dbf3",
   "metadata": {},
   "source": [
    "First, consider arranging the wheat grains on a 4 square plate. One element of the array (list) is regarded as one cell.\n",
    "\n",
    "You can use a Python list and a for statement to do the following:"
   ]
  },
  {
   "cell_type": "code",
   "execution_count": 2,
   "id": "2804240e-fcbf-4c6e-bfe5-7c1c2ea8861b",
   "metadata": {},
   "outputs": [
    {
     "name": "stdout",
     "output_type": "stream",
     "text": [
      "Arrange wheat on a plate of 4 squares (list)：[1, 2, 4, 8]\n"
     ]
    }
   ],
   "source": [
    "n_squares = 4\n",
    "small_board_list = [1]\n",
    "for _ in range(n_squares - 1):\n",
    "    small_board_list.append(2*small_board_list[-1])\n",
    "print(\"Arrange wheat on a plate of 4 squares (list)：{}\".format(small_board_list))"
   ]
  },
  {
   "cell_type": "code",
   "execution_count": 11,
   "id": "91466da4-333b-4756-9840-398a925c4597",
   "metadata": {},
   "outputs": [
    {
     "name": "stdout",
     "output_type": "stream",
     "text": [
      "Arrange wheat on a plate of 4 squares (ndarray)：[1 2 4 8]\n"
     ]
    }
   ],
   "source": [
    "import numpy as np\n",
    "\n",
    "small_board_ndarray = np.array(small_board_list)\n",
    "print(\"Arrange wheat on a plate of 4 squares (ndarray)：{}\".format(small_board_ndarray))"
   ]
  },
  {
   "cell_type": "markdown",
   "id": "7b6c6827-e332-470e-a200-0cbdc1e0da95",
   "metadata": {},
   "source": [
    "# [Problem 1] Number of wheat on a 2 x 2 square chess board\n",
    "\n",
    "Represent a 2 x 2 square chessboard by ndarray and calculate the number of wheat in each square. After placing one wheat on the upper left square, proceed to two to the right, four to the lower left, and eight to the lower right.\n",
    "\n",
    "Please modify the shape of the ndarray created with the sample code."
   ]
  },
  {
   "cell_type": "code",
   "execution_count": 13,
   "id": "e225f913-fb9f-4779-b103-dd0dc817afab",
   "metadata": {},
   "outputs": [
    {
     "name": "stdout",
     "output_type": "stream",
     "text": [
      "[[1 2]\n",
      " [4 8]]\n"
     ]
    }
   ],
   "source": [
    "two_by_two=small_board_ndarray.reshape(2, 2)\n",
    "print(two_by_two)"
   ]
  },
  {
   "cell_type": "markdown",
   "id": "6be9fa79-cfbe-4528-b3e2-740290c884f7",
   "metadata": {},
   "source": [
    "# [Problem 2] Expansion to n × m mass\n",
    "Create a function that returns a ndarray containing the number of wheat on an nxm chess board. Then use this function to find the number of wheat on the 8x8 square chess board."
   ]
  },
  {
   "cell_type": "code",
   "execution_count": 66,
   "id": "a8ab4ef5-55c6-4d28-a7f5-9f62a0679edb",
   "metadata": {},
   "outputs": [
    {
     "name": "stdout",
     "output_type": "stream",
     "text": [
      "(array([[1.00000000e+00, 2.00000000e+00, 4.00000000e+00, 8.00000000e+00,\n",
      "        1.60000000e+01, 3.20000000e+01, 6.40000000e+01, 1.28000000e+02],\n",
      "       [2.56000000e+02, 5.12000000e+02, 1.02400000e+03, 2.04800000e+03,\n",
      "        4.09600000e+03, 8.19200000e+03, 1.63840000e+04, 3.27680000e+04],\n",
      "       [6.55360000e+04, 1.31072000e+05, 2.62144000e+05, 5.24288000e+05,\n",
      "        1.04857600e+06, 2.09715200e+06, 4.19430400e+06, 8.38860800e+06],\n",
      "       [1.67772160e+07, 3.35544320e+07, 6.71088640e+07, 1.34217728e+08,\n",
      "        2.68435456e+08, 5.36870912e+08, 1.07374182e+09, 2.14748365e+09],\n",
      "       [4.29496730e+09, 8.58993459e+09, 1.71798692e+10, 3.43597384e+10,\n",
      "        6.87194767e+10, 1.37438953e+11, 2.74877907e+11, 5.49755814e+11],\n",
      "       [1.09951163e+12, 2.19902326e+12, 4.39804651e+12, 8.79609302e+12,\n",
      "        1.75921860e+13, 3.51843721e+13, 7.03687442e+13, 1.40737488e+14],\n",
      "       [2.81474977e+14, 5.62949953e+14, 1.12589991e+15, 2.25179981e+15,\n",
      "        4.50359963e+15, 9.00719925e+15, 1.80143985e+16, 3.60287970e+16],\n",
      "       [7.20575940e+16, 1.44115188e+17, 2.88230376e+17, 5.76460752e+17,\n",
      "        1.15292150e+18, 2.30584301e+18, 4.61168602e+18, 9.22337204e+18]]), np.float64(1.8446744073709552e+19))\n"
     ]
    }
   ],
   "source": [
    "import numpy as np\n",
    "import sys\n",
    "def nXm(n,m):\n",
    "    squares=n*m\n",
    "    sum_wheat=2**(n*m)\n",
    "    last_square=[1]\n",
    "    counter=1\n",
    "    while counter<(squares):\n",
    "        last_square.append(last_square[-1]*2)\n",
    "        counter=counter+1\n",
    "    board_ndarray = np.array(last_square)\n",
    "    board_ndarray=board_ndarray.reshape(n, m)\n",
    "    return board_ndarray, np.sum(board_ndarray)\n",
    "\n",
    "print(nXm(8,8))\n",
    "\n",
    "    "
   ]
  },
  {
   "cell_type": "markdown",
   "id": "c32d883d-0266-4509-9ddd-adc7d4809726",
   "metadata": {},
   "source": [
    "# [Problem 3] Total number of wheat\n",
    "\n",
    "Find the total number of wheat on a chess board of 8 x 8 squares. Also, find the average of each column and visualize it in a bar chart.\n"
   ]
  },
  {
   "cell_type": "code",
   "execution_count": 90,
   "id": "4b51aeda-d15f-4348-a151-b96c9af5485f",
   "metadata": {},
   "outputs": [
    {
     "name": "stdout",
     "output_type": "stream",
     "text": [
      "The total of wheat on a chess board of 8 x 8 squares is 1.8446744073709552e+19\n",
      "[3.18750000e+01 8.16000000e+03 2.08896000e+06 5.34773760e+08\n",
      " 1.36902083e+11 3.50469331e+13 8.97201488e+15 2.29683581e+18]\n",
      "[ 1  2  3  3  4  5  6  7 10]\n"
     ]
    },
    {
     "data": {
      "image/png": "[encoded data removed]",
      "text/plain": [
       "<Figure size 640x480 with 1 Axes>"
      ]
     },
     "metadata": {},
     "output_type": "display_data"
    }
   ],
   "source": [
    "import matplotlib.pyplot as plt\n",
    "%matplotlib inline\n",
    "narrayBoard, sum_array = nXm(8, 8)\n",
    "print(\"The total of wheat on a chess board of 8 x 8 squares is\", sum_array)\n",
    "plt.xlabel(\"column\")\n",
    "plt.ylabel(\"average\")\n",
    "plt.title(\"number in each column\")\n",
    "print(np.mean(narrayBoard,axis=1))\n",
    "print(np.array([1, 2, 3,3,4,5,6,7,10]))\n",
    "plt.bar(np.array([1,2,3,4,5,6,7,8]), np.mean(narrayBoard,axis=1))\n",
    "plt.show()"
   ]
  },
  {
   "cell_type": "markdown",
   "id": "f53d9ea5-f881-4ca2-a89e-bf465ea6ff58",
   "metadata": {},
   "source": [
    "# [Problem 4] Heat map of the number of wheat\n",
    "\n",
    "Visualize the number of wheat on the 8x8 chess board as a heat map.\n",
    "\n",
    "Sample code is prepared for the heat map.\n",
    "\n",
    "<Heatmap sample code>\n",
    "\n",
    "This is a 4-by-2 array of heat maps. Small values are purple and large values are yellow."
   ]
  },
  {
   "cell_type": "code",
   "execution_count": 92,
   "id": "739f7ee0-8bd7-4ad2-94ae-24c6181b00b7",
   "metadata": {},
   "outputs": [
    {
     "data": {
      "image/png": "[encoded data removed]",
      "text/plain": [
       "<Figure size 640x480 with 1 Axes>"
      ]
     },
     "metadata": {},
     "output_type": "display_data"
    }
   ],
   "source": [
    "plt.xlabel(\"column\")\n",
    "plt.ylabel(\"row\")\n",
    "plt.title(\"heatmap\")\n",
    "plt.pcolor(narrayBoard)\n",
    "plt.show()"
   ]
  },
  {
   "cell_type": "markdown",
   "id": "8ecb1e03-ca76-4133-8569-11dbb3996e83",
   "metadata": {},
   "source": [
    "# The second half of the chess board\n",
    "The American inventor Ray Kurzweil quoted this anecdote and coined the phrase \"the second half of the chessboard. It tells us that technological progress may not have a noticeable impact on society in the beginning, but as it progresses, doubling and doubling, it will cause rapid changes when we reach the second half of the chessboard.\n",
    "\n"
   ]
  },
  {
   "cell_type": "markdown",
   "id": "b5cf1adf-38dd-4d09-85c9-1abb5d225ba3",
   "metadata": {},
   "source": [
    "## [Problem 5] How many times is the second half as long as the first half?\n",
    "Find how many times the number of wheat in the second half of the chessboard is greater than the number of wheat in the first half. The first half is lines 0 to 3 of the array, and the second half is lines 4 to 7."
   ]
  },
  {
   "cell_type": "code",
   "execution_count": 97,
   "id": "0fe63ae9-1b05-476c-af84-0fe9129d4927",
   "metadata": {},
   "outputs": [
    {
     "name": "stdout",
     "output_type": "stream",
     "text": [
      "Wheat quantity on the first half 4294967295.0\n",
      "Wheat quantity on the second half 1.8446744069414584e+19\n",
      "The second half of the chessboard has 4294967296.0 more wheat than the fisrt half\n"
     ]
    }
   ],
   "source": [
    "first_half, second_half=np.vsplit(narrayBoard, 2)\n",
    "sum_first_half=np.sum(first_half)\n",
    "sum_second_half=np.sum(second_half)\n",
    "print(\"Wheat quantity on the first half\",sum_first_half)\n",
    "print(\"Wheat quantity on the second half\",sum_second_half)\n",
    "print(\"The second half of the chessboard has\",(sum_second_half/sum_first_half), \"times, more wheat than the fisrt half\")"
   ]
  },
  {
   "cell_type": "code",
   "execution_count": 104,
   "id": "83767672-892e-4de2-8079-87b0d58f1614",
   "metadata": {},
   "outputs": [
    {
     "data": {
      "text/plain": [
       "array([[1.00000000e+00, 2.00000000e+00, 4.00000000e+00, 8.00000000e+00,\n",
       "        1.60000000e+01, 3.20000000e+01, 6.40000000e+01, 1.28000000e+02],\n",
       "       [2.56000000e+02, 5.12000000e+02, 1.02400000e+03, 2.04800000e+03,\n",
       "        4.09600000e+03, 8.19200000e+03, 1.63840000e+04, 3.27680000e+04],\n",
       "       [6.55360000e+04, 1.31072000e+05, 2.62144000e+05, 5.24288000e+05,\n",
       "        1.04857600e+06, 2.09715200e+06, 4.19430400e+06, 8.38860800e+06],\n",
       "       [1.67772160e+07, 3.35544320e+07, 6.71088640e+07, 1.34217728e+08,\n",
       "        2.68435456e+08, 5.36870912e+08, 1.07374182e+09, 2.14748365e+09]])"
      ]
     },
     "execution_count": 104,
     "metadata": {},
     "output_type": "execute_result"
    }
   ],
   "source": [
    "first_half #First half of the chessboard"
   ]
  },
  {
   "cell_type": "code",
   "execution_count": 105,
   "id": "36c8b19e-9982-4468-a9ad-0791464abba0",
   "metadata": {},
   "outputs": [
    {
     "data": {
      "text/plain": [
       "array([[4.29496730e+09, 8.58993459e+09, 1.71798692e+10, 3.43597384e+10,\n",
       "        6.87194767e+10, 1.37438953e+11, 2.74877907e+11, 5.49755814e+11],\n",
       "       [1.09951163e+12, 2.19902326e+12, 4.39804651e+12, 8.79609302e+12,\n",
       "        1.75921860e+13, 3.51843721e+13, 7.03687442e+13, 1.40737488e+14],\n",
       "       [2.81474977e+14, 5.62949953e+14, 1.12589991e+15, 2.25179981e+15,\n",
       "        4.50359963e+15, 9.00719925e+15, 1.80143985e+16, 3.60287970e+16],\n",
       "       [7.20575940e+16, 1.44115188e+17, 2.88230376e+17, 5.76460752e+17,\n",
       "        1.15292150e+18, 2.30584301e+18, 4.61168602e+18, 9.22337204e+18]])"
      ]
     },
     "execution_count": 105,
     "metadata": {},
     "output_type": "execute_result"
    }
   ],
   "source": [
    "second_half #Second half of the chessboard"
   ]
  },
  {
   "cell_type": "markdown",
   "id": "f3e11a22-7285-4f5d-95a8-149d7b375e6d",
   "metadata": {},
   "source": [
    "# [Problem 6] Expansion to n × m mass by another calculation method\n",
    "Create a new function similar to Problem 2 that returns an ndarray containing the number of wheat squares on an n×m chessboard, one usingnp.append ()and one using broadcast.\n",
    "\n",
    "Use those functions again to find the number of wheat on an 8x8 square chess board.\n",
    "\n"
   ]
  },
  {
   "cell_type": "markdown",
   "id": "c55e3149-0a66-4981-908f-02adb9d37813",
   "metadata": {},
   "source": [
    "### Using np.append()"
   ]
  },
  {
   "cell_type": "code",
   "execution_count": 107,
   "id": "9dd6af00-e6df-4e7b-b9e3-8b07f5de370b",
   "metadata": {},
   "outputs": [
    {
     "name": "stdout",
     "output_type": "stream",
     "text": [
      "Arrange wheat on a plate of 4 squares (ndarray)：[1 2 4 8]\n"
     ]
    }
   ],
   "source": [
    "n_squares = 4\n",
    "indices_of_squares = np.arange(n_squares)\n",
    "small_board_ndarray = 2**indices_of_squares\n",
    "print(\"Arrange wheat on a plate of 4 squares (ndarray)：{}\".format(small_board_ndarray))"
   ]
  },
  {
   "cell_type": "code",
   "execution_count": 142,
   "id": "4e5f2029-3e78-493f-bb26-5e33e267f5d0",
   "metadata": {},
   "outputs": [
    {
     "name": "stdout",
     "output_type": "stream",
     "text": [
      "[[1.00000000e+00 2.00000000e+00 4.00000000e+00 8.00000000e+00\n",
      "  1.60000000e+01 3.20000000e+01 6.40000000e+01 1.28000000e+02]\n",
      " [2.56000000e+02 5.12000000e+02 1.02400000e+03 2.04800000e+03\n",
      "  4.09600000e+03 8.19200000e+03 1.63840000e+04 3.27680000e+04]\n",
      " [6.55360000e+04 1.31072000e+05 2.62144000e+05 5.24288000e+05\n",
      "  1.04857600e+06 2.09715200e+06 4.19430400e+06 8.38860800e+06]\n",
      " [1.67772160e+07 3.35544320e+07 6.71088640e+07 1.34217728e+08\n",
      "  2.68435456e+08 5.36870912e+08 1.07374182e+09 2.14748365e+09]\n",
      " [4.29496730e+09 8.58993459e+09 1.71798692e+10 3.43597384e+10\n",
      "  6.87194767e+10 1.37438953e+11 2.74877907e+11 5.49755814e+11]\n",
      " [1.09951163e+12 2.19902326e+12 4.39804651e+12 8.79609302e+12\n",
      "  1.75921860e+13 3.51843721e+13 7.03687442e+13 1.40737488e+14]\n",
      " [2.81474977e+14 5.62949953e+14 1.12589991e+15 2.25179981e+15\n",
      "  4.50359963e+15 9.00719925e+15 1.80143985e+16 3.60287970e+16]\n",
      " [7.20575940e+16 1.44115188e+17 2.88230376e+17 5.76460752e+17\n",
      "  1.15292150e+18 2.30584301e+18 4.61168602e+18 9.22337204e+18]]\n"
     ]
    }
   ],
   "source": [
    "def appending(n=8,m=8):\n",
    "    np.seterr(over='ignore')    \n",
    "    initial_board_ndarray = np.array([1])\n",
    "    initial_board_ndarray = initial_board_ndarray.astype('float64') \n",
    "    for _ in range((n*m) - 1):\n",
    "        initial_board_ndarray = np.append(initial_board_ndarray, 2*initial_board_ndarray[-1])\n",
    "    return initial_board_ndarray\n",
    "print((appending().reshape([8, 8])))"
   ]
  },
  {
   "cell_type": "markdown",
   "id": "13a84bf6-8832-4205-91bb-361c37cc90ed",
   "metadata": {},
   "source": [
    "### Using broadcast"
   ]
  },
  {
   "cell_type": "code",
   "execution_count": 144,
   "id": "e9fb97f5-9a4e-47ae-9bca-3ceb5843f1de",
   "metadata": {},
   "outputs": [
    {
     "name": "stdout",
     "output_type": "stream",
     "text": [
      "[[1.00000000e+00 2.00000000e+00 4.00000000e+00 8.00000000e+00\n",
      "  1.60000000e+01 3.20000000e+01 6.40000000e+01 1.28000000e+02]\n",
      " [2.56000000e+02 5.12000000e+02 1.02400000e+03 2.04800000e+03\n",
      "  4.09600000e+03 8.19200000e+03 1.63840000e+04 3.27680000e+04]\n",
      " [6.55360000e+04 1.31072000e+05 2.62144000e+05 5.24288000e+05\n",
      "  1.04857600e+06 2.09715200e+06 4.19430400e+06 8.38860800e+06]\n",
      " [1.67772160e+07 3.35544320e+07 6.71088640e+07 1.34217728e+08\n",
      "  2.68435456e+08 5.36870912e+08 1.07374182e+09 2.14748365e+09]\n",
      " [4.29496730e+09 8.58993459e+09 1.71798692e+10 3.43597384e+10\n",
      "  6.87194767e+10 1.37438953e+11 2.74877907e+11 5.49755814e+11]\n",
      " [1.09951163e+12 2.19902326e+12 4.39804651e+12 8.79609302e+12\n",
      "  1.75921860e+13 3.51843721e+13 7.03687442e+13 1.40737488e+14]\n",
      " [2.81474977e+14 5.62949953e+14 1.12589991e+15 2.25179981e+15\n",
      "  4.50359963e+15 9.00719925e+15 1.80143985e+16 3.60287970e+16]\n",
      " [7.20575940e+16 1.44115188e+17 2.88230376e+17 5.76460752e+17\n",
      "  1.15292150e+18 2.30584301e+18 4.61168602e+18 9.22337204e+18]]\n"
     ]
    }
   ],
   "source": [
    "def broadcasting(n=8,m=8):\n",
    "    np.seterr(over='ignore')    \n",
    "    board_ndarray = np.array([1])\n",
    "    n_squares = n*m\n",
    "    indices_of_squares = np.arange(n_squares)\n",
    "    board_ndarray = 2**indices_of_squares\n",
    "    board_ndarray = board_ndarray.astype('float64') \n",
    "    board_ndarray[-1]=-board_ndarray[-1]\n",
    "    return board_ndarray\n",
    "print((broadcasting().reshape([8, 8])))"
   ]
  },
  {
   "cell_type": "markdown",
   "id": "3f9d1fb7-4d8d-44e6-b8bf-c8bd93df70fb",
   "metadata": {},
   "source": [
    "# [Problem 7] Comparing calculation times\n",
    "We've seen three different ways. Each calculation time of Jupyter Notebook %% timeitPlease measure using and compare and consider.\n",
    "\n",
    "%% timeit Runs the code in the cell multiple times and outputs the average execution time."
   ]
  },
  {
   "cell_type": "code",
   "execution_count": 138,
   "id": "c5ac2ddf-81b9-47a3-9f82-a61be89151d7",
   "metadata": {},
   "outputs": [
    {
     "name": "stdout",
     "output_type": "stream",
     "text": [
      "7.54 μs ± 545 ns per loop (mean ± std. dev. of 7 runs, 100,000 loops each)\n"
     ]
    }
   ],
   "source": [
    "%%timeit\n",
    "broadcasting().reshape([8, 8])"
   ]
  },
  {
   "cell_type": "code",
   "execution_count": 146,
   "id": "b0ace0dc-2d93-47b2-96da-6ac9cb8bcf80",
   "metadata": {},
   "outputs": [
    {
     "name": "stdout",
     "output_type": "stream",
     "text": [
      "304 μs ± 31.8 μs per loop (mean ± std. dev. of 7 runs, 1,000 loops each)\n"
     ]
    }
   ],
   "source": [
    "%%timeit\n",
    "(appending().reshape([8, 8]))"
   ]
  },
  {
   "cell_type": "code",
   "execution_count": 148,
   "id": "ea38e2c1-73d0-4b27-b13c-8c345d86e8f1",
   "metadata": {},
   "outputs": [
    {
     "name": "stdout",
     "output_type": "stream",
     "text": [
      "23.9 μs ± 952 ns per loop (mean ± std. dev. of 7 runs, 10,000 loops each)\n"
     ]
    }
   ],
   "source": [
    "%%timeit\n",
    "nXm(8,8)"
   ]
  },
  {
   "cell_type": "code",
   "execution_count": null,
   "id": "942efa39-92d9-459b-bc45-32118ba8992f",
   "metadata": {},
   "outputs": [],
   "source": []
  }
 ],
 "metadata": {
  "kernelspec": {
   "display_name": "Python 3 (ipykernel)",
   "language": "python",
   "name": "python3"
  },
  "language_info": {
   "codemirror_mode": {
    "name": "ipython",
    "version": 3
   },
   "file_extension": ".py",
   "mimetype": "text/x-python",
   "name": "python",
   "nbconvert_exporter": "python",
   "pygments_lexer": "ipython3",
   "version": "3.10.12"
  }
 },
 "nbformat": 4,
 "nbformat_minor": 5
}
