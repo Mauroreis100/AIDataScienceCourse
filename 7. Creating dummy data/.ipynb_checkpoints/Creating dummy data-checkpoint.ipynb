{
 "cells": [
  {
   "cell_type": "markdown",
   "id": "364a79ec-384e-488f-9076-ecedf7a56fff",
   "metadata": {},
   "source": [
    "# Creating dummy data\n",
    "When experimenting with programs related to machine learning, there are times when you want to have random data (dummy data) that is not real data. Let's get familiar with NumPy by creating dummy data with random numbers that follow a normal distribution."
   ]
  },
  {
   "cell_type": "markdown",
   "id": "52a76391-8fef-4a1e-992d-74346a5495a8",
   "metadata": {},
   "source": [
    "## [Problem 1] Creating random numbers\n",
    "Create 500 random numbers with a two-dimensional normal distribution whose mean is (-3, 0) and whose covariance matrix is\n",
    "is\n",
    "\n",
    "\n",
    "$$\n",
    "\\begin{pmatrix}\n",
    "  1.0 & 0.8  \\\\\n",
    "  0.8 & 1.0  \\\\ \n",
    "\\end{pmatrix}\n",
    "$$\n",
    "Multidimensional normally distributed random numbers can be created by using np.random.multivariate_normal() .\n",
    "\n",
    "The shape of the created ndarray will be (500, 2).\n",
    "\n",
    "<Seed value>\n",
    "\n",
    "To ensure that the value does not change from one run to the next, we will fix the seed value of the random number using np.random.seed() . We will use a seed value of 0.\n",
    "\n",
    "np.random.seed(0)"
   ]
  },
  {
   "cell_type": "code",
   "execution_count": 23,
   "id": "b26ec735-7648-446f-bd1d-464657878a50",
   "metadata": {},
   "outputs": [
    {
     "ename": "TypeError",
     "evalue": "'tuple' object is not callable",
     "output_type": "error",
     "traceback": [
      "\u001b[0;31m---------------------------------------------------------------------------\u001b[0m",
      "\u001b[0;31mTypeError\u001b[0m                                 Traceback (most recent call last)",
      "Cell \u001b[0;32mIn[23], line 6\u001b[0m\n\u001b[1;32m      4\u001b[0m cov \u001b[38;5;241m=\u001b[39m [[\u001b[38;5;241m1\u001b[39m, \u001b[38;5;241m0.8\u001b[39m], [\u001b[38;5;241m0.8\u001b[39m, \u001b[38;5;241m1\u001b[39m]]\n\u001b[1;32m      5\u001b[0m x \u001b[38;5;241m=\u001b[39m np\u001b[38;5;241m.\u001b[39mrandom\u001b[38;5;241m.\u001b[39mmultivariate_normal(mean, cov, (\u001b[38;5;241m500\u001b[39m, \u001b[38;5;241m2\u001b[39m))\n\u001b[0;32m----> 6\u001b[0m \u001b[43mx\u001b[49m\u001b[38;5;241;43m.\u001b[39;49m\u001b[43mshape\u001b[49m\u001b[43m(\u001b[49m\u001b[43m)\u001b[49m\n\u001b[1;32m      7\u001b[0m np\u001b[38;5;241m.\u001b[39mrandom\u001b[38;5;241m.\u001b[39mseed(\u001b[38;5;241m0\u001b[39m)\n\u001b[1;32m      8\u001b[0m \u001b[38;5;28mprint\u001b[39m(x)\n",
      "\u001b[0;31mTypeError\u001b[0m: 'tuple' object is not callable"
     ]
    }
   ],
   "source": [
    "import numpy as np\n",
    "\n",
    "mean = (-3, 0)\n",
    "cov = [[1, 0.8], [0.8, 1]]\n",
    "x = np.random.multivariate_normal(mean, cov, (500, 2))\n",
    "x.shape()\n",
    "np.random.seed(0)\n",
    "print(x)"
   ]
  },
  {
   "cell_type": "markdown",
   "id": "d089821c-4543-4fa5-bc44-d3414e6e32a7",
   "metadata": {},
   "source": [
    "## [Problem 2] Visualization by scatter plot\n",
    "Visualize the data points created in Problem 1 with a scatter plot.\n",
    "\n",
    "Scatter plots can be drawn by using matplotlib's plt.scatter() ."
   ]
  },
  {
   "cell_type": "code",
   "execution_count": 20,
   "id": "87ad0b7c-7a63-4d58-863b-b46bc5015eab",
   "metadata": {},
   "outputs": [
    {
     "name": "stdout",
     "output_type": "stream",
     "text": [
      "[[-1.55620621  0.54569559]\n",
      " [-1.99817931  2.23559938]]\n"
     ]
    },
    {
     "data": {
      "text/plain": [
       "<matplotlib.collections.PathCollection at 0x7493a9fef220>"
      ]
     },
     "execution_count": 20,
     "metadata": {},
     "output_type": "execute_result"
    },
    {
     "data": {
      "image/png": "[encoded data removed]",
      "text/plain": [
       "<Figure size 640x480 with 1 Axes>"
      ]
     },
     "metadata": {},
     "output_type": "display_data"
    }
   ],
   "source": [
    "import matplotlib.pyplot as plt\n",
    "\n",
    "plt.scatter(x[0],x[1])"
   ]
  },
  {
   "cell_type": "code",
   "execution_count": null,
   "id": "77c6095e-d6d6-423c-b2af-02c639a4bd49",
   "metadata": {},
   "outputs": [],
   "source": []
  }
 ],
 "metadata": {
  "kernelspec": {
   "display_name": "Python 3 (ipykernel)",
   "language": "python",
   "name": "python3"
  },
  "language_info": {
   "codemirror_mode": {
    "name": "ipython",
    "version": 3
   },
   "file_extension": ".py",
   "mimetype": "text/x-python",
   "name": "python",
   "nbconvert_exporter": "python",
   "pygments_lexer": "ipython3",
   "version": "3.10.12"
  }
 },
 "nbformat": 4,
 "nbformat_minor": 5
}
