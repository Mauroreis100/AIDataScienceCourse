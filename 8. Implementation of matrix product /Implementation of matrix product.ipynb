{
 "cells": [
  {
   "cell_type": "markdown",
   "id": "9e1d21b5-edbe-4068-9b9c-83331c6cdb34",
   "metadata": {},
   "source": [
    "# Matrix product\n",
    "Consider the following matrices A and B.\n",
    "\n",
    "$$\n",
    "A=\n",
    "\\begin{bmatrix} \n",
    "-1 & 2 & 3\\\\\n",
    "4 & -5 & 6\\\\\n",
    "7 & 8 & -9\n",
    "\\end{bmatrix}\n",
    "$$\n",
    "\n",
    "$$\n",
    "B=\n",
    "\\begin{bmatrix} \n",
    "0 & 2 & 1\\\\\n",
    "0 & 2 & -8\\\\\n",
    "2 & 9 & -1\n",
    "\\end{bmatrix}\n",
    "$$\n",
    "When expressed in NumPy, it becomes as follows.\n"
   ]
  },
  {
   "cell_type": "code",
   "execution_count": 6,
   "id": "cc65fe04-dc23-47c5-ba17-a94a00408ab8",
   "metadata": {},
   "outputs": [
    {
     "name": "stdout",
     "output_type": "stream",
     "text": [
      "A= [[-1  2  3]\n",
      " [ 4 -5  6]\n",
      " [ 7  8 -9]] \n",
      "\n",
      "B= [[ 0  2  1]\n",
      " [ 0  2 -8]\n",
      " [ 2  9 -1]]\n"
     ]
    }
   ],
   "source": [
    "import numpy as np\n",
    "a_ndarray = np.array([[-1, 2, 3], [4, -5, 6], [7, 8, -9]])\n",
    "b_ndarray = np.array([[0, 2, 1], [0, 2, -8], [2, 9, -1]])\n",
    "print(\"A=\",a_ndarray,\"\\n\\nB=\",b_ndarray)"
   ]
  },
  {
   "cell_type": "markdown",
   "id": "4db09452-0eb5-476e-b551-43c761b0a150",
   "metadata": {},
   "source": [
    "## [Problem 1] Matrix product is calculated manually\n",
    "Solve the matrix product of A and B by hand.\n",
    "\n",
    "Please also explain the calculation process using markdown text."
   ]
  },
  {
   "cell_type": "markdown",
   "id": "e4da1b16-8eb4-4e3a-8ac1-ae61332d5d3f",
   "metadata": {},
   "source": [
    "Each element of the Product matrix AB can be calculated as follows:\n",
    "\n",
    "$$\n",
    "A=\n",
    "\\begin{bmatrix} \n",
    "a_11 & a_12 & a_13\\\\\n",
    "a_21 & a_22 & a_23\\\\\n",
    "a_31 & a_23 & a_33\n",
    "\\end{bmatrix}\n",
    "$$\n",
    "\n",
    "$$\n",
    "B=\n",
    "\\begin{bmatrix} \n",
    "b_11 & b_12 & b_13\\\\\n",
    "b_21 & b_22 & b_23\\\\\n",
    "b_31 & b_23 & b_33\n",
    "\\end{bmatrix}\n",
    "$$\n",
    "\n",
    "$$\n",
    "A*B=\n",
    "\\begin{bmatrix} \n",
    " a_11*b_11 + a_12*b_21 + a_13*b_31 & a_11*a_12 + a_12*b_22 + a_13*b_23 & a_11*b_13 + a_12*b_23 + a_13*b_33\\\\\n",
    "a_21*b_11 + a_22*b_21 + a_23*b_31 & a_21*a_12 + a_22*b_22 + a_23*b_23 & a_21*b_13 + a_22*b_23 + a_23*b_33\\\\\n",
    "a_31*b_11 + a_23*b_21 + a_33*b_31 & a_31*a_12 + a_23*b_22 + a_33*b_23 & a_31*b_23 + a_23*b_23 + a_33*b_33\n",
    "\\end{bmatrix}\n",
    "$$\n",
    "\n",
    "$$\n",
    "A*B=\n",
    "\\begin{bmatrix} \n",
    "6 & 29 & -20\\\\\n",
    "12 & 52 & 38\\\\\n",
    "-18 & -51 & -48\n",
    "\\end{bmatrix}\n",
    "$$"
   ]
  },
  {
   "cell_type": "markdown",
   "id": "e1e09c42-fa06-4f3a-8cfc-ae093e2b7716",
   "metadata": {},
   "source": [
    "## [Problem 2] Calculation by NumPy function\n",
    "\n",
    "This matrix product of NumPy can be easily calculated using np.matmul() or np.dot() , or the @ operator.\n",
    "\n",
    "Use these to calculate the matrix product."
   ]
  },
  {
   "cell_type": "code",
   "execution_count": 4,
   "id": "a03eb240-620a-472f-a5b2-696c3490924e",
   "metadata": {},
   "outputs": [
    {
     "name": "stdout",
     "output_type": "stream",
     "text": [
      "[[  6  29 -20]\n",
      " [ 12  52  38]\n",
      " [-18 -51 -48]]\n"
     ]
    }
   ],
   "source": [
    "import numpy as np\n",
    "matrix_product_A_B=np.matmul(a_ndarray, b_ndarray)\n",
    "print(matrix_product_A_B)"
   ]
  },
  {
   "cell_type": "code",
   "execution_count": 5,
   "id": "3c49de7b-64e6-459a-9058-fdb9d635541b",
   "metadata": {},
   "outputs": [
    {
     "name": "stdout",
     "output_type": "stream",
     "text": [
      "[[  6  29 -20]\n",
      " [ 12  52  38]\n",
      " [-18 -51 -48]]\n"
     ]
    }
   ],
   "source": [
    "print(a_ndarray@b_ndarray)"
   ]
  },
  {
   "cell_type": "markdown",
   "id": "933cc68f-91e3-44ae-a982-9f228b07e254",
   "metadata": {},
   "source": [
    "# 3. Scratch implementation of matrix product\n",
    "Without using np.matmul() , np.dot() , or @ operators, let's reproduce the calculation process performed by hand calculation from scratch implementation using NumPy. This will give you a better understanding of matrix product calculations. We limit ourselves to arrays of dimension 2 such as matrices A and B.\n",
    "\n",
    "## [Problem 3] Implementation of calculation of a certain element\n",
    "When doing the calculations by hand, you may have first paid attention to row 0 of matrix A and column 0 of matrix B, and then performed the following calculations.\n",
    "\n",
    "Expressed as a formula:\n",
    "$$\n",
    "% Summation in LaTeX\n",
    "\\[\n",
    "\\sum_{K=0}^{2}a0KbK0\n",
    "\\]\n",
    "$$\n",
    "Write code to do this calculation without using np.matmul() , np.dot() or @ operators."
   ]
  },
  {
   "cell_type": "code",
   "execution_count": 13,
   "id": "5761c543-f9b3-4c0e-95ae-23747e57e060",
   "metadata": {},
   "outputs": [
    {
     "name": "stdout",
     "output_type": "stream",
     "text": [
      "6\n"
     ]
    }
   ],
   "source": [
    "print(a_ndarray[0][0]*b_ndarray[0][0]+a_ndarray[0][1]*b_ndarray[1][0]+a_ndarray[0][2]*b_ndarray[2][0])"
   ]
  },
  {
   "cell_type": "markdown",
   "id": "cdc85570-6af6-4c2e-840c-7084d23cf989",
   "metadata": {},
   "source": [
    "## [Problem 4] Creating a function that performs matrix multiplication\n",
    "\n",
    "Extend the code in Problem 3 to complete the matrix product scratch implementation. It should be a function that takes matrices A and B as arguments and returns the matrix product.\n",
    "\n",
    "When calculating the matrix product, you will repeat the calculation in Problem 3 for different rows and columns.\n",
    "\n",
    "It is the calculation result 3 × 3 \n",
    "Each element of the matrix C of ci, j \n",
    "Is expressed as a formula as follows.\n",
    "\n",
    "$$\n",
    "% Summation in LaTeX\n",
    "Cij=\\[\n",
    "\\sum_{K=0}^{2}aiKbKj\n",
    "\\]\n",
    "$$\n",
    "By using the for statement and moving the index of ndarray, a total of 9 elements can be calculated. index  i Or j \n",
    "Increment by 1 to move to the next row or column."
   ]
  },
  {
   "cell_type": "code",
   "execution_count": 83,
   "id": "6fc49160-5ba9-478b-8f78-fd08fe35492c",
   "metadata": {},
   "outputs": [
    {
     "name": "stdout",
     "output_type": "stream",
     "text": [
      "[[  6.  29. -20.]\n",
      " [ 12.  52.  38.]\n",
      " [-18. -51. -48.]]\n"
     ]
    }
   ],
   "source": [
    "def matrix_calculation(a=a_ndarray,b=b_ndarray):    \n",
    "    result_array=np.zeros((a.shape[1],b.shape[1]))\n",
    "    for i in range(a.shape[0]):\n",
    "        counter=0\n",
    "        for l in range (b.shape[1]):\n",
    "            soma=0\n",
    "            for j in range (a.shape[1]): \n",
    "                soma=soma+(a[i][j]*b[j][l])\n",
    "            result_array[i][l]=soma\n",
    "    print(result_array)\n",
    "matrix_calculation()"
   ]
  },
  {
   "cell_type": "markdown",
   "id": "e3215d6d-634c-4c3d-ae19-41e32f695c2c",
   "metadata": {},
   "source": [
    "Imagine DxE matrix product\n",
    "The matrix product DE is defined when the number of columns of D is equal to the number of rows of E, so it cannot be calculated in this example.\n",
    "\n",
    "## [Problem 5] Judge the input whose calculation is not defined\n",
    "Depending on the implementation method, the function created in Problem 4 may work even if this D and E array is input. In this case, incorrect calculations will be made. Also, even if an error occurs in the middle, a message that is hard to understand why the error occurred is displayed directly.\n",
    "\n",
    "You can prevent this by using an if statement or similar, and add code to display the problem in the input form using print() ."
   ]
  },
  {
   "cell_type": "code",
   "execution_count": 89,
   "id": "873c68d4-f40d-42ef-bc5d-a5be8c164be3",
   "metadata": {},
   "outputs": [
    {
     "name": "stdout",
     "output_type": "stream",
     "text": [
      "If AxB are matrices and a calculation was supposed to be made an error has occured becaus the number of columns of A is equal to the number of rows of B\n"
     ]
    }
   ],
   "source": [
    "def matrix_calculation(a=np.array([[-1, 2, 3], [4, -5, 6]]),b=np.array([[-9, 8, 7], [6, -5, 4]])):    \n",
    "    if(a.shape[1]==b.shape[0]):\n",
    "        result_array=np.zeros((a.shape[1],b.shape[1]))\n",
    "        for i in range(a.shape[0]):\n",
    "            counter=0\n",
    "            for l in range (b.shape[1]):\n",
    "                soma=0\n",
    "                for j in range (a.shape[1]): \n",
    "                    soma=soma+(a[i][j]*b[j][l])\n",
    "                result_array[i][l]=soma\n",
    "        return result_array\n",
    "    else:\n",
    "        return \"If AxB are matrices and a calculation was supposed to be made an error has occured becaus the number of columns of A is equal to the number of rows of B\"\n",
    "print(matrix_calculation())"
   ]
  },
  {
   "cell_type": "markdown",
   "id": "92238d25-9b8b-4a84-a1fa-e8da89ee9eb9",
   "metadata": {},
   "source": [
    "## [Problem 6] Transposition\n",
    "Transposing one matrix allows you to calculate the matrix product.\n",
    "\n",
    "Transpose it using the np.transpose() or .T attributes and calculate the matrix product."
   ]
  },
  {
   "cell_type": "markdown",
   "id": "0074dec5-6074-46a3-a665-81095bb1e33c",
   "metadata": {},
   "source": [
    "<mark>A missmatch error will occur!!!<mark> "
   ]
  },
  {
   "cell_type": "code",
   "execution_count": 94,
   "id": "1759f53b-a124-441c-9e1d-c913665e00cc",
   "metadata": {},
   "outputs": [
    {
     "ename": "ValueError",
     "evalue": "matmul: Input operand 1 has a mismatch in its core dimension 0, with gufunc signature (n?,k),(k,m?)->(n?,m?) (size 2 is different from 3)",
     "output_type": "error",
     "traceback": [
      "\u001b[0;31m---------------------------------------------------------------------------\u001b[0m",
      "\u001b[0;31mValueError\u001b[0m                                Traceback (most recent call last)",
      "Cell \u001b[0;32mIn[94], line 3\u001b[0m\n\u001b[1;32m      1\u001b[0m mat_a\u001b[38;5;241m=\u001b[39mnp\u001b[38;5;241m.\u001b[39marray([[\u001b[38;5;241m-\u001b[39m\u001b[38;5;241m1\u001b[39m, \u001b[38;5;241m2\u001b[39m, \u001b[38;5;241m3\u001b[39m], [\u001b[38;5;241m4\u001b[39m, \u001b[38;5;241m-\u001b[39m\u001b[38;5;241m5\u001b[39m, \u001b[38;5;241m6\u001b[39m]])\n\u001b[1;32m      2\u001b[0m mat_b\u001b[38;5;241m=\u001b[39mnp\u001b[38;5;241m.\u001b[39marray([[\u001b[38;5;241m-\u001b[39m\u001b[38;5;241m9\u001b[39m, \u001b[38;5;241m8\u001b[39m, \u001b[38;5;241m7\u001b[39m], [\u001b[38;5;241m6\u001b[39m, \u001b[38;5;241m-\u001b[39m\u001b[38;5;241m5\u001b[39m, \u001b[38;5;241m4\u001b[39m]])\n\u001b[0;32m----> 3\u001b[0m matrix_product_try\u001b[38;5;241m=\u001b[39m\u001b[43mnp\u001b[49m\u001b[38;5;241;43m.\u001b[39;49m\u001b[43mmatmul\u001b[49m\u001b[43m(\u001b[49m\u001b[43mmat_a\u001b[49m\u001b[43m,\u001b[49m\u001b[43m \u001b[49m\u001b[43mmat_b\u001b[49m\u001b[43m)\u001b[49m\n\u001b[1;32m      4\u001b[0m \u001b[38;5;28mprint\u001b[39m(matrix_product_try)\n",
      "\u001b[0;31mValueError\u001b[0m: matmul: Input operand 1 has a mismatch in its core dimension 0, with gufunc signature (n?,k),(k,m?)->(n?,m?) (size 2 is different from 3)"
     ]
    }
   ],
   "source": [
    "mat_a=np.array([[-1, 2, 3], [4, -5, 6]])\n",
    "mat_b=np.array([[-9, 8, 7], [6, -5, 4]])\n",
    "matrix_product_try=np.matmul(mat_a, mat_b)\n",
    "print(matrix_product_try)"
   ]
  },
  {
   "cell_type": "code",
   "execution_count": 96,
   "id": "144c1b28-ea5f-46af-91f6-0c636798c516",
   "metadata": {},
   "outputs": [
    {
     "name": "stdout",
     "output_type": "stream",
     "text": [
      "[[ 46  -4]\n",
      " [-34  73]]\n"
     ]
    }
   ],
   "source": [
    "new_mat_b=np.transpose(mat_b) #Transposing matrix\n",
    "matrix_product_try=np.matmul(mat_a, new_mat_b)\n",
    "print(matrix_product_try)"
   ]
  },
  {
   "cell_type": "markdown",
   "id": "7a920e6e-997a-44f4-8a10-803b9e327cb5",
   "metadata": {},
   "source": [
    "And vice-versa... :)"
   ]
  },
  {
   "cell_type": "code",
   "execution_count": null,
   "id": "8f0f803f-7dcd-493c-9337-31c6e5d7e588",
   "metadata": {},
   "outputs": [],
   "source": []
  }
 ],
 "metadata": {
  "kernelspec": {
   "display_name": "Python 3 (ipykernel)",
   "language": "python",
   "name": "python3"
  },
  "language_info": {
   "codemirror_mode": {
    "name": "ipython",
    "version": 3
   },
   "file_extension": ".py",
   "mimetype": "text/x-python",
   "name": "python",
   "nbconvert_exporter": "python",
   "pygments_lexer": "ipython3",
   "version": "3.10.12"
  }
 },
 "nbformat": 4,
 "nbformat_minor": 5
}
