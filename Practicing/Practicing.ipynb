{
 "cells": [
  {
   "cell_type": "markdown",
   "id": "77b317e8-2262-4bfd-98c4-b724571e1ddc",
   "metadata": {},
   "source": [
    "# Métodos e Argumentos de Print"
   ]
  },
  {
   "cell_type": "code",
   "execution_count": 6,
   "id": "bd5aa0bb-8816-47e4-b272-b706e1c6d7f9",
   "metadata": {},
   "outputs": [
    {
     "name": "stdout",
     "output_type": "stream",
     "text": [
      "Mauro Mahassa\n"
     ]
    }
   ],
   "source": [
    "nome=\"Mauro Mahassa\"\n",
    "print(nome, end=\"\\n\") "
   ]
  },
  {
   "cell_type": "markdown",
   "id": "671dab37-676f-4bf6-b934-e1fdc71a6f89",
   "metadata": {},
   "source": [
    "# Lists and Tuples"
   ]
  },
  {
   "cell_type": "code",
   "execution_count": null,
   "id": "b7d593b3-1230-49d4-83d1-197385dd049a",
   "metadata": {},
   "outputs": [],
   "source": []
  },
  {
   "cell_type": "markdown",
   "id": "b1257883-cf67-4280-9cd4-b143a41bd34b",
   "metadata": {},
   "source": [
    "# COnditions"
   ]
  },
  {
   "cell_type": "code",
   "execution_count": 9,
   "id": "ff508f17-f75c-4767-9c3b-3f8408c4c2fb",
   "metadata": {},
   "outputs": [
    {
     "name": "stdout",
     "output_type": "stream",
     "text": [
      "Alice Is over 20\n"
     ]
    }
   ],
   "source": [
    "student_name=\"Alice\"\n",
    "student_age=20\n",
    "if student_age<20:\n",
    "    print(\"{} Is under 20\".format(student_name))\n",
    "else:\n",
    "    print(\"{} Is over 20\".format(student_name))"
   ]
  },
  {
   "cell_type": "code",
   "execution_count": null,
   "id": "91d56a8e-3b2a-4363-9114-6c50f8b7c050",
   "metadata": {},
   "outputs": [],
   "source": []
  }
 ],
 "metadata": {
  "kernelspec": {
   "display_name": "Python 3 (ipykernel)",
   "language": "python",
   "name": "python3"
  },
  "language_info": {
   "codemirror_mode": {
    "name": "ipython",
    "version": 3
   },
   "file_extension": ".py",
   "mimetype": "text/x-python",
   "name": "python",
   "nbconvert_exporter": "python",
   "pygments_lexer": "ipython3",
   "version": "3.10.12"
  }
 },
 "nbformat": 4,
 "nbformat_minor": 5
}
